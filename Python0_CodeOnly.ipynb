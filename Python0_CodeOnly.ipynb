{
  "nbformat": 4,
  "nbformat_minor": 0,
  "metadata": {
    "colab": {
      "name": "Python0-CodeOnly.ipynb",
      "provenance": [],
      "authorship_tag": "ABX9TyMqi2PlzeiuF+w88RHBD95g",
      "include_colab_link": true
    },
    "kernelspec": {
      "name": "python3",
      "display_name": "Python 3"
    }
  },
  "cells": [
    {
      "cell_type": "markdown",
      "metadata": {
        "id": "view-in-github",
        "colab_type": "text"
      },
      "source": [
        "<a href=\"https://colab.research.google.com/github/JoTaijiquan/Example-of-MVC-pattern-on-pure-Python-2015/blob/master/Python0_CodeOnly.ipynb\" target=\"_parent\"><img src=\"https://colab.research.google.com/assets/colab-badge.svg\" alt=\"Open In Colab\"/></a>"
      ]
    },
    {
      "cell_type": "code",
      "metadata": {
        "id": "U8T7xRoF0zSG",
        "colab_type": "code",
        "colab": {
          "base_uri": "https://localhost:8080/",
          "height": 34
        },
        "outputId": "f73fb8b5-5f61-4653-85a7-3962745c79ba"
      },
      "source": [
        "#Example 1-1-1\n",
        "\n",
        "print (\"hello, world!\")"
      ],
      "execution_count": null,
      "outputs": [
        {
          "output_type": "stream",
          "text": [
            "hello, world!\n"
          ],
          "name": "stdout"
        }
      ]
    },
    {
      "cell_type": "code",
      "metadata": {
        "id": "CIbdb5yi00eA",
        "colab_type": "code",
        "colab": {
          "base_uri": "https://localhost:8080/",
          "height": 34
        },
        "outputId": "002ead48-2e84-41d4-daba-be2fb5423c62"
      },
      "source": [
        "#Example 1-1-2\n",
        "\n",
        "print (\"สวัสดีชาวโลก\")"
      ],
      "execution_count": null,
      "outputs": [
        {
          "output_type": "stream",
          "text": [
            "สวัสดีชาวโลก\n"
          ],
          "name": "stdout"
        }
      ]
    },
    {
      "cell_type": "code",
      "metadata": {
        "id": "XCzlUgSH2RkW",
        "colab_type": "code",
        "colab": {
          "base_uri": "https://localhost:8080/",
          "height": 34
        },
        "outputId": "74d8ff79-dc77-4bba-e394-a1a4d0404a9f"
      },
      "source": [
        "#Example 1-1-3\n",
        "print (\"Hello\",\"สวัสดี\")"
      ],
      "execution_count": null,
      "outputs": [
        {
          "output_type": "stream",
          "text": [
            "Hello สวัสดี\n"
          ],
          "name": "stdout"
        }
      ]
    },
    {
      "cell_type": "code",
      "metadata": {
        "id": "vbWJb40Ov3OG",
        "colab_type": "code",
        "colab": {
          "base_uri": "https://localhost:8080/",
          "height": 51
        },
        "outputId": "cfd3cf1c-ad5f-497f-b3d7-0466f96352ab"
      },
      "source": [
        "#Example 1-1-4\n",
        "\n",
        "import sys\n",
        "print (sys.version)"
      ],
      "execution_count": null,
      "outputs": [
        {
          "output_type": "stream",
          "text": [
            "3.6.9 (default, Jul 17 2020, 12:50:27) \n",
            "[GCC 8.4.0]\n"
          ],
          "name": "stdout"
        }
      ]
    },
    {
      "cell_type": "code",
      "metadata": {
        "id": "bJ8I-XqjJCef",
        "colab_type": "code",
        "colab": {
          "base_uri": "https://localhost:8080/",
          "height": 34
        },
        "outputId": "44d028cd-e999-4830-8f2a-4f93ab3c1c6c"
      },
      "source": [
        "#Example 1-2-1\n",
        "\n",
        "print (3+4)"
      ],
      "execution_count": null,
      "outputs": [
        {
          "output_type": "stream",
          "text": [
            "7\n"
          ],
          "name": "stdout"
        }
      ]
    },
    {
      "cell_type": "code",
      "metadata": {
        "id": "fhHRkPk5648p",
        "colab_type": "code",
        "colab": {
          "base_uri": "https://localhost:8080/",
          "height": 119
        },
        "outputId": "5f590dc2-a82e-4ac9-e976-03e900d7a9a0"
      },
      "source": [
        "#Example 1-2-2\n",
        "\n",
        "print (3+4)\n",
        "print (4-3)\n",
        "print (3-4)\n",
        "print (3*4)\n",
        "print (4/2)\n",
        "print (4/3)"
      ],
      "execution_count": null,
      "outputs": [
        {
          "output_type": "stream",
          "text": [
            "7\n",
            "1\n",
            "-1\n",
            "12\n",
            "2.0\n",
            "1.3333333333333333\n"
          ],
          "name": "stdout"
        }
      ]
    },
    {
      "cell_type": "code",
      "metadata": {
        "id": "-siiZAPN7KNx",
        "colab_type": "code",
        "colab": {
          "base_uri": "https://localhost:8080/",
          "height": 153
        },
        "outputId": "06df3776-ddbd-4206-9cb0-20d4e6ddccf0"
      },
      "source": [
        "#Example 1-2-3\n",
        "\n",
        "print (2+3)\n",
        "print (2.5+3.5)\n",
        "print (2.0+3.0)\n",
        "print (2+3.0)\n",
        "print (3*0)\n",
        "print (3.0*0)\n",
        "print (4/2)\n",
        "print (0/3)"
      ],
      "execution_count": null,
      "outputs": [
        {
          "output_type": "stream",
          "text": [
            "5\n",
            "6.0\n",
            "5.0\n",
            "5.0\n",
            "0\n",
            "0.0\n",
            "2.0\n",
            "0.0\n"
          ],
          "name": "stdout"
        }
      ]
    },
    {
      "cell_type": "code",
      "metadata": {
        "id": "WT7EPopn8ALw",
        "colab_type": "code",
        "colab": {
          "base_uri": "https://localhost:8080/",
          "height": 102
        },
        "outputId": "1c695e25-b2fa-462e-f1b3-da0a407f37e9"
      },
      "source": [
        "#Example 1-2-4\n",
        "\n",
        "print (11/4)\n",
        "print (11//4)\n",
        "print (11%4)\n",
        "print (11.0//4.0)\n",
        "print (11.0%4)"
      ],
      "execution_count": null,
      "outputs": [
        {
          "output_type": "stream",
          "text": [
            "2.75\n",
            "2\n",
            "3\n",
            "2.0\n",
            "3.0\n"
          ],
          "name": "stdout"
        }
      ]
    },
    {
      "cell_type": "code",
      "metadata": {
        "id": "fiQGYhAw8Y3w",
        "colab_type": "code",
        "colab": {
          "base_uri": "https://localhost:8080/",
          "height": 85
        },
        "outputId": "29a6d6e7-e9e3-43e1-8ae9-de721b4703ed"
      },
      "source": [
        "#Example 1-2-5\n",
        "\n",
        "print (3**2)\n",
        "print (10**4)\n",
        "print (2.0**3)\n",
        "print (3**3.0)"
      ],
      "execution_count": null,
      "outputs": [
        {
          "output_type": "stream",
          "text": [
            "9\n",
            "10000\n",
            "8.0\n",
            "27.0\n"
          ],
          "name": "stdout"
        }
      ]
    },
    {
      "cell_type": "code",
      "metadata": {
        "id": "u7Z-Eyo49lAG",
        "colab_type": "code",
        "colab": {
          "base_uri": "https://localhost:8080/",
          "height": 51
        },
        "outputId": "03861e34-c8c0-4417-dae8-4fa9b5671e4f"
      },
      "source": [
        "#Example 1-2-6\n",
        "\n",
        "print (1+2*3+4)\n",
        "print ((1+2)*(3+4))"
      ],
      "execution_count": null,
      "outputs": [
        {
          "output_type": "stream",
          "text": [
            "11\n",
            "21\n"
          ],
          "name": "stdout"
        }
      ]
    },
    {
      "cell_type": "code",
      "metadata": {
        "id": "VN1SIo0y7qWo",
        "colab_type": "code",
        "colab": {
          "base_uri": "https://localhost:8080/",
          "height": 85
        },
        "outputId": "b20b2c41-e382-46d7-91e7-7cb79939074e"
      },
      "source": [
        "#Example 1-2-7\n",
        "\n",
        "print (type(3))\n",
        "print (type(3.1))\n",
        "print (type(3+2.0))\n",
        "print (type(1+2j))"
      ],
      "execution_count": null,
      "outputs": [
        {
          "output_type": "stream",
          "text": [
            "<class 'int'>\n",
            "<class 'float'>\n",
            "<class 'float'>\n",
            "<class 'complex'>\n"
          ],
          "name": "stdout"
        }
      ]
    },
    {
      "cell_type": "code",
      "metadata": {
        "id": "zOurFNXFKw-4",
        "colab_type": "code",
        "colab": {
          "base_uri": "https://localhost:8080/",
          "height": 85
        },
        "outputId": "92d8c1c7-cb27-4944-ebed-96445a7ecd3f"
      },
      "source": [
        "#Example 1-2-8\n",
        "\n",
        "print ((1+2j)+(2+3j))\n",
        "print ((1+1j)*(1+1j))\n",
        "print ((0+1j)*(0+1j))\n",
        "print ((0+1j)**2)"
      ],
      "execution_count": null,
      "outputs": [
        {
          "output_type": "stream",
          "text": [
            "(3+5j)\n",
            "2j\n",
            "(-1+0j)\n",
            "(-1+0j)\n"
          ],
          "name": "stdout"
        }
      ]
    },
    {
      "cell_type": "code",
      "metadata": {
        "id": "PNTih9nI1dBs",
        "colab_type": "code",
        "colab": {
          "base_uri": "https://localhost:8080/",
          "height": 153
        },
        "outputId": "e36cfc1a-b841-438a-ec69-a73303d60b64"
      },
      "source": [
        "#Example 1-3-1\n",
        "\n",
        "a = 2\n",
        "b = 3.1416\n",
        "c = \"ABC\"\n",
        "d = True\n",
        "e = False\n",
        "f = 4+3J\n",
        "g = 1e3\n",
        "h = None\n",
        "\n",
        "print (\"a =\",a)\n",
        "print (\"b =\",b)\n",
        "print (\"c =\",c)\n",
        "print (\"d =\",d)\n",
        "print (\"e =\",e)\n",
        "print (\"f =\",f)\n",
        "print (\"g =\",g)\n",
        "print (\"h =\",h)"
      ],
      "execution_count": null,
      "outputs": [
        {
          "output_type": "stream",
          "text": [
            "a = 2\n",
            "b = 3.1416\n",
            "c = ABC\n",
            "d = True\n",
            "e = False\n",
            "f = (4+3j)\n",
            "g = 1000.0\n",
            "h = None\n"
          ],
          "name": "stdout"
        }
      ]
    },
    {
      "cell_type": "code",
      "metadata": {
        "id": "IImMyyiN23rn",
        "colab_type": "code",
        "colab": {
          "base_uri": "https://localhost:8080/",
          "height": 153
        },
        "outputId": "6e14ba74-e59e-40bb-f1d5-413dff9f0a64"
      },
      "source": [
        "#Example 1-3-2\n",
        "\n",
        "a = 2; b = 3.1416; c = \"ABC\"\n",
        "d = True; e = False; f = 4+3J; \n",
        "g = 2e4; h = None\n",
        "\n",
        "print (\"type of a is\",type(a))\n",
        "print (\"type of b is\",type(b))\n",
        "print (\"type of c is\",type(c))\n",
        "print (\"type of d is\",type(d))\n",
        "print (\"type of e is\",type(e))\n",
        "print (\"type of f is\",type(f))\n",
        "print (\"type of g is\",type(g))\n",
        "print (\"type of h is\",type(h))"
      ],
      "execution_count": null,
      "outputs": [
        {
          "output_type": "stream",
          "text": [
            "type of a is <class 'int'>\n",
            "type of b is <class 'float'>\n",
            "type of c is <class 'str'>\n",
            "type of d is <class 'bool'>\n",
            "type of e is <class 'bool'>\n",
            "type of f is <class 'complex'>\n",
            "type of g is <class 'float'>\n",
            "type of h is <class 'NoneType'>\n"
          ],
          "name": "stdout"
        }
      ]
    },
    {
      "cell_type": "code",
      "metadata": {
        "id": "VAo1-cQh34Ov",
        "colab_type": "code",
        "colab": {
          "base_uri": "https://localhost:8080/",
          "height": 68
        },
        "outputId": "28fe06e1-d077-4b8a-c8e1-6a4bbc71b615"
      },
      "source": [
        "#Example 1-3-3\n",
        "\n",
        "a,b,c,d = 0,2,3.1416,\"ABC\"\n",
        "\n",
        "print (a)\n",
        "print (b)\n",
        "print (a,b,c,d)"
      ],
      "execution_count": null,
      "outputs": [
        {
          "output_type": "stream",
          "text": [
            "0\n",
            "2\n",
            "0 2 3.1416 ABC\n"
          ],
          "name": "stdout"
        }
      ]
    },
    {
      "cell_type": "code",
      "metadata": {
        "id": "ikc8xVdb5RMh",
        "colab_type": "code",
        "colab": {
          "base_uri": "https://localhost:8080/",
          "height": 85
        },
        "outputId": "70714383-60ee-4014-b53a-ccdb5049387f"
      },
      "source": [
        "#Example 1-3-4\n",
        "\n",
        "a,b = 10,3\n",
        "\n",
        "print (a+b)\n",
        "print (a-b)\n",
        "print (a*b)\n",
        "print (a/b)"
      ],
      "execution_count": null,
      "outputs": [
        {
          "output_type": "stream",
          "text": [
            "13\n",
            "7\n",
            "30\n",
            "3.3333333333333335\n"
          ],
          "name": "stdout"
        }
      ]
    },
    {
      "cell_type": "code",
      "metadata": {
        "id": "TCUaMJHA3xUV",
        "colab_type": "code",
        "colab": {
          "base_uri": "https://localhost:8080/",
          "height": 108
        },
        "outputId": "e85745ff-cf02-4c6c-ce9a-f5e272c56546"
      },
      "source": [
        "#Example 1-3-5\n",
        "\n",
        "a = 10\n",
        "b = a-3\n",
        "\n",
        "\n",
        "print (a)\n",
        "print (b)\n",
        "print()\n",
        "a=20\n",
        "print (a)\n",
        "print (b)"
      ],
      "execution_count": null,
      "outputs": [
        {
          "output_type": "stream",
          "text": [
            "10\n",
            "7\n",
            "\n",
            "20\n",
            "7\n"
          ],
          "name": "stdout"
        }
      ]
    },
    {
      "cell_type": "code",
      "metadata": {
        "id": "ktS7QXeW4BnL",
        "colab_type": "code",
        "colab": {
          "base_uri": "https://localhost:8080/",
          "height": 54
        },
        "outputId": "89cbbd0b-83f3-4b1d-b52a-bae591cf35ca"
      },
      "source": [
        "#Example 1-3-6\n",
        "\n",
        "a,b = 10,5\n",
        "c,d = a,b\n",
        "\n",
        "print (a,b,c,d)\n",
        "a,b = 7,3\n",
        "print (a,b,c,d)"
      ],
      "execution_count": null,
      "outputs": [
        {
          "output_type": "stream",
          "text": [
            "10 5 10 5\n",
            "7 3 10 5\n"
          ],
          "name": "stdout"
        }
      ]
    },
    {
      "cell_type": "code",
      "metadata": {
        "id": "pzLm7S-T4ywr",
        "colab_type": "code",
        "colab": {
          "base_uri": "https://localhost:8080/",
          "height": 34
        },
        "outputId": "54494822-7b78-4cb3-ae7f-3c65c20c2327"
      },
      "source": [
        "#Example 1-3-7\n",
        "\n",
        "a,b = 135, 246\n",
        "a,b = b,a\n",
        "\n",
        "print (a,b)"
      ],
      "execution_count": null,
      "outputs": [
        {
          "output_type": "stream",
          "text": [
            "321 123\n"
          ],
          "name": "stdout"
        }
      ]
    },
    {
      "cell_type": "code",
      "metadata": {
        "id": "uHHhJWZx5DHD",
        "colab_type": "code",
        "colab": {
          "base_uri": "https://localhost:8080/",
          "height": 72
        },
        "outputId": "aed51aeb-a134-47cd-a295-1a54bab91bd3"
      },
      "source": [
        "#Example 1-3-8\n",
        "\n",
        "a,b,c = 3,6,-8\n",
        "\n",
        "print (+a,-b,+c)\n",
        "print (++a, --b,-c)\n",
        "print (+-a, -+b,--c)"
      ],
      "execution_count": null,
      "outputs": [
        {
          "output_type": "stream",
          "text": [
            "3 -6 -8\n",
            "3 6 8\n",
            "-3 -6 -8\n"
          ],
          "name": "stdout"
        }
      ]
    },
    {
      "cell_type": "code",
      "metadata": {
        "id": "rJDOWcap54YS",
        "colab_type": "code",
        "colab": {
          "base_uri": "https://localhost:8080/",
          "height": 34
        },
        "outputId": "0df4c29f-28a3-4f53-af2f-d8d23a36ee57"
      },
      "source": [
        "#Example 1-3-9\n",
        "\n",
        "a,b,c = 1,4.2e3,-1\n",
        "\n",
        "a,b,c = b,c,a\n",
        "\n",
        "print (a,b,c)"
      ],
      "execution_count": null,
      "outputs": [
        {
          "output_type": "stream",
          "text": [
            "4200.0 -1 1\n"
          ],
          "name": "stdout"
        }
      ]
    },
    {
      "cell_type": "code",
      "metadata": {
        "id": "mS_1ZCJ39ahw",
        "colab_type": "code",
        "colab": {
          "base_uri": "https://localhost:8080/",
          "height": 34
        },
        "outputId": "a886dc0b-d677-4e51-cd0d-95e091315ff0"
      },
      "source": [
        "#Example 1-3-10\n",
        "\n",
        "a=2; b=5;\n",
        "\n",
        "a=a+2\n",
        "b=b*5\n",
        "\n",
        "print (a,b)"
      ],
      "execution_count": null,
      "outputs": [
        {
          "output_type": "stream",
          "text": [
            "4 25\n"
          ],
          "name": "stdout"
        }
      ]
    },
    {
      "cell_type": "code",
      "metadata": {
        "id": "S8WaGRQc-Q2w",
        "colab_type": "code",
        "colab": {
          "base_uri": "https://localhost:8080/",
          "height": 34
        },
        "outputId": "a083f778-425e-43b6-d2c0-b735a858bbdc"
      },
      "source": [
        "#Example 1-3-11\n",
        "\n",
        "a=2; b=5;\n",
        "\n",
        "a+=3\n",
        "b*=10\n",
        "\n",
        "print(a,b)"
      ],
      "execution_count": null,
      "outputs": [
        {
          "output_type": "stream",
          "text": [
            "5 50\n"
          ],
          "name": "stdout"
        }
      ]
    },
    {
      "cell_type": "code",
      "metadata": {
        "id": "ZVaiBhD9T04j",
        "colab_type": "code",
        "colab": {
          "base_uri": "https://localhost:8080/",
          "height": 35
        },
        "outputId": "53eea647-867f-48cc-8176-241a6f6932cc"
      },
      "source": [
        "#Example 1-3-12\n",
        "\n",
        "apple = 1\n",
        "ben10 = \"BenTen\"\n",
        "cake = \"Cake\"\n",
        "D_D = ben10 + \" and \" + cake\n",
        "\n",
        "print (apple,D_D)"
      ],
      "execution_count": null,
      "outputs": [
        {
          "output_type": "stream",
          "text": [
            "1 BenTen and Cake\n"
          ],
          "name": "stdout"
        }
      ]
    },
    {
      "cell_type": "code",
      "metadata": {
        "id": "L2iyfVxa-o0b",
        "colab_type": "code",
        "colab": {
          "base_uri": "https://localhost:8080/",
          "height": 68
        },
        "outputId": "724c8fea-5c65-42bb-bb55-addf55dfd2ec"
      },
      "source": [
        "#Example 1-4-1\n",
        "\n",
        "x = input(\"Input x \")\n",
        "\n",
        "print(x)\n",
        "print (type(x))"
      ],
      "execution_count": null,
      "outputs": [
        {
          "output_type": "stream",
          "text": [
            "Input x5\n",
            "5\n",
            "<class 'str'>\n"
          ],
          "name": "stdout"
        }
      ]
    },
    {
      "cell_type": "code",
      "metadata": {
        "id": "S5bDw4TZ_HM9",
        "colab_type": "code",
        "colab": {
          "base_uri": "https://localhost:8080/",
          "height": 231
        },
        "outputId": "ebb4fa96-9925-48bb-837b-49bc32a3d7e8"
      },
      "source": [
        "#Example 1-4-3\n",
        "\n",
        "a = input(\"Input a \")\n",
        "\n",
        "print (a)\n",
        "print (a+10)"
      ],
      "execution_count": null,
      "outputs": [
        {
          "output_type": "stream",
          "text": [
            "Input a10\n",
            "10\n"
          ],
          "name": "stdout"
        },
        {
          "output_type": "error",
          "ename": "TypeError",
          "evalue": "ignored",
          "traceback": [
            "\u001b[0;31m---------------------------------------------------------------------------\u001b[0m",
            "\u001b[0;31mTypeError\u001b[0m                                 Traceback (most recent call last)",
            "\u001b[0;32m<ipython-input-35-c081d23baf50>\u001b[0m in \u001b[0;36m<module>\u001b[0;34m()\u001b[0m\n\u001b[1;32m      4\u001b[0m \u001b[0;34m\u001b[0m\u001b[0m\n\u001b[1;32m      5\u001b[0m \u001b[0mprint\u001b[0m \u001b[0;34m(\u001b[0m\u001b[0ma\u001b[0m\u001b[0;34m)\u001b[0m\u001b[0;34m\u001b[0m\u001b[0;34m\u001b[0m\u001b[0m\n\u001b[0;32m----> 6\u001b[0;31m \u001b[0mprint\u001b[0m \u001b[0;34m(\u001b[0m\u001b[0ma\u001b[0m\u001b[0;34m+\u001b[0m\u001b[0;36m10\u001b[0m\u001b[0;34m)\u001b[0m\u001b[0;34m\u001b[0m\u001b[0;34m\u001b[0m\u001b[0m\n\u001b[0m",
            "\u001b[0;31mTypeError\u001b[0m: must be str, not int"
          ]
        }
      ]
    },
    {
      "cell_type": "code",
      "metadata": {
        "id": "Rzlx3y64_XoT",
        "colab_type": "code",
        "colab": {
          "base_uri": "https://localhost:8080/",
          "height": 85
        },
        "outputId": "6d0d5ec9-3360-49e0-fbc4-c0547417f798"
      },
      "source": [
        "#Example 1-4-4\n",
        "\n",
        "a = input(\"Input a \")\n",
        "\n",
        "a = int(a)\n",
        "print (a)\n",
        "print(type(a))\n",
        "print(a+10)"
      ],
      "execution_count": null,
      "outputs": [
        {
          "output_type": "stream",
          "text": [
            "Input a10\n",
            "10\n",
            "<class 'int'>\n",
            "20\n"
          ],
          "name": "stdout"
        }
      ]
    },
    {
      "cell_type": "code",
      "metadata": {
        "id": "nZimfW3b_5rP",
        "colab_type": "code",
        "colab": {
          "base_uri": "https://localhost:8080/",
          "height": 102
        },
        "outputId": "6e38b985-7665-4008-f546-30fa8bb235e1"
      },
      "source": [
        "#Example 1-4-5\n",
        "\n",
        "a = \"10\"\n",
        "b = int(a)\n",
        "c = float(a)\n",
        "d = str(a)\n",
        "\n",
        "print(a,b,c,d)\n",
        "print (\"type of a is \",type(a))\n",
        "print (\"type of b is \",type(b))\n",
        "print (\"type of c is \",type(c))\n",
        "print (\"type of d is \",type(d))"
      ],
      "execution_count": null,
      "outputs": [
        {
          "output_type": "stream",
          "text": [
            "10 10 10.0 10\n",
            "type of a is  <class 'str'>\n",
            "type of b is  <class 'int'>\n",
            "type of c is  <class 'float'>\n",
            "type of d is  <class 'str'>\n"
          ],
          "name": "stdout"
        }
      ]
    },
    {
      "cell_type": "code",
      "metadata": {
        "id": "m3SMtAVpCoC7",
        "colab_type": "code",
        "colab": {
          "base_uri": "https://localhost:8080/",
          "height": 51
        },
        "outputId": "4c65e67d-c17b-46c7-ac5d-069971493438"
      },
      "source": [
        "#Example 1-4-6\n",
        "\n",
        "a = \"5\"\n",
        "b = 5\n",
        "\n",
        "print (a*10)\n",
        "print (b*10)"
      ],
      "execution_count": null,
      "outputs": [
        {
          "output_type": "stream",
          "text": [
            "5555555555\n",
            "50\n"
          ],
          "name": "stdout"
        }
      ]
    },
    {
      "cell_type": "code",
      "metadata": {
        "id": "lI7Y3fTPDs4W",
        "colab_type": "code",
        "colab": {
          "base_uri": "https://localhost:8080/",
          "height": 34
        },
        "outputId": "5abdc07a-483a-4afe-f76b-14372d68a5e2"
      },
      "source": [
        "#Example 1-5-1\n",
        "\n",
        "a=10; b=11\n",
        "\n",
        "if a==10:\n",
        "  print (\"Yes a=10\")\n",
        "\n",
        "if b==10:\n",
        "  print(\"yes b=10\")"
      ],
      "execution_count": null,
      "outputs": [
        {
          "output_type": "stream",
          "text": [
            "Yes a=10\n"
          ],
          "name": "stdout"
        }
      ]
    },
    {
      "cell_type": "code",
      "metadata": {
        "id": "4zMOuS8uEyuW",
        "colab_type": "code",
        "colab": {
          "base_uri": "https://localhost:8080/",
          "height": 34
        },
        "outputId": "eea288ed-0c0d-4220-9b52-2cd99c18a05c"
      },
      "source": [
        "#Example 1-5-2\n",
        "\n",
        "a=11\n",
        "\n",
        "if a==10:\n",
        "  print(\"yes\")\n",
        "else:\n",
        "  print(\"no\")"
      ],
      "execution_count": null,
      "outputs": [
        {
          "output_type": "stream",
          "text": [
            "no\n"
          ],
          "name": "stdout"
        }
      ]
    },
    {
      "cell_type": "code",
      "metadata": {
        "id": "K1nAIQwtFK6n",
        "colab_type": "code",
        "colab": {
          "base_uri": "https://localhost:8080/",
          "height": 34
        },
        "outputId": "de833170-fb37-41ca-e64b-0eb83e3f8f5f"
      },
      "source": [
        "#Example 1-5-3\n",
        "\n",
        "a=11\n",
        "\n",
        "if a!=10:\n",
        "  print(a)\n",
        "else:\n",
        "  print(\"no\")"
      ],
      "execution_count": null,
      "outputs": [
        {
          "output_type": "stream",
          "text": [
            "11\n"
          ],
          "name": "stdout"
        }
      ]
    },
    {
      "cell_type": "code",
      "metadata": {
        "id": "WQYNAthhGJZC",
        "colab_type": "code",
        "colab": {
          "base_uri": "https://localhost:8080/",
          "height": 51
        },
        "outputId": "a8c9a81f-9cb4-4727-a2e1-da533aa539a8"
      },
      "source": [
        "#Example 1-5-4\n",
        "\n",
        "a = input (\"Input a \")\n",
        "a = int(a)\n",
        "\n",
        "if a==10:\n",
        "  print (\"10\")\n",
        "elif a==11:\n",
        "  print (\"ok\")\n",
        "elif a==12:\n",
        "  print (\"haha\")\n",
        "else:\n",
        "  print (\"NOOOO\")"
      ],
      "execution_count": null,
      "outputs": [
        {
          "output_type": "stream",
          "text": [
            "Input a 20\n",
            "NOOOO\n"
          ],
          "name": "stdout"
        }
      ]
    },
    {
      "cell_type": "code",
      "metadata": {
        "id": "hyDzvZJfBCCo",
        "colab_type": "code",
        "colab": {
          "base_uri": "https://localhost:8080/",
          "height": 68
        },
        "outputId": "518d63d0-42f6-4ad0-85df-ccb9d5987dae"
      },
      "source": [
        "#Example 1-5-5\n",
        "\n",
        "a = input (\"Input a \")\n",
        "a = int(a)\n",
        "\n",
        "if a==10:\n",
        "  print (\"a=10\")\n",
        "\n",
        "if a>10:\n",
        "  print (\"a>10\")\n",
        " \n",
        "if a<10:\n",
        "  print (\"a<10\")\n",
        "\n",
        "if a!=10:\n",
        "  print (\"a is not equal to 10\")"
      ],
      "execution_count": null,
      "outputs": [
        {
          "output_type": "stream",
          "text": [
            "Input a 8\n",
            "a<10\n",
            "a is not equal to 10\n"
          ],
          "name": "stdout"
        }
      ]
    },
    {
      "cell_type": "code",
      "metadata": {
        "id": "Pn_q48YZBsbg",
        "colab_type": "code",
        "colab": {
          "base_uri": "https://localhost:8080/",
          "height": 119
        },
        "outputId": "e473355b-fdc9-4cd2-cdf9-5f0d7b7ab25a"
      },
      "source": [
        "#Example 1-5-6\n",
        "\n",
        "a = 10\n",
        "\n",
        "print (a==10)\n",
        "print (a>10)\n",
        "print (a<10)\n",
        "print (a!=10)\n",
        "print (a>=10)\n",
        "print (a<=10)\n"
      ],
      "execution_count": null,
      "outputs": [
        {
          "output_type": "stream",
          "text": [
            "True\n",
            "False\n",
            "False\n",
            "False\n",
            "True\n",
            "True\n"
          ],
          "name": "stdout"
        }
      ]
    },
    {
      "cell_type": "code",
      "metadata": {
        "id": "Z73aSifUCW6a",
        "colab_type": "code",
        "colab": {
          "base_uri": "https://localhost:8080/",
          "height": 255
        },
        "outputId": "39d9196f-2b37-4fec-d420-e4c6843db80e"
      },
      "source": [
        "#Example 1-5-7\n",
        "\n",
        "a=True; b=False\n",
        "    \n",
        "print (\"True and True =\",a&a)\n",
        "print (\"True and False =\",a&b)\n",
        "print (\"False and False =\",b&b)\n",
        "\n",
        "print (\"True or True =\",a|True)\n",
        "print (\"True or False =\",a|False)\n",
        "print (\"False or False =\",b|b)\n",
        "\n",
        "print (\"Not True =\",not(a))\n",
        "print (\"a==a is\",a==a)\n",
        "print (\"9==8 is\",a==b)\n",
        "print (\"9>8 is\",9>8)\n",
        "print (\"8>=8 is\",8>=8)\n",
        "print (\"8!=9 is\",8!=9)\n",
        "\n",
        "print (int(a))\n",
        "print (int(b))"
      ],
      "execution_count": null,
      "outputs": [
        {
          "output_type": "stream",
          "text": [
            "True and True = True\n",
            "True and False = False\n",
            "False and False = False\n",
            "True or True = True\n",
            "True or False = True\n",
            "False or False = False\n",
            "Not True = False\n",
            "a==a is True\n",
            "9==8 is False\n",
            "9>8 is True\n",
            "8>=8 is True\n",
            "8!=9 is True\n",
            "1\n",
            "0\n"
          ],
          "name": "stdout"
        }
      ]
    },
    {
      "cell_type": "code",
      "metadata": {
        "id": "8TzfR5DeFgMO",
        "colab_type": "code",
        "colab": {
          "base_uri": "https://localhost:8080/",
          "height": 35
        },
        "outputId": "b4f90508-8894-43d6-a0f8-d1546d43f0a2"
      },
      "source": [
        "#Example 1-5-8\n",
        "\n",
        "a = True\n",
        "\n",
        "if a:\n",
        "  print (\"hahaha\")\n",
        "else:\n",
        "  print (\"hohoho\")"
      ],
      "execution_count": null,
      "outputs": [
        {
          "output_type": "stream",
          "text": [
            "hohoho\n"
          ],
          "name": "stdout"
        }
      ]
    },
    {
      "cell_type": "code",
      "metadata": {
        "id": "3ozDgJjsGyTu",
        "colab_type": "code",
        "colab": {
          "base_uri": "https://localhost:8080/",
          "height": 199
        },
        "outputId": "ec2b8c17-ce94-449a-8341-55939fc36068"
      },
      "source": [
        "#Example 1-6-1\n",
        "\n",
        "a = 0\n",
        "\n",
        "while a!=10:\n",
        "  print (a)\n",
        "  a+=1"
      ],
      "execution_count": null,
      "outputs": [
        {
          "output_type": "stream",
          "text": [
            "0\n",
            "1\n",
            "2\n",
            "3\n",
            "4\n",
            "5\n",
            "6\n",
            "7\n",
            "8\n",
            "9\n"
          ],
          "name": "stdout"
        }
      ]
    },
    {
      "cell_type": "code",
      "metadata": {
        "id": "lnA0rK2CJhGV",
        "colab_type": "code",
        "colab": {
          "base_uri": "https://localhost:8080/",
          "height": 108
        },
        "outputId": "c6ffdf88-388c-4c3f-85f7-dfd503b72c1b"
      },
      "source": [
        "#Example 1-6-2\n",
        "\n",
        "a = 10\n",
        "\n",
        "while a>1:\n",
        "  print (a)\n",
        "  a-=2"
      ],
      "execution_count": null,
      "outputs": [
        {
          "output_type": "stream",
          "text": [
            "10\n",
            "8\n",
            "6\n",
            "4\n",
            "2\n"
          ],
          "name": "stdout"
        }
      ]
    },
    {
      "cell_type": "code",
      "metadata": {
        "id": "z9_mWPKFJ7li",
        "colab_type": "code",
        "colab": {
          "base_uri": "https://localhost:8080/",
          "height": 90
        },
        "outputId": "17de440e-a02c-491c-8a90-122290f50234"
      },
      "source": [
        "#Example 1-6-3\n",
        "\n",
        "a = True\n",
        "\n",
        "while a:\n",
        "  x = input (\"Input x \")\n",
        "  if x==\"0\":\n",
        "    a = False\n",
        "    print (\"End Loop\")\n",
        "  else:\n",
        "    print (x)"
      ],
      "execution_count": null,
      "outputs": [
        {
          "output_type": "stream",
          "text": [
            "Input x 10\n",
            "10\n",
            "Input x 0\n",
            "End Loop\n"
          ],
          "name": "stdout"
        }
      ]
    },
    {
      "cell_type": "code",
      "metadata": {
        "id": "RkBQCuPur726",
        "colab_type": "code",
        "colab": {
          "base_uri": "https://localhost:8080/",
          "height": 54
        },
        "outputId": "625c41df-fbad-430f-a77a-bf1a19791d73"
      },
      "source": [
        "#Example 1-6-4\n",
        "\n",
        "while True:\n",
        "  x = input (\"input x \")\n",
        "  if x==\"0\":\n",
        "    print (\"End Loop\")\n",
        "    break\n",
        "  else:\n",
        "    print (x)"
      ],
      "execution_count": null,
      "outputs": [
        {
          "output_type": "stream",
          "text": [
            "input x 0\n",
            "End Loop\n"
          ],
          "name": "stdout"
        }
      ]
    },
    {
      "cell_type": "code",
      "metadata": {
        "id": "XtYHRDsxTLbu",
        "colab_type": "code",
        "colab": {
          "base_uri": "https://localhost:8080/",
          "height": 181
        },
        "outputId": "d5fd9b97-c074-4f5b-b555-b9a459abd4ed"
      },
      "source": [
        "#Example 1-6-5\n",
        "\n",
        "import random\n",
        "\n",
        "random.seed()\n",
        "y=random.randint(1,10)\n",
        "x=0\n",
        "\n",
        "while x!=y:\n",
        "  x = int(input(\"Input x (1-10)\"))\n",
        "  if x==y:\n",
        "    print (\"Yes, you win x=\",y,\"!!!\")\n",
        "  elif x>y:\n",
        "    print (\"Too high, try again.\")\n",
        "  elif x<y:\n",
        "    print (\"Too low, try again.\")\n",
        "    \n",
        "print (\"END GAME!!!\")\n"
      ],
      "execution_count": null,
      "outputs": [
        {
          "output_type": "stream",
          "text": [
            "Input x (1-10)5\n",
            "Too high, try again.\n",
            "Input x (1-10)3\n",
            "Too high, try again.\n",
            "Input x (1-10)1\n",
            "Too low, try again.\n",
            "Input x (1-10)2\n",
            "Yes, you win x= 2 !!!\n",
            "END GAME!!!\n"
          ],
          "name": "stdout"
        }
      ]
    },
    {
      "cell_type": "code",
      "metadata": {
        "id": "hpS1SnsqnaZ2",
        "colab_type": "code",
        "colab": {
          "base_uri": "https://localhost:8080/",
          "height": 199
        },
        "outputId": "71d84083-5620-43cd-efb1-e10d8d8a69ae"
      },
      "source": [
        "#Example 1-7-1\n",
        "\n",
        "for i in range(10):\n",
        "  print (i)"
      ],
      "execution_count": null,
      "outputs": [
        {
          "output_type": "stream",
          "text": [
            "0\n",
            "1\n",
            "2\n",
            "3\n",
            "4\n",
            "5\n",
            "6\n",
            "7\n",
            "8\n",
            "9\n"
          ],
          "name": "stdout"
        }
      ]
    },
    {
      "cell_type": "code",
      "metadata": {
        "id": "xmcFBgBbq-ab",
        "colab_type": "code",
        "colab": {
          "base_uri": "https://localhost:8080/",
          "height": 163
        },
        "outputId": "09668548-7ef6-4c60-c407-6a9092a0aa6b"
      },
      "source": [
        "#Example 1-7-2\n",
        "\n",
        "for i in range(2,10):\n",
        "  print (i,i+1)"
      ],
      "execution_count": null,
      "outputs": [
        {
          "output_type": "stream",
          "text": [
            "2 3\n",
            "3 4\n",
            "4 5\n",
            "5 6\n",
            "6 7\n",
            "7 8\n",
            "8 9\n",
            "9 10\n"
          ],
          "name": "stdout"
        }
      ]
    },
    {
      "cell_type": "code",
      "metadata": {
        "id": "shjbEEmprbsZ",
        "colab_type": "code",
        "colab": {
          "base_uri": "https://localhost:8080/",
          "height": 126
        },
        "outputId": "9eb8dd1b-308c-4da0-e352-cb4e06c88a00"
      },
      "source": [
        "#Example 1-7-3\n",
        "\n",
        "for i in range(1,20,2):\n",
        "  print (i)\n",
        "  if i>10:\n",
        "    break"
      ],
      "execution_count": null,
      "outputs": [
        {
          "output_type": "stream",
          "text": [
            "1\n",
            "3\n",
            "5\n",
            "7\n",
            "9\n",
            "11\n"
          ],
          "name": "stdout"
        }
      ]
    },
    {
      "cell_type": "code",
      "metadata": {
        "id": "NLI9KevZawfB",
        "colab_type": "code",
        "colab": {
          "base_uri": "https://localhost:8080/",
          "height": 108
        },
        "outputId": "d26ffe72-578e-4332-87d6-29775e7fe20a"
      },
      "source": [
        "#Example 1-8-1\n",
        "\n",
        "a=[9,2,5,3]\n",
        "b=[\"abc\",2,3,False]\n",
        "\n",
        "print (\"a=\",a)\n",
        "print (\"b=\",b)\n",
        "print (\"type of a is\",type(a))\n",
        "print (\"type of b is\",type(b))\n",
        "print (\"a+b =\",a+b)"
      ],
      "execution_count": null,
      "outputs": [
        {
          "output_type": "stream",
          "text": [
            "a= [9, 2, 5, 3]\n",
            "b= ['abc', 2, 3, False]\n",
            "type of a is <class 'list'>\n",
            "type of b is <class 'list'>\n",
            "a+b = [9, 2, 5, 3, 'abc', 2, 3, False]\n"
          ],
          "name": "stdout"
        }
      ]
    },
    {
      "cell_type": "code",
      "metadata": {
        "id": "haYijPSha82q",
        "colab_type": "code",
        "colab": {
          "base_uri": "https://localhost:8080/",
          "height": 126
        },
        "outputId": "fd8f3ae1-57ea-469c-f067-ac1cbbb76f37"
      },
      "source": [
        "#Example 1-8-2\n",
        "\n",
        "a =a=[9,2,5,3]\n",
        "b=[\"abc\",2,3,False]\n",
        "c = \"HELLO\"\n",
        "\n",
        "print (\"a[1] =\",a[1])\n",
        "print (\"b[0] =\",b[0])\n",
        "print (\"a[-2] =\",a[-2])\n",
        "print (\"a[1:4] =\",a[1:4])\n",
        "print (\"c[2] =\",c[2])\n",
        "print (\"c[2:] =\",c[2:])"
      ],
      "execution_count": null,
      "outputs": [
        {
          "output_type": "stream",
          "text": [
            "a[1] = 2\n",
            "b[0] = abc\n",
            "a[-2] = 5\n",
            "a[1:4] = [2, 5, 3]\n",
            "c[2] = L\n",
            "c[2:] = LLO\n"
          ],
          "name": "stdout"
        }
      ]
    },
    {
      "cell_type": "code",
      "metadata": {
        "id": "e6P21Y0sAAKT",
        "colab_type": "code",
        "colab": {
          "base_uri": "https://localhost:8080/",
          "height": 72
        },
        "outputId": "77f9283d-71f8-4a67-8166-8763c0c44a08"
      },
      "source": [
        "#Example 1-8-3\n",
        "\n",
        "a = [9,2,5,3,8,7]\n",
        "\n",
        "print (\"a=\",a)\n",
        "a[0]=7\n",
        "a[2]=[\"a\",\"Hello\",9+2]\n",
        "print (\"a=\",a)\n",
        "a[1:4] = 111,999\n",
        "print (\"a=\",a)"
      ],
      "execution_count": null,
      "outputs": [
        {
          "output_type": "stream",
          "text": [
            "a= [9, 2, 5, 3, 8, 7]\n",
            "a= [7, 2, ['a', 'Hello', 11], 3, 8, 7]\n",
            "a= [7, 111, 999, 8, 7]\n"
          ],
          "name": "stdout"
        }
      ]
    },
    {
      "cell_type": "code",
      "metadata": {
        "id": "-u9KVgZsAngs",
        "colab_type": "code",
        "colab": {
          "base_uri": "https://localhost:8080/",
          "height": 90
        },
        "outputId": "48f3bb72-f84c-4497-9dfe-a052d82a416f"
      },
      "source": [
        "#Example 1-8-4\n",
        "\n",
        "a = [[3,4,5],\n",
        "     [6,7,8],\n",
        "     [\"a\",\"b\",\"Hello\"]]\n",
        "\n",
        "print (a)\n",
        "print (a[1])\n",
        "print (a[2][1])\n",
        "print (a[2][2][2])"
      ],
      "execution_count": null,
      "outputs": [
        {
          "output_type": "stream",
          "text": [
            "[[3, 4, 5], [6, 7, 8], ['a', 'b', 'Hello']]\n",
            "[6, 7, 8]\n",
            "b\n",
            "l\n"
          ],
          "name": "stdout"
        }
      ]
    },
    {
      "cell_type": "code",
      "metadata": {
        "id": "Kr2gZWU4A9p6",
        "colab_type": "code",
        "colab": {
          "base_uri": "https://localhost:8080/",
          "height": 72
        },
        "outputId": "838bc262-68d6-4a09-dc36-8feab768d742"
      },
      "source": [
        "#Example 1-8-5\n",
        "\n",
        "a=[]\n",
        "\n",
        "print (\"1. a=\",a)\n",
        "a.append(\"hello\")\n",
        "print (\"2. a=\",a)\n",
        "a.append(\"wordl\")\n",
        "print (\"3. a=\",a)"
      ],
      "execution_count": null,
      "outputs": [
        {
          "output_type": "stream",
          "text": [
            "1. a= []\n",
            "2. a= ['hello']\n",
            "3. a= ['hello', 'wordl']\n"
          ],
          "name": "stdout"
        }
      ]
    },
    {
      "cell_type": "code",
      "metadata": {
        "id": "uf3cI0fYBrzO",
        "colab_type": "code",
        "colab": {
          "base_uri": "https://localhost:8080/",
          "height": 72
        },
        "outputId": "3729eca3-c9fb-4993-c044-5e2cbc384ad6"
      },
      "source": [
        "#Example 1-8-6\n",
        "\n",
        "a=[1,3,5,7,9]\n",
        "\n",
        "print (a)\n",
        "del a[1]\n",
        "print (a)\n",
        "del a[-1]\n",
        "print (a)"
      ],
      "execution_count": null,
      "outputs": [
        {
          "output_type": "stream",
          "text": [
            "[1, 3, 5, 7, 9]\n",
            "[1, 5, 7, 9]\n",
            "[1, 5, 7]\n"
          ],
          "name": "stdout"
        }
      ]
    },
    {
      "cell_type": "code",
      "metadata": {
        "id": "8qz_PjcUtco5",
        "colab_type": "code",
        "colab": {
          "base_uri": "https://localhost:8080/",
          "height": 52
        },
        "outputId": "d4976756-ca92-4064-e08f-866e26be242f"
      },
      "source": [
        "#Example 1-9-1\n",
        "\n",
        "def func_1_9_1():\n",
        "  print (\"ha ha ha\")\n",
        "\n",
        "if __name__ == \"__main__\":\n",
        "    func_1_9_1()\n",
        "    func_1_9_1()"
      ],
      "execution_count": null,
      "outputs": [
        {
          "output_type": "stream",
          "text": [
            "ha ha ha\n",
            "ha ha ha\n"
          ],
          "name": "stdout"
        }
      ]
    },
    {
      "cell_type": "code",
      "metadata": {
        "id": "aHv9dDbp1bIc",
        "colab_type": "code",
        "colab": {
          "base_uri": "https://localhost:8080/",
          "height": 90
        },
        "outputId": "ffecbba0-a6f9-44d0-8215-0183da87bd45"
      },
      "source": [
        "#Example 1-9-2\n",
        "\n",
        "def func_1_9_2(x):\n",
        "  print (\"x= \",x)\n",
        "\n",
        "if __name__ == \"__main__\":\n",
        "  func_1_9_2(10)\n",
        "  func_1_9_2(20)\n",
        "  func_1_9_2(\"hello\")\n",
        "  func_1_9_2(3+4)"
      ],
      "execution_count": null,
      "outputs": [
        {
          "output_type": "stream",
          "text": [
            "x=  10\n",
            "x=  20\n",
            "x=  hello\n",
            "x=  7\n"
          ],
          "name": "stdout"
        }
      ]
    },
    {
      "cell_type": "code",
      "metadata": {
        "id": "uo7yy4W_6jI2",
        "colab_type": "code",
        "colab": {
          "base_uri": "https://localhost:8080/",
          "height": 181
        },
        "outputId": "7dccd8e7-e96d-433a-b96e-434339dacfec"
      },
      "source": [
        "#Example 1-9-3\n",
        "\n",
        "def func_1_9_3(x,y):\n",
        "  print (\"x= \",x)\n",
        "  print (\"y= \",y)\n",
        "  print (\"\")\n",
        "\n",
        "if __name__==\"__main__\":\n",
        "  func_1_9_3(10,20)\n",
        "  func_1_9_3(10,\"hello\")\n",
        "  a,b = 10,20\n",
        "  func_1_9_3(a,b)"
      ],
      "execution_count": null,
      "outputs": [
        {
          "output_type": "stream",
          "text": [
            "x=  10\n",
            "y=  20\n",
            "\n",
            "x=  10\n",
            "y=  hello\n",
            "\n",
            "x=  10\n",
            "y=  20\n",
            "\n"
          ],
          "name": "stdout"
        }
      ]
    },
    {
      "cell_type": "code",
      "metadata": {
        "id": "0aI7zu7Z7Xzq",
        "colab_type": "code",
        "colab": {
          "base_uri": "https://localhost:8080/",
          "height": 72
        },
        "outputId": "ce17ad63-9a29-4681-e935-6fc65bcf45eb"
      },
      "source": [
        "#Example 1-9-4\n",
        "\n",
        "def func_1_9_4(x,y):\n",
        "  'การเปลียนแปลงค่าตัวแปรในฟังก์ชันไม่ส่งผลต่อตัวแปรนอกฟังก์ชัน'\n",
        "  x+=1\n",
        "  y+=2\n",
        "  print(\"func: x=\",x,\" y=\",y)\n",
        "\n",
        "if __name__==\"__main__\":\n",
        "  x=10; y=20\n",
        "  print(\"x=\",x,\" y=\",y)\n",
        "  func_1_9_4(x,y)\n",
        "  print(\"x=\",x,\" y=\",y)\n"
      ],
      "execution_count": null,
      "outputs": [
        {
          "output_type": "stream",
          "text": [
            "x= 10  y= 20\n",
            "func: x= 11  y= 22\n",
            "x= 10  y= 20\n"
          ],
          "name": "stdout"
        }
      ]
    },
    {
      "cell_type": "code",
      "metadata": {
        "id": "tJGFmut87-dP",
        "colab_type": "code",
        "colab": {
          "base_uri": "https://localhost:8080/",
          "height": 54
        },
        "outputId": "744ea4ab-e933-4ab9-baf7-6b323fe1f1d9"
      },
      "source": [
        "#Example 1-9-5\n",
        "\n",
        "def func_1_9_5(x,y):\n",
        "  z = x+y\n",
        "  return z\n",
        "\n",
        "if __name__==\"__main__\":\n",
        "  a = func_1_9_5(3,4)\n",
        "  print (a) \n",
        "  print(func_1_9_5(10,20))\n"
      ],
      "execution_count": null,
      "outputs": [
        {
          "output_type": "stream",
          "text": [
            "7\n",
            "30\n"
          ],
          "name": "stdout"
        }
      ]
    },
    {
      "cell_type": "code",
      "metadata": {
        "id": "sJ90lGDM8uth",
        "colab_type": "code",
        "colab": {
          "base_uri": "https://localhost:8080/",
          "height": 54
        },
        "outputId": "ef99b0cf-d59e-4059-b462-f769b9dc20c5"
      },
      "source": [
        "#Example 1-9-6\n",
        "\n",
        "def func_1_9_6(x,y):\n",
        "  return x+1, y+2\n",
        "\n",
        "if __name__==\"__main__\":\n",
        "  a,b = func_1_9_6(10,20)\n",
        "  print (a,b)\n",
        "  print (func_1_9_6(100,200))"
      ],
      "execution_count": null,
      "outputs": [
        {
          "output_type": "stream",
          "text": [
            "11 22\n",
            "(101, 202)\n"
          ],
          "name": "stdout"
        }
      ]
    }
  ]
}