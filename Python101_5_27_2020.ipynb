{
  "nbformat": 4,
  "nbformat_minor": 0,
  "metadata": {
    "colab": {
      "name": "Python101-5-27-2020.ipynb",
      "provenance": [],
      "collapsed_sections": [],
      "authorship_tag": "ABX9TyO/4IsFEXPG1v1eqvt0gbrp",
      "include_colab_link": true
    },
    "kernelspec": {
      "name": "python3",
      "display_name": "Python 3"
    }
  },
  "cells": [
    {
      "cell_type": "markdown",
      "metadata": {
        "id": "view-in-github",
        "colab_type": "text"
      },
      "source": [
        "<a href=\"https://colab.research.google.com/github/JoTaijiquan/Example-of-MVC-pattern-on-pure-Python-2015/blob/master/Python101_5_27_2020.ipynb\" target=\"_parent\"><img src=\"https://colab.research.google.com/assets/colab-badge.svg\" alt=\"Open In Colab\"/></a>"
      ]
    },
    {
      "cell_type": "markdown",
      "metadata": {
        "id": "HoYK_k68hb5p",
        "colab_type": "text"
      },
      "source": [
        "## **Python 101**\n",
        "updaet 5-27-2020\n"
      ]
    },
    {
      "cell_type": "code",
      "metadata": {
        "id": "PvPCpyhGmncg",
        "colab_type": "code",
        "colab": {
          "base_uri": "https://localhost:8080/",
          "height": 34
        },
        "outputId": "c89971fb-7239-4a84-b4b4-3f6a1ff4fe5d"
      },
      "source": [
        "#Example 1-1-1\n",
        "\n",
        "print (\"hello, world!\")"
      ],
      "execution_count": null,
      "outputs": [
        {
          "output_type": "stream",
          "text": [
            "hello, world!\n"
          ],
          "name": "stdout"
        }
      ]
    },
    {
      "cell_type": "code",
      "metadata": {
        "id": "7mlNEI2Yf7o-",
        "colab_type": "code",
        "colab": {
          "base_uri": "https://localhost:8080/",
          "height": 34
        },
        "outputId": "40d1317c-e6f6-4016-bb24-e4ab04c08ca2"
      },
      "source": [
        "#Example 1-1-2\n",
        "\n",
        "print (\"สวัสดีชาวโลก\")"
      ],
      "execution_count": null,
      "outputs": [
        {
          "output_type": "stream",
          "text": [
            "สวัสดีชาวโลก\n"
          ],
          "name": "stdout"
        }
      ]
    },
    {
      "cell_type": "code",
      "metadata": {
        "id": "fR-eel6ygylv",
        "colab_type": "code",
        "colab": {
          "base_uri": "https://localhost:8080/",
          "height": 34
        },
        "outputId": "d8a9908e-c106-4955-9944-9dfd2f5557e9"
      },
      "source": [
        "#Example 1-1-3\n",
        "\n",
        "def MyFirstFunction():\n",
        "    print (\"มาเขียนโปรแกรมภาษา Python อย่างสนุกสนานกันเถอะ\")\n",
        "\n",
        "if __name__ == \"__main__\":\n",
        "    MyFirstFunction()\n"
      ],
      "execution_count": null,
      "outputs": [
        {
          "output_type": "stream",
          "text": [
            "มาเขียนโปรแกรมภาษา Python อย่างสนุกสนานกันเถอะ\n"
          ],
          "name": "stdout"
        }
      ]
    },
    {
      "cell_type": "code",
      "metadata": {
        "id": "T0lyVg5_hs59",
        "colab_type": "code",
        "colab": {
          "base_uri": "https://localhost:8080/",
          "height": 105
        },
        "outputId": "1ac5a460-a3ff-4558-8214-06f841282a90"
      },
      "source": [
        "#Example 1-1-4\n",
        "\n",
        "'บันทึกสนุกๆ'\n",
        "def MySecondFunction():\n",
        "    'เขียนเล่น'\n",
        "    print (\"ขีดๆ\",\"เขียนๆ\",\"เรียนๆ\",\"เล่นๆ\")\n",
        "\n",
        "if __name__ == \"__main__\":\n",
        "    MySecondFunction()\n",
        "    print (\"Program Name is\",__name__)\n",
        "    print (\"Program Document is\",__doc__)\n",
        "    print (\"Function Name is\", MySecondFunction.__name__)\n",
        "    print (\"Function Document is\", MySecondFunction.__doc__)"
      ],
      "execution_count": null,
      "outputs": [
        {
          "output_type": "stream",
          "text": [
            "ขีดๆ เขียนๆ เรียนๆ เล่นๆ\n",
            "Program Name is __main__\n",
            "Program Document is บันทึกสนุกๆ\n",
            "Function Name is MySecondFunction\n",
            "Function Document is เขียนเล่น\n"
          ],
          "name": "stdout"
        }
      ]
    },
    {
      "cell_type": "code",
      "metadata": {
        "id": "WFokvirli4vt",
        "colab_type": "code",
        "colab": {
          "base_uri": "https://localhost:8080/",
          "height": 141
        },
        "outputId": "26963c72-3ea8-4ba2-d51f-1ea96800fe7f"
      },
      "source": [
        "#Example 1-2-1\n",
        "\n",
        "def func_1_2_1():\n",
        "    'รู้จักกับตัวแปร'\n",
        "\n",
        "    a = 2\n",
        "    b = 3.1416\n",
        "    c = \"ABC\"\n",
        "    d = True\n",
        "    e = False\n",
        "    f = 4+3j\n",
        "    g = None\n",
        "\n",
        "    print (\"a =\",a)\n",
        "    print (\"b =\",b)\n",
        "    print (\"c =\",c)\n",
        "    print (\"d =\",d)\n",
        "    print (\"e =\",e)\n",
        "    print (\"f =\",f)\n",
        "    print (\"g =\",g)\n",
        "    \n",
        "if __name__ == \"__main__\":\n",
        "    func_1_2_1()"
      ],
      "execution_count": null,
      "outputs": [
        {
          "output_type": "stream",
          "text": [
            "a = 2\n",
            "b = 3.1416\n",
            "c = ABC\n",
            "d = True\n",
            "e = False\n",
            "f = (4+3j)\n",
            "g = None\n"
          ],
          "name": "stdout"
        }
      ]
    },
    {
      "cell_type": "code",
      "metadata": {
        "id": "_B7RZlkRjU3K",
        "colab_type": "code",
        "colab": {
          "base_uri": "https://localhost:8080/",
          "height": 141
        },
        "outputId": "a78aadb1-6507-4ecd-c151-d8dff43f8bcc"
      },
      "source": [
        "#Example 1-2-2\n",
        "\n",
        "def func_1_2_2():\n",
        "    'ชนิดของตัวแปร'\n",
        "    \n",
        "    a = 2\n",
        "    b = 3.1416\n",
        "    c = \"ABC\"\n",
        "    d = True\n",
        "    e = False\n",
        "    f = 4+3j\n",
        "    g = None\n",
        "\n",
        "    print (\"type of a =\",type(a))\n",
        "    print (\"type of b =\",type(b))\n",
        "    print (\"type of c =\",type(c))\n",
        "    print (\"type of d =\",type(d))\n",
        "    print (\"type of e =\",type(e))\n",
        "    print (\"type of f =\",type(f))\n",
        "    print (\"type of g =\",type(g))\n",
        "\n",
        "if __name__ == \"__main__\":\n",
        "    func_1_2_2()"
      ],
      "execution_count": null,
      "outputs": [
        {
          "output_type": "stream",
          "text": [
            "type of a = <class 'int'>\n",
            "type of b = <class 'float'>\n",
            "type of c = <class 'str'>\n",
            "type of d = <class 'bool'>\n",
            "type of e = <class 'bool'>\n",
            "type of f = <class 'complex'>\n",
            "type of g = <class 'NoneType'>\n"
          ],
          "name": "stdout"
        }
      ]
    },
    {
      "cell_type": "code",
      "metadata": {
        "id": "TTuReS1qjXsy",
        "colab_type": "code",
        "colab": {
          "base_uri": "https://localhost:8080/",
          "height": 194
        },
        "outputId": "d5920864-f9ed-4209-ab8a-80c03227651e"
      },
      "source": [
        "#Example 1-2-3\n",
        "\n",
        "def func_1_2_3():\n",
        "    'การคำนวณทางคณิตศาสตร์'\n",
        "    a = 10\n",
        "    b = 3\n",
        "    c = 0+1j\n",
        "    \n",
        "    print (\"a+b =\",a+b)\n",
        "    print (\"a-b =\",a-b)\n",
        "    print (\"a*b =\",a*b)\n",
        "    print (\"a/b =\",a/b)\n",
        "    print (\"a%b =\",a%b)\n",
        "    print (\"a//b = \",a//b)\n",
        "    print (\"a**b =\",a**b)\n",
        "    print (\"(a+b)*(a-b)/13 =\",(a+b)*(a-b)/13)\n",
        "    print (\"c+c = \",c+c) \n",
        "    print (\"c*c =\",c*c)\n",
        "    \n",
        "if __name__ == \"__main__\":\n",
        "    func_1_2_3()"
      ],
      "execution_count": null,
      "outputs": [
        {
          "output_type": "stream",
          "text": [
            "a+b = 13\n",
            "a-b = 7\n",
            "a*b = 30\n",
            "a/b = 3.3333333333333335\n",
            "a%b = 1\n",
            "a//b =  3\n",
            "a**b = 1000\n",
            "(a+b)*(a-b)/13 = 7.0\n",
            "c+c =  2j\n",
            "c*c = (-1+0j)\n"
          ],
          "name": "stdout"
        }
      ]
    },
    {
      "cell_type": "code",
      "metadata": {
        "id": "BTdac2wMjjvc",
        "colab_type": "code",
        "colab": {
          "base_uri": "https://localhost:8080/",
          "height": 230
        },
        "outputId": "1212cebc-2439-4b95-d4ab-80d457a06faf"
      },
      "source": [
        "#Example 1-2-4\n",
        "\n",
        "def func_1_2_4():\n",
        "    'การดำเนินการทางตรรกะ True=จริง False=เท็จ'\n",
        "\n",
        "    a=True; b=False\n",
        "    \n",
        "    print (\"True and True =\",a&a)\n",
        "    print (\"True and False =\",a&b)\n",
        "    print (\"False and False =\",b&b)\n",
        "    print (\"True or True =\",a|True)\n",
        "    print (\"True or False =\",a|False)\n",
        "    print (\"False or False =\",b|b)\n",
        "    print (\"Not True =\",not(a))\n",
        "    print (\"a==a is\",a==a)\n",
        "    print (\"9==8 is\",a==b)\n",
        "    print (\"9>8 is\",9>8)\n",
        "    print (\"8>=8 is\",8>=8)\n",
        "    print (\"8!=9 is\",8!=9)\n",
        "    \n",
        "if __name__ == \"__main__\":\n",
        "    func_1_2_4()"
      ],
      "execution_count": null,
      "outputs": [
        {
          "output_type": "stream",
          "text": [
            "True and True = True\n",
            "True and False = False\n",
            "False and False = False\n",
            "True or True = True\n",
            "True or False = True\n",
            "False or False = False\n",
            "Not True = False\n",
            "a==a is True\n",
            "9==8 is False\n",
            "9>8 is True\n",
            "8>=8 is True\n",
            "8!=9 is True\n"
          ],
          "name": "stdout"
        }
      ]
    },
    {
      "cell_type": "code",
      "metadata": {
        "id": "86n3yzabjpfj",
        "colab_type": "code",
        "colab": {
          "base_uri": "https://localhost:8080/",
          "height": 105
        },
        "outputId": "ffecd546-0fdb-4f24-8032-af42931f1331"
      },
      "source": [
        "#Example 1-2-5\n",
        "\n",
        "def func_1_2_5():\n",
        "    'การทำงานกับตัวแปร'\n",
        "\n",
        "    a,b,c,d = 1,2,\"hello\", \"world\"\n",
        "\n",
        "    print (a,b,c,d)\n",
        "    print (a+b, c+d)\n",
        "    print (a*3, c*3)\n",
        "    a = a+4 \n",
        "    b+=7\n",
        "    print (a,b)\n",
        "    c+=\"!\"; d*=3\n",
        "    print (c,d)\n",
        "    \n",
        "if __name__ == \"__main__\":\n",
        "    func_1_2_5()"
      ],
      "execution_count": null,
      "outputs": [
        {
          "output_type": "stream",
          "text": [
            "1 2 hello world\n",
            "3 helloworld\n",
            "3 hellohellohello\n",
            "5 9\n",
            "hello! worldworldworld\n"
          ],
          "name": "stdout"
        }
      ]
    },
    {
      "cell_type": "code",
      "metadata": {
        "id": "U1XeHSuikaSN",
        "colab_type": "code",
        "colab": {
          "base_uri": "https://localhost:8080/",
          "height": 158
        },
        "outputId": "69b9286a-6978-45b3-9b96-337ceca0fc87"
      },
      "source": [
        "#Example 1-3-1\n",
        "\n",
        "def func_1_3_1():\n",
        "    'คำสั่ง input รับข้อมูลจากคีย์บอร์ด'\n",
        "\n",
        "    x = input (\"Input x \")\n",
        "    print (\"x=\",x)\n",
        "    print (\"x=\",x,type(x))\n",
        "    print (\"x+3 =\",x+\"3\")\n",
        "    x = int(x)\n",
        "    print (\"int(x) =\",x,type(x))\n",
        "    print (\"x+3 =\",x+3)\n",
        "    x = float(x)\n",
        "    print (\"float(x) =\",x,type(x))\n",
        "    print (\"x+3 =\",x+3)\n",
        "\n",
        "if __name__ == \"__main__\":\n",
        "    func_1_3_1()"
      ],
      "execution_count": null,
      "outputs": [
        {
          "output_type": "stream",
          "text": [
            "Input x 10\n",
            "x= 10\n",
            "x= 10 <class 'str'>\n",
            "x+3 = 103\n",
            "int(x) = 10 <class 'int'>\n",
            "x+3 = 13\n",
            "float(x) = 10.0 <class 'float'>\n",
            "x+3 = 13.0\n"
          ],
          "name": "stdout"
        }
      ]
    },
    {
      "cell_type": "code",
      "metadata": {
        "id": "YXfYfl-7knKz",
        "colab_type": "code",
        "colab": {
          "base_uri": "https://localhost:8080/",
          "height": 34
        },
        "outputId": "8d153006-49b1-4e1b-d18f-d9f89ce34b4e"
      },
      "source": [
        "#Example 1-3-2\n",
        "\n",
        "def func_1_3_2():\n",
        "    'if ถ้ามาแบบนี้ แล้วจะไปแบบไหน'\n",
        "    x=10; y=11\n",
        "\n",
        "    if x==10:\n",
        "        print (\"Yes, x =\",x)\n",
        "    \n",
        "    if y==10:\n",
        "        print (\"Yes, y =\",y)\n",
        "        \n",
        "if __name__ == \"__main__\":\n",
        "    func_1_3_2()"
      ],
      "execution_count": null,
      "outputs": [
        {
          "output_type": "stream",
          "text": [
            "Yes, x = 10\n"
          ],
          "name": "stdout"
        }
      ]
    },
    {
      "cell_type": "code",
      "metadata": {
        "id": "DwOKNMytkwAc",
        "colab_type": "code",
        "colab": {
          "base_uri": "https://localhost:8080/",
          "height": 52
        },
        "outputId": "5505e7e6-e387-462f-f5c0-d1f1007d57e7"
      },
      "source": [
        "#Example 1-3-3\n",
        "\n",
        "def func_1_3_3():\n",
        "    'สร้างเกมทายตัวเลข'\n",
        "\n",
        "    x=input(\"Input x (guess 1-10) \")\n",
        "\n",
        "    if x==\"10\":\n",
        "        print (\"Yes, you win x=10!!!\")\n",
        "    else:\n",
        "        print (\"Nooo, try again (try 10)\")\n",
        "        \n",
        "if __name__ == \"__main__\":\n",
        "    func_1_3_3()"
      ],
      "execution_count": null,
      "outputs": [
        {
          "output_type": "stream",
          "text": [
            "Input x (guess 1-10) ถ\n",
            "Nooo, try again (try 10)\n"
          ],
          "name": "stdout"
        }
      ]
    },
    {
      "cell_type": "code",
      "metadata": {
        "id": "N-eQgL4Om9wm",
        "colab_type": "code",
        "colab": {
          "base_uri": "https://localhost:8080/",
          "height": 52
        },
        "outputId": "417c7fc9-67cd-4a36-d36f-4fab83d83405"
      },
      "source": [
        "#Example 1-3-4\n",
        "\n",
        "def func_1_3_4():\n",
        "    'พัฒนาเกมทายตัวเลข'\n",
        "\n",
        "    x=input(\"Input x (guess 1-10) \")\n",
        "\n",
        "    if x==\"10\":\n",
        "        print (\"Yes, you win x=10!!!\")\n",
        "    elif x==\"9\":\n",
        "        print (\"Too low, try again (try 11)\")\n",
        "    elif x==\"11\":\n",
        "        print (\"Too high, try again (try 10)\")\n",
        "    else:\n",
        "        print (\"Nooo, try again (try 11)\")\n",
        "        \n",
        "if __name__ == \"__main__\":\n",
        "    func_1_3_4()"
      ],
      "execution_count": null,
      "outputs": [
        {
          "output_type": "stream",
          "text": [
            "Input x (guess 1-10) 10\n",
            "Yes, you win x=10!!!\n"
          ],
          "name": "stdout"
        }
      ]
    },
    {
      "cell_type": "code",
      "metadata": {
        "id": "bAqYqiHBuTu0",
        "colab_type": "code",
        "colab": {
          "base_uri": "https://localhost:8080/",
          "height": 105
        },
        "outputId": "3517d77e-bc34-43d4-ab1a-33aa3164c763"
      },
      "source": [
        "#Example 1-3-5\n",
        "\n",
        "def func_1_3_5():\n",
        "    'while ทำงานเป็นวงรอบ ตราบที่ยังเป็นจริง'\n",
        "\n",
        "    x=0\n",
        "    while x!=10:\n",
        "        x = input (\"Input x \")\n",
        "        x = int(x)\n",
        "\n",
        "        if x==10:\n",
        "            print (\"Yes, you win x=10!!!\")\n",
        "        elif x>10:\n",
        "            print (\"Too high, try again.\")\n",
        "        elif x<10:\n",
        "            print (\"Too low, try again.\")\n",
        "    \n",
        "    print (\"END GAME!!!\")\n",
        "\n",
        "if __name__ == \"__main__\":\n",
        "    func_1_3_5()"
      ],
      "execution_count": null,
      "outputs": [
        {
          "output_type": "stream",
          "text": [
            "Input x 5\n",
            "Too low, try again.\n",
            "Input x 10\n",
            "Yes, you win x=10!!!\n",
            "END GAME!!!\n"
          ],
          "name": "stdout"
        }
      ]
    },
    {
      "cell_type": "code",
      "metadata": {
        "id": "qORTOpIKueXE",
        "colab_type": "code",
        "colab": {
          "base_uri": "https://localhost:8080/",
          "height": 34
        },
        "outputId": "373459ae-fb7f-4dd7-ca5b-f02e4479c623"
      },
      "source": [
        "#Example 1-3-6\n",
        "\n",
        "import random\n",
        "\n",
        "def func_1_3_6():\n",
        "    'การสร้างตัวเลขสุ่ม คำสั่ง random.seed() จะใช้ค่าตั้งต้นจากนาฬิกาของระบบ'\n",
        "\n",
        "    random.seed()\n",
        "    x = random.randint(1,10)\n",
        "    print (x)\n",
        "\n",
        "if __name__ == \"__main__\":\n",
        "    func_1_3_6()"
      ],
      "execution_count": null,
      "outputs": [
        {
          "output_type": "stream",
          "text": [
            "8\n"
          ],
          "name": "stdout"
        }
      ]
    },
    {
      "cell_type": "code",
      "metadata": {
        "id": "xxjnKZpduvOM",
        "colab_type": "code",
        "colab": {
          "base_uri": "https://localhost:8080/",
          "height": 176
        },
        "outputId": "189cae6e-19b8-4a8d-a3dd-7e058cc614de"
      },
      "source": [
        "#Example 1-3-7\n",
        "\n",
        "import random\n",
        "\n",
        "def func_1_3_7():\n",
        "    'นำ random ไปทำเป็นเกมทายตัวเลข'\n",
        "\n",
        "    x=0\n",
        "    random.seed()\n",
        "    y=random.randint(1,10)\n",
        "\n",
        "    while x!=y:\n",
        "        x = int(input(\"Input x (1-10)\"))\n",
        "        if x==y:\n",
        "            print (\"Yes, you win x=\",y,\"!!!\")\n",
        "        elif x>y:\n",
        "            print (\"Too high, try again.\")\n",
        "        elif x<y:\n",
        "            print (\"Too low, try again.\")\n",
        "    \n",
        "    print (\"END GAME!!!\")\n",
        "\n",
        "if __name__ == \"__main__\":\n",
        "    func_1_3_7()"
      ],
      "execution_count": null,
      "outputs": [
        {
          "output_type": "stream",
          "text": [
            "Input x (1-10)5\n",
            "Too high, try again.\n",
            "Input x (1-10)10\n",
            "Too high, try again.\n",
            "Input x (1-10)3\n",
            "Too low, try again.\n",
            "Input x (1-10)4\n",
            "Yes, you win x= 4 !!!\n",
            "END GAME!!!\n"
          ],
          "name": "stdout"
        }
      ]
    },
    {
      "cell_type": "code",
      "metadata": {
        "id": "Wuzoo5Spuwzt",
        "colab_type": "code",
        "colab": {
          "base_uri": "https://localhost:8080/",
          "height": 194
        },
        "outputId": "37daf7a5-fab1-4e9f-a7cc-f8614cd34cf9"
      },
      "source": [
        "#Example 1-4-1\n",
        "\n",
        "def func_1_4_1():\n",
        "    'การทำงานเป็นวงรอบด้วยคำสั่ง for'\n",
        "\n",
        "    for i in range(10):\n",
        "        print (i)\n",
        "if __name__ == \"__main__\":\n",
        "    func_1_4_1()"
      ],
      "execution_count": null,
      "outputs": [
        {
          "output_type": "stream",
          "text": [
            "0\n",
            "1\n",
            "2\n",
            "3\n",
            "4\n",
            "5\n",
            "6\n",
            "7\n",
            "8\n",
            "9\n"
          ],
          "name": "stdout"
        }
      ]
    },
    {
      "cell_type": "code",
      "metadata": {
        "id": "pIFktS4EwBrJ",
        "colab_type": "code",
        "colab": {
          "base_uri": "https://localhost:8080/",
          "height": 158
        },
        "outputId": "c94bdb55-0e9e-452b-9f52-8e756dce3c2e"
      },
      "source": [
        "#Example 1-4-2\n",
        "\n",
        "def func_1_4_2():\n",
        "    'กำหนดค่าใน range() สำหรับคำสั่ง for'\n",
        "\n",
        "    for i in range(2,10):\n",
        "        print (i,i+1)\n",
        "if __name__ == \"__main__\":\n",
        "    func_1_4_2()"
      ],
      "execution_count": null,
      "outputs": [
        {
          "output_type": "stream",
          "text": [
            "2 3\n",
            "3 4\n",
            "4 5\n",
            "5 6\n",
            "6 7\n",
            "7 8\n",
            "8 9\n",
            "9 10\n"
          ],
          "name": "stdout"
        }
      ]
    },
    {
      "cell_type": "code",
      "metadata": {
        "id": "OwtZ6ahAwGA6",
        "colab_type": "code",
        "colab": {
          "base_uri": "https://localhost:8080/",
          "height": 123
        },
        "outputId": "35575f58-fc2c-4829-e902-db82d67c51e4"
      },
      "source": [
        "#Example 1-4-3\n",
        "\n",
        "def func_1_4_3():\n",
        "    'กำหนดค่าใน range ให้ข้ามทีละ 2'\n",
        "\n",
        "    for i in range(1,20,2):\n",
        "        print (i)\n",
        "        if i>10:\n",
        "            break\n",
        "if __name__ == \"__main__\":\n",
        "    func_1_4_3()"
      ],
      "execution_count": null,
      "outputs": [
        {
          "output_type": "stream",
          "text": [
            "1\n",
            "3\n",
            "5\n",
            "7\n",
            "9\n",
            "11\n"
          ],
          "name": "stdout"
        }
      ]
    },
    {
      "cell_type": "code",
      "metadata": {
        "id": "xo4aeu94wLSV",
        "colab_type": "code",
        "colab": {
          "base_uri": "https://localhost:8080/",
          "height": 247
        },
        "outputId": "eef51551-4f05-4f22-c821-816c6418cc09"
      },
      "source": [
        "#Example 1-4-4\n",
        "\n",
        "def func_1_4_4():\n",
        "    'ตรวจสอบเงื่อนไขของวงรอบในคำสั่ง while'\n",
        "    y = 2\n",
        "    \n",
        "    while y<10000:\n",
        "        print (\"y=\",y)\n",
        "        y*=2\n",
        "\n",
        "if __name__ == \"__main__\":\n",
        "    func_1_4_4()"
      ],
      "execution_count": null,
      "outputs": [
        {
          "output_type": "stream",
          "text": [
            "y= 2\n",
            "y= 4\n",
            "y= 8\n",
            "y= 16\n",
            "y= 32\n",
            "y= 64\n",
            "y= 128\n",
            "y= 256\n",
            "y= 512\n",
            "y= 1024\n",
            "y= 2048\n",
            "y= 4096\n",
            "y= 8192\n"
          ],
          "name": "stdout"
        }
      ]
    },
    {
      "cell_type": "code",
      "metadata": {
        "id": "ASjdmCIlwPyv",
        "colab_type": "code",
        "colab": {
          "base_uri": "https://localhost:8080/",
          "height": 52
        },
        "outputId": "16346c04-f7c3-479f-ef4e-9eb450fd2ef1"
      },
      "source": [
        "#Example 1-4-5\n",
        "\n",
        "def func_1_4_5():\n",
        "    'while True วงรอบอนันต์ ทำงานไปเรื่อยๆ จนกว่าจะเจอ break'\n",
        "\n",
        "    while True:\n",
        "        x = input (\"Input 1-10 (10 to Break) \")\n",
        "        if x==\"10\":\n",
        "            print (\"END LOOP!!!\")\n",
        "            break\n",
        "        else:\n",
        "            print (\"x =\",x)\n",
        "if __name__ == \"__main__\":\n",
        "    func_1_4_5()"
      ],
      "execution_count": null,
      "outputs": [
        {
          "output_type": "stream",
          "text": [
            "Input 1-10 (10 to Break) 10\n",
            "END LOOP!!!\n"
          ],
          "name": "stdout"
        }
      ]
    },
    {
      "cell_type": "code",
      "metadata": {
        "id": "rS-H2KqFwUqg",
        "colab_type": "code",
        "colab": {
          "base_uri": "https://localhost:8080/",
          "height": 105
        },
        "outputId": "a050fab7-e031-4aa0-920b-4b006a5e46ae"
      },
      "source": [
        "#Example 1-5-1\n",
        "\n",
        "def func_1_5_1():\n",
        "    'ตัวแปรชนิด list'\n",
        "    \n",
        "    a = [9,2,5,3,8,7]\n",
        "    b = [\"abc\",2,3,False]\n",
        "\n",
        "    print (\"a =\",a)\n",
        "    print (\"b =\",b)\n",
        "    print (\"type of a =\",type(a))\n",
        "    print (\"type of b =\",type(b))\n",
        "    print (\"a+b =\",a+b)\n",
        "\n",
        "if __name__ == \"__main__\":\n",
        "    func_1_5_1()"
      ],
      "execution_count": null,
      "outputs": [
        {
          "output_type": "stream",
          "text": [
            "a = [9, 2, 5, 3, 8, 7]\n",
            "b = ['abc', 2, 3, False]\n",
            "type of a = <class 'list'>\n",
            "type of b = <class 'list'>\n",
            "a+b = [9, 2, 5, 3, 8, 7, 'abc', 2, 3, False]\n"
          ],
          "name": "stdout"
        }
      ]
    },
    {
      "cell_type": "code",
      "metadata": {
        "id": "nmI2jOugwnEN",
        "colab_type": "code",
        "colab": {
          "base_uri": "https://localhost:8080/",
          "height": 123
        },
        "outputId": "c140f4bb-ddfb-4784-c570-ab9b72960e7c"
      },
      "source": [
        "#Example 1-5-2\n",
        "\n",
        "def func_1_5_2():\n",
        "    'การเรียกข้อมูลใน list'\n",
        "    \n",
        "    a = [9,2,5,3,8,7]\n",
        "    b = [\"abc\",2,3,False]\n",
        "    c = \"HELLO\"\n",
        "\n",
        "    print (\"a[1] =\",a[1])\n",
        "    print (\"b[0] =\",b[0])\n",
        "    print (\"a[-2] =\",a[-2])\n",
        "    print (\"a[1:4]\",a[1:4])\n",
        "    print (\"c[2] =\",c[2])\n",
        "    print (\"c[2:] =\",c[2:])\n",
        "\n",
        "if __name__ == \"__main__\":\n",
        "    func_1_5_2()"
      ],
      "execution_count": null,
      "outputs": [
        {
          "output_type": "stream",
          "text": [
            "a[1] = 2\n",
            "b[0] = abc\n",
            "a[-2] = 8\n",
            "a[1:4] [2, 5, 3]\n",
            "c[2] = L\n",
            "c[2:] = LLO\n"
          ],
          "name": "stdout"
        }
      ]
    },
    {
      "cell_type": "code",
      "metadata": {
        "id": "AI7TxuAHwsEt",
        "colab_type": "code",
        "colab": {
          "base_uri": "https://localhost:8080/",
          "height": 70
        },
        "outputId": "04e285bb-f058-420e-90c3-10a88fb38997"
      },
      "source": [
        "#Example 1-5-3\n",
        "\n",
        "def func_1_5_3():\n",
        "    'list a[start:end] not include end'\n",
        "    \n",
        "    a = [9,2,5,3,8,7]\n",
        "    print ('a =',a)\n",
        "    a[0] = 7\n",
        "    a[2] =['a','Hello',9+2]\n",
        "    print ('a =',a)\n",
        "    a[1:4] = 1,3\n",
        "    print ('a =',a)\n",
        "\n",
        "if __name__ == \"__main__\":\n",
        "    func_1_5_3()"
      ],
      "execution_count": null,
      "outputs": [
        {
          "output_type": "stream",
          "text": [
            "a = [9, 2, 5, 3, 8, 7]\n",
            "a = [7, 2, ['a', 'Hello', 11], 3, 8, 7]\n",
            "a = [7, 1, 3, 8, 7]\n"
          ],
          "name": "stdout"
        }
      ]
    },
    {
      "cell_type": "code",
      "metadata": {
        "id": "_JAiGxqFww6j",
        "colab_type": "code",
        "colab": {
          "base_uri": "https://localhost:8080/",
          "height": 87
        },
        "outputId": "1d08957a-e6a4-4832-acb3-2b03be88ae1c"
      },
      "source": [
        "#Example 1-5-4\n",
        "\n",
        "def func_1_5_4():\n",
        "    'list ซ้อน list'\n",
        "    \n",
        "    a = [[3,4,5], \n",
        "        [6,7,8], \n",
        "        ['a','b','hello']]\n",
        "\n",
        "    print (a)\n",
        "    print (a[1])\n",
        "    print (a[2][1])\n",
        "    print (a[2][2][2])\n",
        "\n",
        "if __name__ == \"__main__\":\n",
        "    func_1_5_4()"
      ],
      "execution_count": null,
      "outputs": [
        {
          "output_type": "stream",
          "text": [
            "[[3, 4, 5], [6, 7, 8], ['a', 'b', 'hello']]\n",
            "[6, 7, 8]\n",
            "b\n",
            "l\n"
          ],
          "name": "stdout"
        }
      ]
    },
    {
      "cell_type": "code",
      "metadata": {
        "id": "lGAJQyX2w3KS",
        "colab_type": "code",
        "colab": {
          "base_uri": "https://localhost:8080/",
          "height": 141
        },
        "outputId": "d89f1ba6-9e36-4062-bed1-92a9b06c4263"
      },
      "source": [
        "#Example 1-5-5\n",
        "\n",
        "def func_1_5_5():\n",
        "    'การเพิ่มข้อมูลเข้าใน list'\n",
        "    \n",
        "    a =[]\n",
        "\n",
        "    print (\"1. a =\",a)\n",
        "    a.append(\"hello\")\n",
        "    print (\"2. a =\",a)\n",
        "    a.append(\"world\")\n",
        "    print (\"3. a =\",a)\n",
        "    a.extend([\"!\",9,9])\n",
        "    print (\"4. a =\",a)\n",
        "    a.insert (2,\"สวัสดี\")\n",
        "    print (\"5. a =\",a)\n",
        "    print (\"6. find position of '!'=\",a.index('!'))\n",
        "    a.append([0,0,1])\n",
        "    print (\"7. a =\",a)\n",
        "\n",
        "if __name__ == \"__main__\":\n",
        "    func_1_5_5()"
      ],
      "execution_count": null,
      "outputs": [
        {
          "output_type": "stream",
          "text": [
            "1. a = []\n",
            "2. a = ['hello']\n",
            "3. a = ['hello', 'world']\n",
            "4. a = ['hello', 'world', '!', 9, 9]\n",
            "5. a = ['hello', 'world', 'สวัสดี', '!', 9, 9]\n",
            "6. find position of '!'= 3\n",
            "7. a = ['hello', 'world', 'สวัสดี', '!', 9, 9, [0, 0, 1]]\n"
          ],
          "name": "stdout"
        }
      ]
    },
    {
      "cell_type": "code",
      "metadata": {
        "id": "4UVAmCi3xsF9",
        "colab_type": "code",
        "colab": {
          "base_uri": "https://localhost:8080/",
          "height": 123
        },
        "outputId": "7a0e4b5a-a6c2-4bd9-f8e9-f259dd4fbe6c"
      },
      "source": [
        "#Example 1-5-6\n",
        "\n",
        "def func_1_5_6():\n",
        "    'ลบข้อมูลออกจาก list'\n",
        "\n",
        "    a = [1,2,3,4,5,6,3,4,3,6]\n",
        "    b = \"HELLO\"\n",
        "\n",
        "    print (\"a =\",a)\n",
        "    print (\"count 3 in a =\",a.count(3))\n",
        "    print (\"count L in b =\",b.count(\"L\"))\n",
        "    a.remove(3)\n",
        "    print (\"a =\",a)\n",
        "    a.remove(3)\n",
        "    print (\"a =\",a)\n",
        "    del a[0]\n",
        "    print (\"a =\",a)\n",
        "\n",
        "if __name__ == \"__main__\":\n",
        "    func_1_5_6()"
      ],
      "execution_count": null,
      "outputs": [
        {
          "output_type": "stream",
          "text": [
            "a = [1, 2, 3, 4, 5, 6, 3, 4, 3, 6]\n",
            "count 3 in a = 3\n",
            "count L in b = 2\n",
            "a = [1, 2, 4, 5, 6, 3, 4, 3, 6]\n",
            "a = [1, 2, 4, 5, 6, 4, 3, 6]\n",
            "a = [2, 4, 5, 6, 4, 3, 6]\n"
          ],
          "name": "stdout"
        }
      ]
    },
    {
      "cell_type": "code",
      "metadata": {
        "id": "vSEJaXxpxzK0",
        "colab_type": "code",
        "colab": {
          "base_uri": "https://localhost:8080/",
          "height": 123
        },
        "outputId": "fda14d81-308f-4a61-89c9-9f63d2894284"
      },
      "source": [
        "#Example 1-5-7\n",
        "\n",
        "def func_1_5_7():\n",
        "    'เรียงข้อมูลใน list ด้วย sort และ reverse'\n",
        "\n",
        "    a = [2,3,6,1,4,8,1,5,3]\n",
        "    b = a\n",
        "    \n",
        "    print (\"a =\",a)\n",
        "    print (\"b =\",b)\n",
        "    a.sort()\n",
        "    print (\"a =\",a)\n",
        "    print (\"b =\",b)\n",
        "    b.reverse()\n",
        "    print (\"a =\",a)\n",
        "    print (\"b =\",b)\n",
        "\n",
        "\n",
        "\n",
        "if __name__ == \"__main__\":\n",
        "    func_1_5_7()"
      ],
      "execution_count": null,
      "outputs": [
        {
          "output_type": "stream",
          "text": [
            "a = [2, 3, 6, 1, 4, 8, 1, 5, 3]\n",
            "b = [2, 3, 6, 1, 4, 8, 1, 5, 3]\n",
            "a = [1, 1, 2, 3, 3, 4, 5, 6, 8]\n",
            "b = [1, 1, 2, 3, 3, 4, 5, 6, 8]\n",
            "a = [8, 6, 5, 4, 3, 3, 2, 1, 1]\n",
            "b = [8, 6, 5, 4, 3, 3, 2, 1, 1]\n"
          ],
          "name": "stdout"
        }
      ]
    },
    {
      "cell_type": "code",
      "metadata": {
        "id": "e1t8p395x4tZ",
        "colab_type": "code",
        "colab": {
          "base_uri": "https://localhost:8080/",
          "height": 212
        },
        "outputId": "063e32ec-d0d8-49f8-bcb2-c10c1d1c4afc"
      },
      "source": [
        "#Example 1-5-8\n",
        "\n",
        "def func_1_5_8():\n",
        "    'การ copy list'\n",
        "    \n",
        "    a = [1,3,5,7,9]\n",
        "    b = a\n",
        "    c = a[:]\n",
        "    \n",
        "    print (\"a =\",a)\n",
        "    print (\"b =\",b)\n",
        "    print (\"c =\",c,\"\\n\")\n",
        "    a[2] = 11\n",
        "    print (\"a =\",a)\n",
        "    print (\"b =\",b)\n",
        "    print (\"c =\",c,\"\\n\")\n",
        "    b.append(13)\n",
        "    print (\"a =\",a)\n",
        "    print (\"b =\",b)\n",
        "    print (\"c =\",c)\n",
        "\n",
        "if __name__ == \"__main__\":\n",
        "    func_1_5_8()"
      ],
      "execution_count": null,
      "outputs": [
        {
          "output_type": "stream",
          "text": [
            "a = [1, 3, 5, 7, 9]\n",
            "b = [1, 3, 5, 7, 9]\n",
            "c = [1, 3, 5, 7, 9] \n",
            "\n",
            "a = [1, 3, 11, 7, 9]\n",
            "b = [1, 3, 11, 7, 9]\n",
            "c = [1, 3, 5, 7, 9] \n",
            "\n",
            "a = [1, 3, 11, 7, 9, 13]\n",
            "b = [1, 3, 11, 7, 9, 13]\n",
            "c = [1, 3, 5, 7, 9]\n"
          ],
          "name": "stdout"
        }
      ]
    },
    {
      "cell_type": "code",
      "metadata": {
        "id": "2wrYC04Qx97d",
        "colab_type": "code",
        "colab": {
          "base_uri": "https://localhost:8080/",
          "height": 141
        },
        "outputId": "ef764e53-e7a9-4341-f174-807f0d140693"
      },
      "source": [
        "#Example 1-5-9\n",
        "\n",
        "def func_1_5_9():\n",
        "    'ตัวแปรชนิด tuple'\n",
        "    \n",
        "    a = (7,8,9)\n",
        "    b = 3,4,5\n",
        "    c = a+b\n",
        "    \n",
        "    print (\"a= \",a)\n",
        "    print (\"type of a = \",type(a))\n",
        "    print (\"a[1] =\",a[1])\n",
        "    print (\"b =\",b)\n",
        "    print (\"type of b =\",type(b))\n",
        "    print (\"c =\",c)\n",
        "    print (\"type of c =\",type(c))\n",
        "    \n",
        "if __name__ == \"__main__\":\n",
        "    func_1_5_9()"
      ],
      "execution_count": null,
      "outputs": [
        {
          "output_type": "stream",
          "text": [
            "a=  (7, 8, 9)\n",
            "type of a =  <class 'tuple'>\n",
            "a[1] = 8\n",
            "b = (3, 4, 5)\n",
            "type of b = <class 'tuple'>\n",
            "c = (7, 8, 9, 3, 4, 5)\n",
            "type of c = <class 'tuple'>\n"
          ],
          "name": "stdout"
        }
      ]
    },
    {
      "cell_type": "code",
      "metadata": {
        "id": "AT4anDCEyGRl",
        "colab_type": "code",
        "colab": {
          "base_uri": "https://localhost:8080/",
          "height": 141
        },
        "outputId": "5b026d74-b617-411c-fee8-92c1080e7655"
      },
      "source": [
        "#Example 1-6-1\n",
        "\n",
        "def func_1_6_1():\n",
        "    'การใช้คำสั่ง for กับ tuple'\n",
        "\n",
        "    for i in (1,1,2,3,5,8,13):\n",
        "        print (i)\n",
        "\n",
        "if __name__ == \"__main__\":\n",
        "    func_1_6_1()"
      ],
      "execution_count": null,
      "outputs": [
        {
          "output_type": "stream",
          "text": [
            "1\n",
            "1\n",
            "2\n",
            "3\n",
            "5\n",
            "8\n",
            "13\n"
          ],
          "name": "stdout"
        }
      ]
    },
    {
      "cell_type": "code",
      "metadata": {
        "id": "TmUFeP29ymdT",
        "colab_type": "code",
        "colab": {
          "base_uri": "https://localhost:8080/",
          "height": 141
        },
        "outputId": "52a51656-b2a5-4ffb-9d1f-047b8261c942"
      },
      "source": [
        "#Example 1-6-2\n",
        "\n",
        "def func_1_6_2():\n",
        "    'ใช้คำสั่ง for กับ list'\n",
        "\n",
        "    for i in [1,1,2,3,5,8,13]:\n",
        "        print (i)\n",
        "\n",
        "if __name__ == \"__main__\":\n",
        "    func_1_6_2()"
      ],
      "execution_count": null,
      "outputs": [
        {
          "output_type": "stream",
          "text": [
            "1\n",
            "1\n",
            "2\n",
            "3\n",
            "5\n",
            "8\n",
            "13\n"
          ],
          "name": "stdout"
        }
      ]
    },
    {
      "cell_type": "code",
      "metadata": {
        "id": "9dxCdq-wytas",
        "colab_type": "code",
        "colab": {
          "base_uri": "https://localhost:8080/",
          "height": 105
        },
        "outputId": "c7a67ce6-cd89-416a-ef2b-24f952c3f72d"
      },
      "source": [
        "#Example 1-6-3\n",
        "\n",
        "def func_1_6_3():\n",
        "    'ใช้ for กับ tuple ที่มีข้อมูลต่างชนิด'\n",
        "\n",
        "    for i in (\"abc\",True,2,(3,4,5),\"def\"): print (i)\n",
        "\n",
        "if __name__ == \"__main__\":\n",
        "    func_1_6_3()"
      ],
      "execution_count": null,
      "outputs": [
        {
          "output_type": "stream",
          "text": [
            "abc\n",
            "True\n",
            "2\n",
            "(3, 4, 5)\n",
            "def\n"
          ],
          "name": "stdout"
        }
      ]
    },
    {
      "cell_type": "code",
      "metadata": {
        "id": "sQIj51gt3xBO",
        "colab_type": "code",
        "colab": {
          "base_uri": "https://localhost:8080/",
          "height": 87
        },
        "outputId": "b8d218b7-1696-439f-afbd-b2ecbf43895d"
      },
      "source": [
        "#Example 1-6-4\n",
        "\n",
        "def func_1_6_4():\n",
        "    'ใช้ break เพื่อหยุดการทำงานของ for'\n",
        "\n",
        "    for i in (1,3,5,7,8,9,10):\n",
        "        print (i)\n",
        "        if i==5:\n",
        "            break\n",
        "        else:\n",
        "            pass\n",
        "    print (\"end at\",i)\n",
        "    \n",
        "if __name__ == \"__main__\":\n",
        "    func_1_6_4()"
      ],
      "execution_count": null,
      "outputs": [
        {
          "output_type": "stream",
          "text": [
            "1\n",
            "3\n",
            "5\n",
            "end at 5\n"
          ],
          "name": "stdout"
        }
      ]
    },
    {
      "cell_type": "code",
      "metadata": {
        "id": "s_9jGdAr31GL",
        "colab_type": "code",
        "colab": {
          "base_uri": "https://localhost:8080/",
          "height": 194
        },
        "outputId": "2a7a12c7-21a7-4975-dd39-bf05d1c02927"
      },
      "source": [
        "#Example 1-6-5\n",
        "\n",
        "def func_1_6_5():\n",
        "    'เพิ่มจำนวนรอบตั้งต้นของ for'\n",
        "\n",
        "    x = [1,3,5,7,9]\n",
        "    for i in x:\n",
        "        print (i)\n",
        "        if i==5:\n",
        "            x.extend([10,11,12,13])\n",
        "    print (x)\n",
        "\n",
        "if __name__ == \"__main__\":\n",
        "    func_1_6_5()"
      ],
      "execution_count": null,
      "outputs": [
        {
          "output_type": "stream",
          "text": [
            "1\n",
            "3\n",
            "5\n",
            "7\n",
            "9\n",
            "10\n",
            "11\n",
            "12\n",
            "13\n",
            "[1, 3, 5, 7, 9, 10, 11, 12, 13]\n"
          ],
          "name": "stdout"
        }
      ]
    },
    {
      "cell_type": "code",
      "metadata": {
        "id": "XjDbgGW035Sz",
        "colab_type": "code",
        "colab": {
          "base_uri": "https://localhost:8080/",
          "height": 230
        },
        "outputId": "1c8385fa-224d-4267-b8b4-d481acca64bc"
      },
      "source": [
        "#Example 1-6-6\n",
        "\n",
        "def func_1_6_6():\n",
        "    'การใช้ for กับตัวแปรชนิด string'\n",
        "\n",
        "    for i in \"Hello World!\":\n",
        "        print (i)\n",
        "    \n",
        "if __name__ == \"__main__\":\n",
        "    func_1_6_6()"
      ],
      "execution_count": null,
      "outputs": [
        {
          "output_type": "stream",
          "text": [
            "H\n",
            "e\n",
            "l\n",
            "l\n",
            "o\n",
            " \n",
            "W\n",
            "o\n",
            "r\n",
            "l\n",
            "d\n",
            "!\n"
          ],
          "name": "stdout"
        }
      ]
    },
    {
      "cell_type": "code",
      "metadata": {
        "id": "MY2fAM0t9Hmk",
        "colab_type": "code",
        "colab": {
          "base_uri": "https://localhost:8080/",
          "height": 70
        },
        "outputId": "ed91f957-4c39-493e-ddaf-6ccbdcfd132c"
      },
      "source": [
        "#Example 1-6-7\n",
        "\n",
        "def func_1_6_7():\n",
        "    'การใช้ for กับ tuple ของ string'\n",
        "\n",
        "    for i in (\"Superman\", \"Batman\", \"Aquaman\"):\n",
        "        print (\"Hello\",i)\n",
        "\n",
        "if __name__ == \"__main__\":\n",
        "    func_1_6_7()"
      ],
      "execution_count": null,
      "outputs": [
        {
          "output_type": "stream",
          "text": [
            "Hello Superman\n",
            "Hello Batman\n",
            "Hello Aquaman\n"
          ],
          "name": "stdout"
        }
      ]
    },
    {
      "cell_type": "code",
      "metadata": {
        "id": "8pfLM4l89LGU",
        "colab_type": "code",
        "colab": {
          "base_uri": "https://localhost:8080/",
          "height": 87
        },
        "outputId": "abeab10c-db3c-4918-92ff-9774f4cf90ec"
      },
      "source": [
        "#Example 1-6-8\n",
        "\n",
        "def func_1_6_8():\n",
        "    'try กับ except เพื่อดักการเกิด error'\n",
        "\n",
        "    x = [1,2,3,4]\n",
        "    try:\n",
        "        print (x[2])\n",
        "    except:\n",
        "        print (\"Ha Ha Ha\")\n",
        "    finally:\n",
        "        print (\"Ho Ho Ho\")\n",
        "        \n",
        "    try:\n",
        "        print (x[5])\n",
        "    except:\n",
        "        print (\"Error x is out of range\")\n",
        "    finally:\n",
        "        print (\"Ho Ho Ho\")\n",
        "    \n",
        "if __name__ == \"__main__\":\n",
        "    func_1_6_8()"
      ],
      "execution_count": null,
      "outputs": [
        {
          "output_type": "stream",
          "text": [
            "3\n",
            "Ho Ho Ho\n",
            "Error x is out of range\n",
            "Ho Ho Ho\n"
          ],
          "name": "stdout"
        }
      ]
    },
    {
      "cell_type": "code",
      "metadata": {
        "id": "XLA3Ipl29QLP",
        "colab_type": "code",
        "colab": {
          "base_uri": "https://localhost:8080/",
          "height": 123
        },
        "outputId": "2f8f27f1-5d40-4f2c-9608-d8e760fff28c"
      },
      "source": [
        "#Example 1-7-1\n",
        "\n",
        "def func_1_7_1(x):\n",
        "    'การส่งค่าเข้าไปในฟังก์ชัน'\n",
        "\n",
        "    print(\"x =\",x)\n",
        "if __name__ == \"__main__\":\n",
        "    func_1_7_1(10)\n",
        "    func_1_7_1(\"hello\")\n",
        "    func_1_7_1(\"สวัสดี\")\n",
        "    func_1_7_1(3+4)\n",
        "    func_1_7_1([3,4,5])\n",
        "    func_1_7_1(\"\")"
      ],
      "execution_count": null,
      "outputs": [
        {
          "output_type": "stream",
          "text": [
            "x = 10\n",
            "x = hello\n",
            "x = สวัสดี\n",
            "x = 7\n",
            "x = [3, 4, 5]\n",
            "x = \n"
          ],
          "name": "stdout"
        }
      ]
    },
    {
      "cell_type": "code",
      "metadata": {
        "id": "atB9CAUV9VUQ",
        "colab_type": "code",
        "colab": {
          "base_uri": "https://localhost:8080/",
          "height": 230
        },
        "outputId": "8a9f7ce8-b80f-4cad-8b28-51e2486a32a0"
      },
      "source": [
        "#Example 1-7-2\n",
        "\n",
        "def func_1_7_2(x,y):\n",
        "    'ส่งค่าเข้าไปในฟังก์ชันสองตัว'\n",
        "\n",
        "    print(\"x =\",x)\n",
        "    print(\"y =\",y)\n",
        "    print()\n",
        "\n",
        "if __name__ == \"__main__\":\n",
        "    func_1_7_2(10,20)\n",
        "    func_1_7_2(10,\"hello\")\n",
        "    func_1_7_2([123],(10,20,30))\n",
        "    a = 10; b = 20\n",
        "    func_1_7_2(a,b)"
      ],
      "execution_count": null,
      "outputs": [
        {
          "output_type": "stream",
          "text": [
            "x = 10\n",
            "y = 20\n",
            "\n",
            "x = 10\n",
            "y = hello\n",
            "\n",
            "x = [123]\n",
            "y = (10, 20, 30)\n",
            "\n",
            "x = 10\n",
            "y = 20\n",
            "\n"
          ],
          "name": "stdout"
        }
      ]
    },
    {
      "cell_type": "code",
      "metadata": {
        "id": "0gWJvtvZ9alb",
        "colab_type": "code",
        "colab": {
          "base_uri": "https://localhost:8080/",
          "height": 70
        },
        "outputId": "f34f005a-7fcf-48f6-dfb2-0f5ea426f58b"
      },
      "source": [
        "#Example 1-7-3\n",
        "\n",
        "def func_1_7_3(x,y):\n",
        "    'การเปลียนแปลงค่าตัวแปรในฟังก์ชันไม่ส่งผลต่อตัวแปรนอกฟังก์ชัน'\n",
        "\n",
        "    x+=1\n",
        "    y+=2\n",
        "    print(\"func: x=\",x,\" y=\",y)\n",
        "\n",
        "if __name__ == \"__main__\":\n",
        "    x=10; y=20\n",
        "    print(\"x=\",x,\" y=\",y)    \n",
        "    func_1_7_3(x,y)\n",
        "    print(\"x=\",x,\" y=\",y)"
      ],
      "execution_count": null,
      "outputs": [
        {
          "output_type": "stream",
          "text": [
            "x= 10  y= 20\n",
            "func: x= 11  y= 22\n",
            "x= 10  y= 20\n"
          ],
          "name": "stdout"
        }
      ]
    },
    {
      "cell_type": "code",
      "metadata": {
        "id": "H9OfIeap9hAT",
        "colab_type": "code",
        "colab": {
          "base_uri": "https://localhost:8080/",
          "height": 87
        },
        "outputId": "d58f4b43-b00d-4633-f400-5ad80b7d26b3"
      },
      "source": [
        "#Example 1-7-4\n",
        "\n",
        "def func_1_7_4(x):\n",
        "    'การส่งค่าตัวแปร list เข้าไปในฟังก์ชัน'\n",
        "\n",
        "    x[0] +=10\n",
        "    print (\"Now x=\",x)\n",
        "\n",
        "if __name__ == \"__main__\":\n",
        "    x=[10]\n",
        "    print (\"x=\",x)\n",
        "    func_1_7_4(x)\n",
        "    print (\"x=\",x)\n",
        "    func_1_7_4(x)"
      ],
      "execution_count": null,
      "outputs": [
        {
          "output_type": "stream",
          "text": [
            "x= [10]\n",
            "Now x= [20]\n",
            "x= [20]\n",
            "Now x= [30]\n"
          ],
          "name": "stdout"
        }
      ]
    },
    {
      "cell_type": "code",
      "metadata": {
        "id": "ocvqLzoA9kgN",
        "colab_type": "code",
        "colab": {
          "base_uri": "https://localhost:8080/",
          "height": 87
        },
        "outputId": "6c71d53d-28dc-4c89-efdd-c7adc56d7e0e"
      },
      "source": [
        "#Example 1-7-5\n",
        "\n",
        "def func_1_7_5(x=10,y=20):\n",
        "    'การกำหนดค่าเริ่มต้นให้กับตัวแปร parameter ของฟังก์ชัน'\n",
        "\n",
        "    print(x,y)\n",
        "\n",
        "if __name__ == \"__main__\":\n",
        "    func_1_7_5()\n",
        "    func_1_7_5(100)\n",
        "    func_1_7_5(y=100)\n",
        "    func_1_7_5(y=\"hello\",x=100)"
      ],
      "execution_count": null,
      "outputs": [
        {
          "output_type": "stream",
          "text": [
            "10 20\n",
            "100 20\n",
            "10 100\n",
            "100 hello\n"
          ],
          "name": "stdout"
        }
      ]
    },
    {
      "cell_type": "code",
      "metadata": {
        "id": "0R1LbL_99oVE",
        "colab_type": "code",
        "colab": {
          "base_uri": "https://localhost:8080/",
          "height": 52
        },
        "outputId": "ae550934-ea9f-41a9-ec89-a6f500ed1860"
      },
      "source": [
        "#Example 1-7-6\n",
        "\n",
        "def func_1_7_6(x):\n",
        "    'คืนค่าออกจากฟังก์ชันด้วย return'\n",
        "\n",
        "    x+=10\n",
        "    return(x)\n",
        "\n",
        "if __name__ == \"__main__\":\n",
        "    y=0\n",
        "    y=func_1_7_6(10)\n",
        "    print(y)\n",
        "    print (func_1_7_6(20))"
      ],
      "execution_count": null,
      "outputs": [
        {
          "output_type": "stream",
          "text": [
            "20\n",
            "30\n"
          ],
          "name": "stdout"
        }
      ]
    },
    {
      "cell_type": "code",
      "metadata": {
        "id": "WN-cyZND9tJ6",
        "colab_type": "code",
        "colab": {
          "base_uri": "https://localhost:8080/",
          "height": 52
        },
        "outputId": "0663a8f5-111f-4fec-c6f5-fba26763d908"
      },
      "source": [
        "#Example 1-7-7\n",
        "\n",
        "def func_1_7_7(x,y,z):\n",
        "    'return ค่าหลายๆ ตัวเป็น tuple'\n",
        "    \n",
        "    return(x,y,z)\n",
        "\n",
        "if __name__ == \"__main__\":\n",
        "    print(func_1_7_7(1,10,20))\n",
        "    print(func_1_7_7((1,2),[3,4],\"hello\"))"
      ],
      "execution_count": null,
      "outputs": [
        {
          "output_type": "stream",
          "text": [
            "(1, 10, 20)\n",
            "((1, 2), [3, 4], 'hello')\n"
          ],
          "name": "stdout"
        }
      ]
    },
    {
      "cell_type": "code",
      "metadata": {
        "id": "L-DsMt61-jO8",
        "colab_type": "code",
        "colab": {
          "base_uri": "https://localhost:8080/",
          "height": 70
        },
        "outputId": "7a13a293-6901-4c2f-a3b3-a251524f2396"
      },
      "source": [
        "#Example 1-7-8\n",
        "\n",
        "def func_1_7_8(x,y):\n",
        "    'ฟัง์ชันหนึ่ง มี return จากหลายจุดได้'\n",
        "\n",
        "    if x>y:\n",
        "        return x\n",
        "    elif x<y:\n",
        "        return y\n",
        "    else:\n",
        "        return \"x=y!!\"\n",
        "\n",
        "if __name__ == \"__main__\":\n",
        "    print(func_1_7_8(10,20))\n",
        "    print(func_1_7_8(9,1))\n",
        "    print(func_1_7_8(100,100))"
      ],
      "execution_count": null,
      "outputs": [
        {
          "output_type": "stream",
          "text": [
            "20\n",
            "9\n",
            "x=y!!\n"
          ],
          "name": "stdout"
        }
      ]
    },
    {
      "cell_type": "code",
      "metadata": {
        "id": "wJAESXZS-nR5",
        "colab_type": "code",
        "colab": {
          "base_uri": "https://localhost:8080/",
          "height": 52
        },
        "outputId": "5d0c48fd-e6af-4165-a325-db650ba8a3ee"
      },
      "source": [
        "#Example 1-8-1\n",
        "\n",
        "def func_1_8_1():\n",
        "    'ตัวแปรชนิด dictionary'\n",
        "    \n",
        "    x={ 'a': 'Hello',\n",
        "        'b': 'World',\n",
        "        'c': '!!!'\n",
        "        }\n",
        "\n",
        "    print (x)\n",
        "    print (type(x))\n",
        "\n",
        "if __name__ == \"__main__\":\n",
        "    func_1_8_1()"
      ],
      "execution_count": null,
      "outputs": [
        {
          "output_type": "stream",
          "text": [
            "{'a': 'Hello', 'b': 'World', 'c': '!!!'}\n",
            "<class 'dict'>\n"
          ],
          "name": "stdout"
        }
      ]
    },
    {
      "cell_type": "code",
      "metadata": {
        "id": "7Znvu1CQ-vQz",
        "colab_type": "code",
        "colab": {
          "base_uri": "https://localhost:8080/",
          "height": 283
        },
        "outputId": "b2e9c5e9-38c0-4987-a6d2-bf9d3960ecfe"
      },
      "source": [
        "#Example 1-8-2\n",
        "\n",
        "def func_1_8_2():\n",
        "    'การลบและเพิ่มข้อมูลใน dictionary'\n",
        "    \n",
        "    x={ 'Jo': '123 Bangkok',\n",
        "        'Mo': '456 Nonthaburi',\n",
        "        'Yo': '789 Chiangmai'\n",
        "        }\n",
        "\n",
        "    for name,address in x.items():\n",
        "        print (name,address)\n",
        "        \n",
        "    del x['Jo']\n",
        "    print ('\\n--- Delete Key Jo ---\\n')\n",
        "\n",
        "    for name,address in x.items():\n",
        "        print (name,address)\n",
        "\n",
        "    x['Go'] = '200 Chiangrai'\n",
        "    x['Do'] = '321 Lumpoon'\n",
        "    print ('\\n--- Add Key Go and Do ---\\n')\n",
        "\n",
        "    for name,address in x.items():\n",
        "        print (name,address)\n",
        "\n",
        "if __name__ == \"__main__\":\n",
        "    func_1_8_2()"
      ],
      "execution_count": null,
      "outputs": [
        {
          "output_type": "stream",
          "text": [
            "Jo 123 Bangkok\n",
            "Mo 456 Nonthaburi\n",
            "Yo 789 Chiangmai\n",
            "\n",
            "--- Delete Key Jo ---\n",
            "\n",
            "Mo 456 Nonthaburi\n",
            "Yo 789 Chiangmai\n",
            "\n",
            "--- Add Key Go and Do ---\n",
            "\n",
            "Mo 456 Nonthaburi\n",
            "Yo 789 Chiangmai\n",
            "Go 200 Chiangrai\n",
            "Do 321 Lumpoon\n"
          ],
          "name": "stdout"
        }
      ]
    },
    {
      "cell_type": "code",
      "metadata": {
        "id": "ihvFSr4r-11y",
        "colab_type": "code",
        "colab": {
          "base_uri": "https://localhost:8080/",
          "height": 176
        },
        "outputId": "957eb7c3-93f5-4745-e788-76013fdf9d76"
      },
      "source": [
        "#Example 1-8-3\n",
        "\n",
        "def func_1_8_3():\n",
        "    'การอ่านและนับค่าใน dictionary'\n",
        "\n",
        "    x={}\n",
        "\n",
        "    x['A'] = 'Ada'\n",
        "    x['B'] = 'Basic'\n",
        "    x['C'] = 'Cobol'\n",
        "\n",
        "    for first, second in x.items():\n",
        "        print (first,second)\n",
        "        \n",
        "    print (\"***************\")\n",
        "    if 'A' in x:\n",
        "        print (\"A for\",x['A'])\n",
        "            \n",
        "    print (\"***************\")\n",
        "    print(x)\n",
        "    print (x.items())\n",
        "    print (\"number of item in x=\",len(x.items()))\n",
        "\n",
        "if __name__ == \"__main__\":\n",
        "    func_1_8_3()"
      ],
      "execution_count": null,
      "outputs": [
        {
          "output_type": "stream",
          "text": [
            "A Ada\n",
            "B Basic\n",
            "C Cobol\n",
            "***************\n",
            "A for Ada\n",
            "***************\n",
            "{'A': 'Ada', 'B': 'Basic', 'C': 'Cobol'}\n",
            "dict_items([('A', 'Ada'), ('B', 'Basic'), ('C', 'Cobol')])\n",
            "number of item in x= 3\n"
          ],
          "name": "stdout"
        }
      ]
    },
    {
      "cell_type": "code",
      "metadata": {
        "id": "LrZOoV5NAHUb",
        "colab_type": "code",
        "colab": {
          "base_uri": "https://localhost:8080/",
          "height": 87
        },
        "outputId": "6b10b703-637e-4287-ef98-d6a25c9168dd"
      },
      "source": [
        "#Example 1-8-4\n",
        "\n",
        "def func_1_8_4():\n",
        "    'เซ็ต'\n",
        "\n",
        "    x = set((3,5,7,8,3,8,3))\n",
        "    y = x.copy()\n",
        "    \n",
        "    print (\"1)\",x,y)\n",
        "    x.add(22)\n",
        "    print (\"2)\",x,y)\n",
        "    y.add(3)\n",
        "    print (\"3)\",x,y)\n",
        "    x.remove(3)\n",
        "    print (\"4)\",x,y)\n",
        "\n",
        "if __name__ == \"__main__\":\n",
        "    func_1_8_4()"
      ],
      "execution_count": null,
      "outputs": [
        {
          "output_type": "stream",
          "text": [
            "1) {8, 3, 5, 7} {8, 3, 5, 7}\n",
            "2) {3, 5, 7, 8, 22} {8, 3, 5, 7}\n",
            "3) {3, 5, 7, 8, 22} {8, 3, 5, 7}\n",
            "4) {5, 7, 8, 22} {8, 3, 5, 7}\n"
          ],
          "name": "stdout"
        }
      ]
    },
    {
      "cell_type": "code",
      "metadata": {
        "id": "T7Hsig7AANa0",
        "colab_type": "code",
        "colab": {
          "base_uri": "https://localhost:8080/",
          "height": 123
        },
        "outputId": "45014592-64c0-432f-9341-14677f3ec8eb"
      },
      "source": [
        "#Example 1-8-5\n",
        "\n",
        "def func_1_8_5():\n",
        "    'ตัวดำเนินการอินเตอร์เซ็คชั่น และยูเนี่ยน สำหรับเซ็ต'\n",
        "\n",
        "    x = set([5, 7, 8, 22])\n",
        "    y = set([8, 3, 5, 7])\n",
        "    print (x,y)\n",
        "    print (\"**************************\")\n",
        "    print (x.intersection(y))\n",
        "    print (x & y)\n",
        "\n",
        "    print (x.union(y))    \n",
        "    print (x | y)\n",
        "\n",
        "if __name__ == \"__main__\":\n",
        "    func_1_8_5()"
      ],
      "execution_count": null,
      "outputs": [
        {
          "output_type": "stream",
          "text": [
            "{8, 5, 22, 7} {8, 3, 5, 7}\n",
            "**************************\n",
            "{8, 5, 7}\n",
            "{8, 5, 7}\n",
            "{3, 5, 7, 8, 22}\n",
            "{3, 5, 7, 8, 22}\n"
          ],
          "name": "stdout"
        }
      ]
    },
    {
      "cell_type": "code",
      "metadata": {
        "id": "FeN4K-OQASme",
        "colab_type": "code",
        "colab": {
          "base_uri": "https://localhost:8080/",
          "height": 87
        },
        "outputId": "c76d23da-766f-497d-e0b1-8079c78fc51b"
      },
      "source": [
        "#Example 1-8-6\n",
        "\n",
        "def func_1_8_6():\n",
        "    'ตัวดำเนินการตรวจสอบการเป็นซับเซ็ตหรือซูเปอร์เซ็ต'\n",
        "\n",
        "    x= set([3,5,7,9])\n",
        "    y= set([1,3,5,7,9,11])\n",
        "\n",
        "    print (\"y is superset of x is\",y.issuperset(x))\n",
        "    print (\"x is subset of y is\",x.issubset(y))\n",
        "    print (\"set(3,7) is subset of y is\",set((3,7)).issubset(y))\n",
        "    if x < y: print (\"x<y is\",x<y)\n",
        "\n",
        "if __name__ == \"__main__\":\n",
        "    func_1_8_6()"
      ],
      "execution_count": null,
      "outputs": [
        {
          "output_type": "stream",
          "text": [
            "y is superset of x is True\n",
            "x is subset of y is True\n",
            "set(3,7) is subset of y is True\n",
            "x<y is True\n"
          ],
          "name": "stdout"
        }
      ]
    },
    {
      "cell_type": "code",
      "metadata": {
        "id": "lO7uD2QmAYGB",
        "colab_type": "code",
        "colab": {
          "base_uri": "https://localhost:8080/",
          "height": 123
        },
        "outputId": "da43903c-ea9c-495e-a55f-8a63662436f9"
      },
      "source": [
        "#Example 1-9-1\n",
        "\n",
        "class Cat:\n",
        "    'Class name Cat'\n",
        "\n",
        "    def say(self):\n",
        "        'Method name say'\n",
        "        print (\"Meow\")\n",
        "\n",
        "if __name__ == \"__main__\":\n",
        "    tom = Cat()\n",
        "    tom.say()\n",
        "    print (\"*****************\")\n",
        "    print (\"Type of tom is\",type(tom))\n",
        "    print (\"Type of tom.say is\",type(tom.say))\n",
        "    print (\"Class's doc is\",tom.__doc__)\n",
        "    print (\"Method's doc is\",tom.say.__doc__)\n",
        "    "
      ],
      "execution_count": null,
      "outputs": [
        {
          "output_type": "stream",
          "text": [
            "Meow\n",
            "*****************\n",
            "Type of tom is <class '__main__.Cat'>\n",
            "Type of tom.say is <class 'method'>\n",
            "Class's doc is Class name Cat\n",
            "Method's doc is Method name say\n"
          ],
          "name": "stdout"
        }
      ]
    },
    {
      "cell_type": "code",
      "metadata": {
        "id": "vl44wtrBDHcJ",
        "colab_type": "code",
        "colab": {
          "base_uri": "https://localhost:8080/",
          "height": 158
        },
        "outputId": "5a2f4ef2-2031-457f-a52c-1cb5f223467c"
      },
      "source": [
        "#Example 1-9-2\n",
        "\n",
        "class Cat:\n",
        "    'Initializer หรือ Constructor'\n",
        "\n",
        "    def __init__(self):\n",
        "        print (\"Aow\")\n",
        "        \n",
        "    def say(self):\n",
        "        print (\"Meow\")\n",
        "\n",
        "if __name__ == \"__main__\":\n",
        "    tom = Cat()\n",
        "    tom.say()\n",
        "    tom.say()\n",
        "    print()\n",
        "\n",
        "    Cat()\n",
        "    print()\n",
        "\n",
        "    Cat().say()"
      ],
      "execution_count": null,
      "outputs": [
        {
          "output_type": "stream",
          "text": [
            "Aow\n",
            "Meow\n",
            "Meow\n",
            "\n",
            "Aow\n",
            "\n",
            "Aow\n",
            "Meow\n"
          ],
          "name": "stdout"
        }
      ]
    },
    {
      "cell_type": "code",
      "metadata": {
        "id": "KGBjsAZXDM0L",
        "colab_type": "code",
        "colab": {
          "base_uri": "https://localhost:8080/",
          "height": 70
        },
        "outputId": "93b722ab-7843-444b-def8-c88130e1f22c"
      },
      "source": [
        "#Example 1-9-3\n",
        "\n",
        "class Cat:\n",
        "    'คืนค่า string ออกมาจาก object'\n",
        "    \n",
        "    def __init__(self):\n",
        "        print (\"Aow\")\n",
        "    def say(self):\n",
        "        print (\"Meow\")\n",
        "    def __str__(self):\n",
        "        return (\"I am a Cat\")\n",
        " \n",
        "if __name__ == \"__main__\":\n",
        "    tom = Cat()\n",
        "    tom.say()\n",
        "    print (tom)"
      ],
      "execution_count": null,
      "outputs": [
        {
          "output_type": "stream",
          "text": [
            "Aow\n",
            "Meow\n",
            "I am a Cat\n"
          ],
          "name": "stdout"
        }
      ]
    },
    {
      "cell_type": "code",
      "metadata": {
        "id": "hl1teY1pDRJS",
        "colab_type": "code",
        "colab": {
          "base_uri": "https://localhost:8080/",
          "height": 70
        },
        "outputId": "da27bca6-269c-4edf-f889-ced87dee61e1"
      },
      "source": [
        "#Example 1-9-4\n",
        "\n",
        "class Cat:\n",
        "    'destructor'\n",
        "    \n",
        "    def __init__(self):\n",
        "        print (\"Aow\")\n",
        "    def say(self):\n",
        "        print (\"Meow\")\n",
        "    def __str__(self):\n",
        "        return (\"I am a Cat\")\n",
        "    def __del__(self):\n",
        "        print (\"I am killed\")\n",
        " \n",
        "if __name__ == \"__main__\":\n",
        "    tom = Cat()\n",
        "    tom.say()\n",
        "    del tom"
      ],
      "execution_count": null,
      "outputs": [
        {
          "output_type": "stream",
          "text": [
            "Aow\n",
            "Meow\n",
            "I am killed\n"
          ],
          "name": "stdout"
        }
      ]
    },
    {
      "cell_type": "code",
      "metadata": {
        "id": "uV5XDveVDWQn",
        "colab_type": "code",
        "colab": {
          "base_uri": "https://localhost:8080/",
          "height": 158
        },
        "outputId": "14f2c5ae-20cb-487a-deee-e1ba6f29fd38"
      },
      "source": [
        "#Example 1-9-5\n",
        "\n",
        "class Cat:\n",
        "    '1 object, 2 instances'\n",
        "\n",
        "    def __init__(self):\n",
        "        print (\"Aow\")\n",
        "    def say(self):\n",
        "        print (\"Meow\")\n",
        "    def __str__(self):\n",
        "        return (\"I am a Cat\")\n",
        "    def __del__(self):\n",
        "        print (\"AAAAAAHHH\")\n",
        " \n",
        "if __name__ == \"__main__\":\n",
        "    tom = Cat()\n",
        "    garfield = tom\n",
        "    print (\"--Object Created--\")\n",
        "\n",
        "    tom.say()\n",
        "    garfield.say()\n",
        "\n",
        "    print (\"---Kill tom---\")\n",
        "    del tom\n",
        "\n",
        "    #tom.say()\n",
        "    garfield.say()\n",
        "\n",
        "    print (\"---Kill garfield---\")\n",
        "    del garfield"
      ],
      "execution_count": null,
      "outputs": [
        {
          "output_type": "stream",
          "text": [
            "Aow\n",
            "--Object Created--\n",
            "Meow\n",
            "Meow\n",
            "---Kill tom---\n",
            "Meow\n",
            "---Kill garfield---\n",
            "AAAAAAHHH\n"
          ],
          "name": "stdout"
        }
      ]
    },
    {
      "cell_type": "code",
      "metadata": {
        "id": "N6AWrO91Dgud",
        "colab_type": "code",
        "colab": {
          "base_uri": "https://localhost:8080/",
          "height": 176
        },
        "outputId": "50619f53-ff46-4d9c-9b20-b9477341a2f5"
      },
      "source": [
        "#Example 1-9-6\n",
        "\n",
        "class Cat:\n",
        "    '2 objects, 2 instances'\n",
        "\n",
        "    def __init__(self):\n",
        "        print (\"Aow\")\n",
        "    def say(self):\n",
        "        print (\"Meow\")\n",
        "    def __str__(self):\n",
        "        return (\"I am a Cat\")\n",
        "    def __del__(self):\n",
        "        print (\"AAAAAAHHH\")\n",
        " \n",
        "if __name__ == \"__main__\":\n",
        "    tom = Cat()\n",
        "    garfield = Cat()\n",
        "\n",
        "    tom.say()\n",
        "    garfield.say()\n",
        "\n",
        "    print (\"---Kill tom---\")\n",
        "    del tom\n",
        "\n",
        "    #tom.say()\n",
        "    garfield.say()\n",
        "\n",
        "    print (\"---Kill garfield---\")\n",
        "    del garfield"
      ],
      "execution_count": null,
      "outputs": [
        {
          "output_type": "stream",
          "text": [
            "Aow\n",
            "Aow\n",
            "Meow\n",
            "Meow\n",
            "---Kill tom---\n",
            "AAAAAAHHH\n",
            "Meow\n",
            "---Kill garfield---\n",
            "AAAAAAHHH\n"
          ],
          "name": "stdout"
        }
      ]
    },
    {
      "cell_type": "code",
      "metadata": {
        "id": "GmE9O-7IDnS6",
        "colab_type": "code",
        "colab": {
          "base_uri": "https://localhost:8080/",
          "height": 87
        },
        "outputId": "904f2396-b292-4b5e-a040-836a925f2c4c"
      },
      "source": [
        "#Example 1-9-7\n",
        "\n",
        "class Cat:\n",
        "    'parameter และ attribute'\n",
        "\n",
        "    def __init__(self,n,c):\n",
        "        self.name = n\n",
        "        self.color = c\n",
        "    def say(self):\n",
        "        print (\"My name is\",self.name)\n",
        " \n",
        "if __name__ == \"__main__\":\n",
        "    tom = Cat(\"tom\",\"B&W\")\n",
        "    tom.say()\n",
        "    print (tom.color)\n",
        "    tom.name = \"TOM\"\n",
        "    tom.color = \"Black & White\"\n",
        "    tom.say()\n",
        "    print (tom.name,\"is\",tom.color)"
      ],
      "execution_count": null,
      "outputs": [
        {
          "output_type": "stream",
          "text": [
            "My name is tom\n",
            "B&W\n",
            "My name is TOM\n",
            "TOM is Black & White\n"
          ],
          "name": "stdout"
        }
      ]
    },
    {
      "cell_type": "code",
      "metadata": {
        "id": "UiN9pjN0DtJp",
        "colab_type": "code",
        "colab": {
          "base_uri": "https://localhost:8080/",
          "height": 52
        },
        "outputId": "4201dbd3-4957-4d12-9271-0a1d55d675e9"
      },
      "source": [
        "#Example 1-9-8\n",
        " \n",
        "class Animal:\n",
        "    'กำหนดค่าตั้งต้นสำหรับพารามิเตอร์ของคลาส'\n",
        "\n",
        "    def __init__(self,common_name='Cat'):\n",
        "        self.common_name = common_name\n",
        "    def say(self):\n",
        "        print (\"I am\",self.common_name)\n",
        "\n",
        "if __name__ == \"__main__\":\n",
        "    tom = Animal()\n",
        "    tom.say()\n",
        "    tweety = Animal(\"Bird\")\n",
        "    tweety.say()"
      ],
      "execution_count": null,
      "outputs": [
        {
          "output_type": "stream",
          "text": [
            "I am Cat\n",
            "I am Bird\n"
          ],
          "name": "stdout"
        }
      ]
    },
    {
      "cell_type": "code",
      "metadata": {
        "id": "hpwWpUb5DydO",
        "colab_type": "code",
        "colab": {
          "base_uri": "https://localhost:8080/",
          "height": 123
        },
        "outputId": "fe00c250-3829-455b-864a-7527566c71bc"
      },
      "source": [
        "#Example 1-9-9\n",
        "\n",
        "'inheritance'\n",
        " \n",
        "class Animal:\n",
        "    def __init__(self,common_name='cat'):\n",
        "        self.common_name = common_name\n",
        "    def say(self,say='...'):\n",
        "        print (\"I am\",self.common_name,say)\n",
        "\n",
        "class Bird(Animal):\n",
        "    def __init__(self):\n",
        "        self.common_name = 'bird'\n",
        "    def sing(self):\n",
        "        print (\"tweet tweet tweety\")\n",
        "\n",
        "if __name__ == \"__main__\":\n",
        "    tom = Animal()\n",
        "    tom.say()\n",
        "    tom.say(\"Meow\")\n",
        "    print (\"************\")\n",
        "\n",
        "    tweety = Bird()\n",
        "    tweety.say()\n",
        "    tweety.say(\"Tweet\")\n",
        "    tweety.sing()"
      ],
      "execution_count": null,
      "outputs": [
        {
          "output_type": "stream",
          "text": [
            "I am cat ...\n",
            "I am cat Meow\n",
            "************\n",
            "I am bird ...\n",
            "I am bird Tweet\n",
            "tweet tweet tweety\n"
          ],
          "name": "stdout"
        }
      ]
    },
    {
      "cell_type": "code",
      "metadata": {
        "id": "jynqDWJWD5DX",
        "colab_type": "code",
        "colab": {
          "base_uri": "https://localhost:8080/",
          "height": 194
        },
        "outputId": "d9402eb4-7cca-424b-d539-c2d3f59f1562"
      },
      "source": [
        "#Example 1-9-10\n",
        "\n",
        "'method overriding'\n",
        "class Animal:\n",
        "    def __init__(self,common_name='animal'):\n",
        "        self.common_name = common_name\n",
        "    def say(self,words='...'):\n",
        "        print (\"I am\",self.common_name,words)\n",
        "\n",
        "class Bird(Animal):\n",
        "    def __init__(self):\n",
        "        self.common_name = 'bird'\n",
        "    def sing(self):\n",
        "        print (\"tweet tweet tweety\")\n",
        "\n",
        "class Cat(Animal):\n",
        "    def __init__(self):\n",
        "        self.common_name = 'cat'\n",
        "    def say(self):\n",
        "        print (\"Meow\")\n",
        "\n",
        "if __name__ == \"__main__\":\n",
        "    tom = Animal()\n",
        "    tom.say()\n",
        "    tom.say(\"ha ha ha\")\n",
        "    print (\"************\\n\")\n",
        "\n",
        "    tweety = Bird()\n",
        "    tweety.say()\n",
        "    tweety.sing()\n",
        "    print (\"************\\n\")\n",
        "\n",
        "    garfield = Cat()\n",
        "    garfield.say()\n",
        "    print (garfield.common_name)"
      ],
      "execution_count": null,
      "outputs": [
        {
          "output_type": "stream",
          "text": [
            "I am animal ...\n",
            "I am animal ha ha ha\n",
            "************\n",
            "\n",
            "I am bird ...\n",
            "tweet tweet tweety\n",
            "************\n",
            "\n",
            "Meow\n",
            "cat\n"
          ],
          "name": "stdout"
        }
      ]
    },
    {
      "cell_type": "code",
      "metadata": {
        "id": "R_Tk-KUWEmtM",
        "colab_type": "code",
        "colab": {
          "base_uri": "https://localhost:8080/",
          "height": 176
        },
        "outputId": "45dae46e-63e4-4ce8-9011-a38f80a0d4dc"
      },
      "source": [
        "#Example 1-9-11\n",
        "\n",
        "'multiple inheritance'\n",
        "class Animal:\n",
        "    def __init__(self,common_name='animal'):   \n",
        "        self.common_name = common_name\n",
        "    def say (self,words='...'):\n",
        "        print (\"I am\",self.common_name,words)\n",
        "\n",
        "class Action:\n",
        "    def walk(self):\n",
        "        print (\"walk\")\n",
        "    def run(self):\n",
        "        print (\"run\")\n",
        "\n",
        "class Cat(Animal,Action):\n",
        "    def run(self):\n",
        "        print (\"run run run\")\n",
        "    def dance(self):\n",
        "        self.walk()\n",
        "        self.run()\n",
        "        self.walk()\n",
        "\n",
        "\n",
        "if __name__ == \"__main__\":\n",
        "    tom = Cat()\n",
        "    print (tom.common_name)\n",
        "    tom.dance()\n",
        "    print (\"************\\n\")\n",
        "    tom.say(\"ha ha ha\")\n",
        "    tom.walk()\n",
        "    tom.run()"
      ],
      "execution_count": null,
      "outputs": [
        {
          "output_type": "stream",
          "text": [
            "animal\n",
            "walk\n",
            "run run run\n",
            "walk\n",
            "************\n",
            "\n",
            "I am animal ha ha ha\n",
            "walk\n",
            "run run run\n"
          ],
          "name": "stdout"
        }
      ]
    },
    {
      "cell_type": "code",
      "metadata": {
        "id": "AJ9j4pcAErpN",
        "colab_type": "code",
        "colab": {
          "base_uri": "https://localhost:8080/",
          "height": 425
        },
        "outputId": "fe820a0b-0ab4-4705-fb14-10dc3b733cb8"
      },
      "source": [
        "#Example 1-9-12\n",
        "\n",
        "'intention no description'\n",
        " \n",
        "class Animal:\n",
        "    name = 'no name'\n",
        "    action = 'no action'\n",
        "    common_name = 'no common name'\n",
        "    \n",
        "    def say(self):\n",
        "        print (\"I am\",self.name,\",\",self.action)\n",
        "    def animal_say(self):\n",
        "        print (\"Animal say\",Animal.name,\",\",Animal.action)\n",
        "\n",
        "\n",
        "if __name__ == \"__main__\":\n",
        "    print (\"1)\")  \n",
        "    tom = Animal()\n",
        "    print (tom.name,tom.action)\n",
        "    print (Animal.name,Animal.action)\n",
        "    tom.say()\n",
        "    tom.animal_say()\n",
        "    print (\"************\\n\")\n",
        "\n",
        "    print (\"2)\")  \n",
        "    tom.name = \"Tom\"\n",
        "    tom.action = \"running\"\n",
        "    print (tom.name,tom.action)\n",
        "    print (Animal.name,Animal.action)\n",
        "    tom.say()\n",
        "    tom.animal_say()\n",
        "    print (\"************\\n\")\n",
        "\n",
        "    print (\"3)\")  \n",
        "    Animal.name = \"...\"\n",
        "    Animal.action = \"...\"\n",
        "    jerry = Animal()\n",
        "    tom.say()\n",
        "    jerry.say()\n",
        "    print (Animal.name,Animal.action)\n",
        "    print (\"************\\n\")\n",
        "\n",
        "    print (\"4)\")  \n",
        "    tom.animal_say()\n",
        "    jerry.animal_say() "
      ],
      "execution_count": null,
      "outputs": [
        {
          "output_type": "stream",
          "text": [
            "1)\n",
            "no name no action\n",
            "no name no action\n",
            "I am no name , no action\n",
            "Animal say no name , no action\n",
            "************\n",
            "\n",
            "2)\n",
            "Tom running\n",
            "no name no action\n",
            "I am Tom , running\n",
            "Animal say no name , no action\n",
            "************\n",
            "\n",
            "3)\n",
            "I am Tom , running\n",
            "I am ... , ...\n",
            "... ...\n",
            "************\n",
            "\n",
            "4)\n",
            "Animal say ... , ...\n",
            "Animal say ... , ...\n"
          ],
          "name": "stdout"
        }
      ]
    },
    {
      "cell_type": "code",
      "metadata": {
        "id": "RAtyXhPpEwMk",
        "colab_type": "code",
        "colab": {
          "base_uri": "https://localhost:8080/",
          "height": 176
        },
        "outputId": "38ae9261-971b-4109-bf12-d25ab47b3af9"
      },
      "source": [
        "#Example 1-9-13\n",
        "\n",
        "'Program Document'\n",
        "class Animal():\n",
        "    'Class Animal'\n",
        "    def say(self):\n",
        "        'Method Say'\n",
        "        print (\"hi\")\n",
        "\n",
        "if __name__ == \"__main__\":\n",
        "    tom = Animal()\n",
        "    tom.say()\n",
        "    print (\"************\\n\")\n",
        "    \n",
        "    print(__doc__)\n",
        "    print (Animal.__doc__)\n",
        "    print (Animal.say.__doc__)\n",
        "    print (__name__)\n",
        "    print (Animal.__name__)\n",
        "    print (Animal.say.__name__)"
      ],
      "execution_count": null,
      "outputs": [
        {
          "output_type": "stream",
          "text": [
            "hi\n",
            "************\n",
            "\n",
            "Program Document\n",
            "Class Animal\n",
            "Method Say\n",
            "__main__\n",
            "Animal\n",
            "say\n"
          ],
          "name": "stdout"
        }
      ]
    },
    {
      "cell_type": "code",
      "metadata": {
        "id": "OneAXH5VE3p9",
        "colab_type": "code",
        "colab": {
          "base_uri": "https://localhost:8080/",
          "height": 34
        },
        "outputId": "c83ff36c-60ac-409a-a6f3-d47627441224"
      },
      "source": [
        "#Example 1-10-1\n",
        "\n",
        "def func_1_10_1():\n",
        "    'สร้าง และเขียนข้อมูลลงในไฟล์ ถ้ามีไฟล์ชื่อเดิมอยู่จะสร้างใหม่ทับไป'\n",
        "    try:\n",
        "        with open(\"test.txt\",\"w\") as f:\n",
        "            f.write (\"hello, world!\")\n",
        "            f.write (\"123 456 789\\n\")\n",
        "            print (\"HELLO\", file=f)\n",
        "            print (\"WORLD\", file=f)\n",
        "        print (\"File Created!!!\")\n",
        "    except:\n",
        "        print (\"Cannot open file!!!\")\n",
        "\n",
        "if __name__ == \"__main__\":\n",
        "    func_1_10_1()"
      ],
      "execution_count": null,
      "outputs": [
        {
          "output_type": "stream",
          "text": [
            "File Created!!!\n"
          ],
          "name": "stdout"
        }
      ]
    },
    {
      "cell_type": "code",
      "metadata": {
        "id": "xSHtolwqE-sS",
        "colab_type": "code",
        "colab": {
          "base_uri": "https://localhost:8080/",
          "height": 34
        },
        "outputId": "50421e97-379d-4a99-905c-f8a2c35017c5"
      },
      "source": [
        "#Example 1-10-2\n",
        "\n",
        "def func_1_10_2():\n",
        "    'เปิดไฟล์ และเขียนข้อมูลเพิ่ม ถ้าไม่มีไฟล์เดิม จะสร้างใหม่ให้'\n",
        "    try:\n",
        "        with open(\"test.txt\",\"a\") as f:\n",
        "            f.write (\"Append\")\n",
        "            f.write (\"!!!\\n\")\n",
        "            print (\"HELLO\", file=f)\n",
        "            print (\"AGAIN\", file=f)\n",
        "        print (\"File Appended!!!\")\n",
        "    except:\n",
        "        print (\"Cannot open file\")\n",
        "\n",
        "if __name__ == \"__main__\":\n",
        "    func_1_10_2()"
      ],
      "execution_count": null,
      "outputs": [
        {
          "output_type": "stream",
          "text": [
            "File Appended!!!\n"
          ],
          "name": "stdout"
        }
      ]
    },
    {
      "cell_type": "code",
      "metadata": {
        "id": "tU6VpI9lFG88",
        "colab_type": "code",
        "colab": {
          "base_uri": "https://localhost:8080/",
          "height": 212
        },
        "outputId": "eba1977e-c93f-409b-9a47-153f1e196aad"
      },
      "source": [
        "#Example 1-10-3\n",
        "\n",
        "def func_1_10_3():\n",
        "    'อ่านไฟล์'\n",
        "    try:\n",
        "        with open(\"test.txt\",\"r\") as f:\n",
        "            a = f.readline()\n",
        "            print (a)\n",
        "            print (f.readlines())\n",
        "            print (\"***Current file position is\",f.tell())\n",
        "            f.seek(0)\n",
        "            print (\"***Set current file position to\",f.tell())\n",
        "            print (f.readlines())\n",
        "            f.seek(3)\n",
        "            print (\"***Set current file position to\",f.tell())\n",
        "            print (f.readline())\n",
        "            print (\"***Current file position is\",f.tell())\n",
        "        print (\"File Read!!!\")\n",
        "    except:\n",
        "        print (\"Cannot open file\")\n",
        "\n",
        "if __name__ == \"__main__\":\n",
        "    func_1_10_3()"
      ],
      "execution_count": null,
      "outputs": [
        {
          "output_type": "stream",
          "text": [
            "hello, world!123 456 789\n",
            "\n",
            "['HELLO\\n', 'WORLD\\n', 'Append!!!\\n', 'HELLO\\n', 'AGAIN\\n']\n",
            "***Current file position is 59\n",
            "***Set current file position to 0\n",
            "['hello, world!123 456 789\\n', 'HELLO\\n', 'WORLD\\n', 'Append!!!\\n', 'HELLO\\n', 'AGAIN\\n']\n",
            "***Set current file position to 3\n",
            "lo, world!123 456 789\n",
            "\n",
            "***Current file position is 25\n",
            "File Read!!!\n"
          ],
          "name": "stdout"
        }
      ]
    },
    {
      "cell_type": "code",
      "metadata": {
        "id": "zN6OiF7mGB_U",
        "colab_type": "code",
        "colab": {
          "base_uri": "https://localhost:8080/",
          "height": 87
        },
        "outputId": "c7775e36-d049-4277-d610-2b0ede119530"
      },
      "source": [
        "#Example 1-10-4\n",
        "\n",
        "def func_1_10_4():\n",
        "    'เขียนภาษาไทยลงในไฟล์'\n",
        "    try:\n",
        "        with open(\"test.txt\",mode=\"r+\",encoding=\"utf-8\") as f:\n",
        "            f.writelines(\"สวัสดี\")\n",
        "            print (\"ชาวโลก\",file=f)\n",
        "            print (\"***Current file position is\",f.tell())\n",
        "            f.seek(0)\n",
        "            print (\"***Set file position to\",f.tell())\n",
        "            print (f.readlines())\n",
        "        print (\"File Opened!!!\")\n",
        "    except:\n",
        "        print (\"Cannot open file\")\n",
        "\n",
        "if __name__ == \"__main__\":\n",
        "    func_1_10_4()"
      ],
      "execution_count": null,
      "outputs": [
        {
          "output_type": "stream",
          "text": [
            "***Current file position is 37\n",
            "***Set file position to 0\n",
            "['สวัสดีชาวโลก\\n', 'Append!!!\\n', 'HELLO\\n', 'AGAIN\\n']\n",
            "File Opened!!!\n"
          ],
          "name": "stdout"
        }
      ]
    },
    {
      "cell_type": "code",
      "metadata": {
        "id": "-b9KK-xIdwY1",
        "colab_type": "code",
        "colab": {
          "base_uri": "https://localhost:8080/",
          "height": 90
        },
        "outputId": "5f679852-2019-4673-b296-2f54121f10e6"
      },
      "source": [
        "#Example 2-1-1\n",
        "\n",
        "def hello():\n",
        "    'ป้อนเลข 1-7 แล้วพิมพ์ค่าออกมาตามเงื่อนไข'\n",
        "    \n",
        "    loop = True\n",
        "    \n",
        "    while loop:\n",
        "        x = input(\"ป้อนเลข 1-7 (ป้อน 0 เพื่อออกจากโปรแกรม) :\")\n",
        "        if x==\"1\":\n",
        "            print (\"สวัสดีวันอาทิตย์์\")\n",
        "        elif x==\"2\":\n",
        "            print (\"สวัสดีวันจันทร์\")\n",
        "        elif x==\"3\":\n",
        "            print (\"สวัสดีวันอังคาร\")\n",
        "        elif x==\"4\":\n",
        "            print (\"สวัสดีวันพุธ\")\n",
        "        elif x==\"5\":\n",
        "            print (\"สวัสดีวันพฤหัสบดี\")\n",
        "        elif x==\"6\":\n",
        "            print (\"สวัสดีวันศุกร์\")\n",
        "        elif x==\"7\":\n",
        "            print (\"สวัสดีวันเสาร์\")\n",
        "        elif x==\"0\":\n",
        "            print (\"ลาก่อน\")\n",
        "            loop = False\n",
        "            \n",
        "if __name__=='__main__':\n",
        "    hello()"
      ],
      "execution_count": 1,
      "outputs": [
        {
          "output_type": "stream",
          "text": [
            "ป้อนเลข 1-7 (ป้อน 0 เพื่อออกจากโปรแกรม) :7\n",
            "สวัสดีวันเสาร์\n",
            "ป้อนเลข 1-7 (ป้อน 0 เพื่อออกจากโปรแกรม) :0\n",
            "ลาก่อน\n"
          ],
          "name": "stdout"
        }
      ]
    },
    {
      "cell_type": "code",
      "metadata": {
        "id": "ZQnyqR2gfFB6",
        "colab_type": "code",
        "colab": {
          "base_uri": "https://localhost:8080/",
          "height": 90
        },
        "outputId": "abb63173-4cff-48be-8697-914aac7c5c02"
      },
      "source": [
        "#Example 2-1-2\n",
        "\n",
        "def hello():\n",
        "    'ป้อนเลข 1-7 แล้วพิมพ์ค่าออกมาตามเงื่อนไข'\n",
        "    \n",
        "    word = {\n",
        "        \"1\":\"สวัสดีวันอาทิตย์\",\n",
        "        \"2\":\"สวัสดีวันจันทร์์\",\n",
        "        \"3\":\"สวัสดีวันอังคาร\",\n",
        "        \"4\":\"สวัสดีวันพุธ\",\n",
        "        \"5\":\"สวัสดีวันพฤหัสบดี\",\n",
        "        \"6\":\"สวัสดีวันศุกร์\",\n",
        "        \"7\":\"สวัสดีวันเสาร์\",\n",
        "        \"0\":\"ลาก่อน\" }\n",
        "        \n",
        "    loop = True\n",
        "    while loop:\n",
        "        x = input(\"ป้อนเลข 1-7 (ป้อน 0 เพื่อออกจากโปรแกรม) :\")\n",
        "        if x == \"0\":\n",
        "            print (word[\"0\"])\n",
        "            loop = False\n",
        "        elif x in word:\n",
        "            print (word[x])\n",
        "\n",
        "if __name__=='__main__':\n",
        "    hello()"
      ],
      "execution_count": 2,
      "outputs": [
        {
          "output_type": "stream",
          "text": [
            "ป้อนเลข 1-7 (ป้อน 0 เพื่อออกจากโปรแกรม) :5\n",
            "สวัสดีวันพฤหัสบดี\n",
            "ป้อนเลข 1-7 (ป้อน 0 เพื่อออกจากโปรแกรม) :0\n",
            "ลาก่อน\n"
          ],
          "name": "stdout"
        }
      ]
    },
    {
      "cell_type": "code",
      "metadata": {
        "id": "rn9GNANZf1Fb",
        "colab_type": "code",
        "colab": {}
      },
      "source": [
        ""
      ],
      "execution_count": null,
      "outputs": []
    },
    {
      "cell_type": "code",
      "metadata": {
        "id": "mekiglmxfRDL",
        "colab_type": "code",
        "colab": {
          "base_uri": "https://localhost:8080/",
          "height": 199
        },
        "outputId": "afa46744-7baf-4aa8-aa0b-2e5ab969b85c"
      },
      "source": [
        "#Example 2-2-1\n",
        "\n",
        "def draw_triangle():\n",
        "    'ใช้ * วาดเป็นสามเหลี่ยม'\n",
        "\n",
        "    print (\"*\")\n",
        "    print (\"**\")\n",
        "    print (\"***\")\n",
        "    print (\"****\")\n",
        "    print (\"*****\")\n",
        "    print (\"******\")\n",
        "    print (\"*******\")\n",
        "    print (\"********\")\n",
        "    print (\"*********\")\n",
        "    print (\"**********\")\n",
        "    \n",
        "if __name__=='__main__':\n",
        "    draw_triangle()"
      ],
      "execution_count": 3,
      "outputs": [
        {
          "output_type": "stream",
          "text": [
            "*\n",
            "**\n",
            "***\n",
            "****\n",
            "*****\n",
            "******\n",
            "*******\n",
            "********\n",
            "*********\n",
            "**********\n"
          ],
          "name": "stdout"
        }
      ]
    },
    {
      "cell_type": "code",
      "metadata": {
        "id": "lrwhpifMGIwm",
        "colab_type": "code",
        "colab": {
          "base_uri": "https://localhost:8080/",
          "height": 199
        },
        "outputId": "f2919497-245d-4b94-fde0-d6983daa70e5"
      },
      "source": [
        "#Example 2-2-2\n",
        "\n",
        "def draw_triangle(max=10):\n",
        "    'ใช้ * วาดเป็นสามเหลี่ยม โดยใช้ loop'\n",
        "\n",
        "    for i in range (max):\n",
        "        counter = i+1\n",
        "        star = \"*\" * counter\n",
        "        print (star)\n",
        "    \n",
        "if __name__=='__main__':\n",
        "    draw_triangle()"
      ],
      "execution_count": 4,
      "outputs": [
        {
          "output_type": "stream",
          "text": [
            "*\n",
            "**\n",
            "***\n",
            "****\n",
            "*****\n",
            "******\n",
            "*******\n",
            "********\n",
            "*********\n",
            "**********\n"
          ],
          "name": "stdout"
        }
      ]
    },
    {
      "cell_type": "code",
      "metadata": {
        "id": "doZHTuo3f7gq",
        "colab_type": "code",
        "colab": {
          "base_uri": "https://localhost:8080/",
          "height": 199
        },
        "outputId": "6ed1e99f-726c-4209-e0b1-b6da4da09b64"
      },
      "source": [
        "#Example 2-2-3\n",
        "\n",
        "def draw_upside_triangle(max=10):\n",
        "    'ใช้ * วาดเป็นสามเหลี่ยมกลับหัว'\n",
        "\n",
        "    for i in range(max,0,-1):\n",
        "        counter = i\n",
        "        star = \"*\" * counter\n",
        "        print (star)\n",
        "        \n",
        "if __name__=='__main__':\n",
        "    draw_upside_triangle()"
      ],
      "execution_count": 5,
      "outputs": [
        {
          "output_type": "stream",
          "text": [
            "**********\n",
            "*********\n",
            "********\n",
            "*******\n",
            "******\n",
            "*****\n",
            "****\n",
            "***\n",
            "**\n",
            "*\n"
          ],
          "name": "stdout"
        }
      ]
    },
    {
      "cell_type": "code",
      "metadata": {
        "id": "MKeZpISLgDJf",
        "colab_type": "code",
        "colab": {
          "base_uri": "https://localhost:8080/",
          "height": 199
        },
        "outputId": "4e398276-e6ab-498b-8d59-6fd4a34b9c56"
      },
      "source": [
        "#Example 2-2-4\n",
        "\n",
        "def draw_mirror_triangle(max=10):\n",
        "    'ใช้ * วาดเป็นสามเหลี่ยมกลับด้าน'\n",
        "\n",
        "    for i in range (max,0,-1):\n",
        "        counter = i-1\n",
        "        space = \" \" * counter\n",
        "        star = \"*\" * (max-counter)\n",
        "        print (space+star)\n",
        "        \n",
        "if __name__=='__main__':\n",
        "    draw_mirror_triangle()"
      ],
      "execution_count": 6,
      "outputs": [
        {
          "output_type": "stream",
          "text": [
            "         *\n",
            "        **\n",
            "       ***\n",
            "      ****\n",
            "     *****\n",
            "    ******\n",
            "   *******\n",
            "  ********\n",
            " *********\n",
            "**********\n"
          ],
          "name": "stdout"
        }
      ]
    },
    {
      "cell_type": "code",
      "metadata": {
        "id": "5wbwtYVLgIgY",
        "colab_type": "code",
        "colab": {
          "base_uri": "https://localhost:8080/",
          "height": 199
        },
        "outputId": "aaafe1ab-9f2e-42e0-a867-02d573a0f822"
      },
      "source": [
        "#Example 2-2-5\n",
        "\n",
        "def draw_mirror_upside_triangle(max=10):\n",
        "    'ใช้ * วาดเป็นสามเหลี่ยมกลับด้านและกลับหัว'\n",
        "\n",
        "    for i in range (0,max):\n",
        "        counter = i\n",
        "        space = \" \" * counter\n",
        "        star = \"*\" * (max-counter)\n",
        "        print (space+star)\n",
        "        \n",
        "if __name__=='__main__':\n",
        "    draw_mirror_upside_triangle()"
      ],
      "execution_count": 7,
      "outputs": [
        {
          "output_type": "stream",
          "text": [
            "**********\n",
            " *********\n",
            "  ********\n",
            "   *******\n",
            "    ******\n",
            "     *****\n",
            "      ****\n",
            "       ***\n",
            "        **\n",
            "         *\n"
          ],
          "name": "stdout"
        }
      ]
    },
    {
      "cell_type": "code",
      "metadata": {
        "id": "lpMx2GpmgLC9",
        "colab_type": "code",
        "colab": {
          "base_uri": "https://localhost:8080/",
          "height": 363
        },
        "outputId": "6bd1709a-aee8-4bc3-85e4-fd3aec066df5"
      },
      "source": [
        "#Example 2-2-6\n",
        "\n",
        "def draw_diamond(max=10):\n",
        "    'ใช้ * วาดเป็นรูปเพชร'\n",
        "\n",
        "    for i in range (max):\n",
        "        counter = i+1\n",
        "        space = \" \" * (max-counter)\n",
        "        star = \"*\" * counter + \"*\" * (counter-1)\n",
        "        print (space+star)\n",
        "\n",
        "    for i in range (max,1,-1):\n",
        "        counter = i-1\n",
        "        space = \" \" * (max-counter)\n",
        "        star = \"*\" * counter + \"*\" * (counter-1)\n",
        "        print (space+star)\n",
        "        \n",
        "if __name__=='__main__':\n",
        "    draw_diamond()"
      ],
      "execution_count": 8,
      "outputs": [
        {
          "output_type": "stream",
          "text": [
            "         *\n",
            "        ***\n",
            "       *****\n",
            "      *******\n",
            "     *********\n",
            "    ***********\n",
            "   *************\n",
            "  ***************\n",
            " *****************\n",
            "*******************\n",
            " *****************\n",
            "  ***************\n",
            "   *************\n",
            "    ***********\n",
            "     *********\n",
            "      *******\n",
            "       *****\n",
            "        ***\n",
            "         *\n"
          ],
          "name": "stdout"
        }
      ]
    },
    {
      "cell_type": "code",
      "metadata": {
        "id": "7UsfpkXQgQa2",
        "colab_type": "code",
        "colab": {
          "base_uri": "https://localhost:8080/",
          "height": 363
        },
        "outputId": "e5290dc5-fe70-47bb-a8be-da193693711a"
      },
      "source": [
        "#Example 2-2-7\n",
        "\n",
        "def print_line(counter,max):\n",
        "    'แสดงผล * แต่ละแถว'\n",
        "\n",
        "    space = \" \" * (max-counter)\n",
        "    star = \"*\" * counter + \"*\" * (counter-1)\n",
        "    print (space+star)\n",
        "\n",
        "def draw_diamond2(max=10):\n",
        "    'ใช้ * วาดเป็นรูปเพชร'\n",
        "\n",
        "    for i in range (max):\n",
        "        counter = i+1\n",
        "        print_line(counter,max)\n",
        "\n",
        "    for i in range (max,1,-1):\n",
        "        counter = i-1\n",
        "        print_line(counter,max)\n",
        "\n",
        "if __name__=='__main__':\n",
        "    draw_diamond2()"
      ],
      "execution_count": 9,
      "outputs": [
        {
          "output_type": "stream",
          "text": [
            "         *\n",
            "        ***\n",
            "       *****\n",
            "      *******\n",
            "     *********\n",
            "    ***********\n",
            "   *************\n",
            "  ***************\n",
            " *****************\n",
            "*******************\n",
            " *****************\n",
            "  ***************\n",
            "   *************\n",
            "    ***********\n",
            "     *********\n",
            "      *******\n",
            "       *****\n",
            "        ***\n",
            "         *\n"
          ],
          "name": "stdout"
        }
      ]
    },
    {
      "cell_type": "code",
      "metadata": {
        "id": "sWt-NcFngYFo",
        "colab_type": "code",
        "colab": {
          "base_uri": "https://localhost:8080/",
          "height": 108
        },
        "outputId": "72c834db-289b-4ce5-afb9-ff2ac8cf631b"
      },
      "source": [
        "#Example 2-3-1\n",
        "\n",
        "def sum_to_n(n):\n",
        "    'หาผลบวกของ 1+2+3+...+n ด้วยคำสั่ง for loop'\n",
        "    x=0\n",
        "    n=n+1\n",
        "    for i in range(1,n):\n",
        "        x+=i\n",
        "    return x\n",
        "\n",
        "if __name__ == \"__main__\":\n",
        "    print (sum_to_n.__doc__)\n",
        "    print (\"n=5 ผลบวก=\",sum_to_n(5))\n",
        "    print (\"n=10 ผลบวก=\",sum_to_n(10))\n",
        "    print (\"n=2 ผลบวก=\",sum_to_n(2))\n",
        "    print (\"n=100 ผลบวก=\",sum_to_n(100))\n",
        "    "
      ],
      "execution_count": 11,
      "outputs": [
        {
          "output_type": "stream",
          "text": [
            "หาผลบวกของ 1+2+3+...+n ด้วยคำสั่ง for loop\n",
            "n=5 ผลบวก= 15\n",
            "n=10 ผลบวก= 55\n",
            "n=2 ผลบวก= 3\n",
            "n=100 ผลบวก= 5050\n"
          ],
          "name": "stdout"
        }
      ]
    },
    {
      "cell_type": "code",
      "metadata": {
        "id": "kr4sqKgHgeQp",
        "colab_type": "code",
        "colab": {
          "base_uri": "https://localhost:8080/",
          "height": 108
        },
        "outputId": "843c1395-cf7f-484b-dd48-5dcaefca72ea"
      },
      "source": [
        "#Example 2-3-2\n",
        "\n",
        "def sum_to_n2(n):\n",
        "    'หาผลบวกของ 1+2+3+...+n จากสูตร n*(n+1)/2'\n",
        "    return n*(n+1)/2\n",
        "\n",
        "if __name__ == \"__main__\":\n",
        "    print (sum_to_n2.__doc__)\n",
        "    print (\"n=5 ผลบวก=\",sum_to_n2(5))\n",
        "    print (\"n=10 ผลบวก=\",sum_to_n2(10))\n",
        "    print (\"n=2 ผลบวก=\",sum_to_n2(2))\n",
        "    print (\"n=100 ผลบวก=\",sum_to_n2(100))\n"
      ],
      "execution_count": 12,
      "outputs": [
        {
          "output_type": "stream",
          "text": [
            "หาผลบวกของ 1+2+3+...+n จากสูตร n*(n+1)/2\n",
            "n=5 ผลบวก= 15.0\n",
            "n=10 ผลบวก= 55.0\n",
            "n=2 ผลบวก= 3.0\n",
            "n=100 ผลบวก= 5050.0\n"
          ],
          "name": "stdout"
        }
      ]
    },
    {
      "cell_type": "code",
      "metadata": {
        "id": "ThTsWOSJgjy7",
        "colab_type": "code",
        "colab": {
          "base_uri": "https://localhost:8080/",
          "height": 126
        },
        "outputId": "7ea37006-7ba3-4cc2-e961-1efb2ef591a2"
      },
      "source": [
        "#Example 2-3-3\n",
        "\n",
        "def sum_to_n3(n):return n*(n+1)/2 \n",
        "'หาผลบวกของ 1+2+3+...+n จากสูตร n*(n+1)/2 ในหนึ่งบรรทัด'\n",
        "\n",
        "if __name__ == \"__main__\":\n",
        "    print(\"หาผลบวก 1-n จากสูตร n*(n+1)/2 ในหนึ่งบรรทัด\")\n",
        "    print (\"n=5 ผลบวก=\",sum_to_n3(5))\n",
        "    print (\"n=10 ผลบวก=\",sum_to_n3(10))\n",
        "    print (\"n=2 ผลบวก=\",sum_to_n3(2))\n",
        "    print (\"n=100 ผลบวก=\",sum_to_n3(100))\n",
        "    print (sum_to_n3.__doc__)"
      ],
      "execution_count": 13,
      "outputs": [
        {
          "output_type": "stream",
          "text": [
            "หาผลบวก 1-n จากสูตร n*(n+1)/2 ในหนึ่งบรรทัด\n",
            "n=5 ผลบวก= 15.0\n",
            "n=10 ผลบวก= 55.0\n",
            "n=2 ผลบวก= 3.0\n",
            "n=100 ผลบวก= 5050.0\n",
            "None\n"
          ],
          "name": "stdout"
        }
      ]
    },
    {
      "cell_type": "code",
      "metadata": {
        "id": "ZLUQDI1cgsqq",
        "colab_type": "code",
        "colab": {
          "base_uri": "https://localhost:8080/",
          "height": 126
        },
        "outputId": "ebf6283f-b58b-4470-ed85-09cc0109a17a"
      },
      "source": [
        "#Example 2-3-4\n",
        "'ใช้ lambda function หาผลบวกของ 1+2+3+...+n'\n",
        "\n",
        "if __name__ == \"__main__\":\n",
        "    sum_to_n4=lambda n:n*(n+1)/2\n",
        "    \n",
        "    print (__doc__)\n",
        "    print (\"n=5 ผลบวก=\",sum_to_n4(5))\n",
        "    print (\"n=10 ผลบวก=\",sum_to_n4(10))\n",
        "    print (\"n=2 ผลบวก=\",sum_to_n4(2))\n",
        "    print (\"n=100 ผลบวก=\",sum_to_n4(100))\n",
        "    print (type(sum_to_n4))"
      ],
      "execution_count": 14,
      "outputs": [
        {
          "output_type": "stream",
          "text": [
            "ใช้ lambda function หาผลบวกของ 1+2+3+...+n\n",
            "n=5 ผลบวก= 15.0\n",
            "n=10 ผลบวก= 55.0\n",
            "n=2 ผลบวก= 3.0\n",
            "n=100 ผลบวก= 5050.0\n",
            "<class 'function'>\n"
          ],
          "name": "stdout"
        }
      ]
    },
    {
      "cell_type": "code",
      "metadata": {
        "id": "LiChiyGWg401",
        "colab_type": "code",
        "colab": {
          "base_uri": "https://localhost:8080/",
          "height": 417
        },
        "outputId": "0c0c21f5-c834-44de-fd4c-23bd36ff7f99"
      },
      "source": [
        "#Example 2-4-1\n",
        "\n",
        "def compound_interest(deposit,interest,n):\n",
        "    'หาผลรวมเงินต้นกับดอกเบี้ยทบต้น n รอบ'\n",
        "\n",
        "    amount = []\n",
        "    for i in range(n):\n",
        "        deposit+=deposit*interest\n",
        "        amount.append(deposit)\n",
        "    return amount\n",
        "\n",
        "if __name__ == \"__main__\":\n",
        "    print (compound_interest(100,0.01,10))\n",
        "    print (\"\\n\")\n",
        "    print (*compound_interest(100,0.01,10))\n",
        "    print (\"\\n\")\n",
        "    print (*compound_interest(100,0.01,10),sep=\"\\n\")\n",
        "    print (\"\\n\")\n",
        "    print (\"เงินต้น 100 เพิ่มวันละ 1% เป็นเวลา 1ปี =\")\n",
        "    print (round(compound_interest(100,0.01,365)[-1],2))\n",
        "    print (\"เงินต้น 100 บาท ลดวันละ 1% เป็นเวลา 1ปี =\") \n",
        "    print (round(compound_interest(100,-0.01,365)[-1],2))\n"
      ],
      "execution_count": 15,
      "outputs": [
        {
          "output_type": "stream",
          "text": [
            "[101.0, 102.01, 103.0301, 104.060401, 105.10100501, 106.1520150601, 107.213535210701, 108.28567056280801, 109.36852726843608, 110.46221254112044]\n",
            "\n",
            "\n",
            "101.0 102.01 103.0301 104.060401 105.10100501 106.1520150601 107.213535210701 108.28567056280801 109.36852726843608 110.46221254112044\n",
            "\n",
            "\n",
            "101.0\n",
            "102.01\n",
            "103.0301\n",
            "104.060401\n",
            "105.10100501\n",
            "106.1520150601\n",
            "107.213535210701\n",
            "108.28567056280801\n",
            "109.36852726843608\n",
            "110.46221254112044\n",
            "\n",
            "\n",
            "เงินต้น 100 เพิ่มวันละ 1% เป็นเวลา 1ปี =\n",
            "3778.34\n",
            "เงินต้น 100 บาท ลดวันละ 1% เป็นเวลา 1ปี =\n",
            "2.55\n"
          ],
          "name": "stdout"
        }
      ]
    },
    {
      "cell_type": "code",
      "metadata": {
        "id": "FieAb9v9hCL0",
        "colab_type": "code",
        "colab": {
          "base_uri": "https://localhost:8080/",
          "height": 181
        },
        "outputId": "fc99e537-cb61-4d91-8091-3d4258aa4a49"
      },
      "source": [
        "#Example 2-4-2\n",
        "\n",
        "def compound_int1(deposit,interest,n):\n",
        "    'หาผลรวมเงินต้นกับดอกเบี้ยทบต้น n รอบ'\n",
        "    for i in range(n):\n",
        "        deposit+=deposit*interest\n",
        "    return round(deposit,3)\n",
        "\n",
        "def compound_int2(deposit,interest,n):\n",
        "    'หาผลรวมเงินต้นกับดอกเบี้ยทบต้นจากสูตร PV*(1+i)**n'\n",
        "    return round(deposit *(1+interest)**n,3)\n",
        "\n",
        "if __name__ == \"__main__\":\n",
        "    print (\"เงินต้น 100 บาท เพิ่มวันละ 1% เป็นเวลา 1ปี\")\n",
        "    print (\"คำนวณด้วย loop =\",compound_int1(100,0.01,365))\n",
        "    print (\"คำนวณด้วยสูตร=\",compound_int2(100,0.01,365))\n",
        "    print(\"\\n\")\n",
        "    print (\"เงินต้น 100 บาท ลดวันละ 1% เป็นเวลา 1ปี\")\n",
        "    \n",
        "    print (\"คำนวณด้วย loop=\",compound_int1(100,-0.01,365))\n",
        "    print (\"คำนวณด้วยสูตร=\",compound_int2(100,-0.01,365))\n",
        "    \n",
        "    compound_int3=lambda deposit,interest,n: \\\n",
        "    round(deposit*(1+interest)**n,3)\n",
        "    print (\"ใช้ lambda function=\",compound_int3(100,-0.01,365))"
      ],
      "execution_count": 16,
      "outputs": [
        {
          "output_type": "stream",
          "text": [
            "เงินต้น 100 บาท เพิ่มวันละ 1% เป็นเวลา 1ปี\n",
            "คำนวณด้วย loop = 3778.343\n",
            "คำนวณด้วยสูตร= 3778.343\n",
            "\n",
            "\n",
            "เงินต้น 100 บาท ลดวันละ 1% เป็นเวลา 1ปี\n",
            "คำนวณด้วย loop= 2.552\n",
            "คำนวณด้วยสูตร= 2.552\n",
            "ใช้ lambda function= 2.552\n"
          ],
          "name": "stdout"
        }
      ]
    },
    {
      "cell_type": "code",
      "metadata": {
        "id": "fCTWXJs9hKYy",
        "colab_type": "code",
        "colab": {
          "base_uri": "https://localhost:8080/",
          "height": 90
        },
        "outputId": "e6d70495-d385-460a-8242-6e0584406e86"
      },
      "source": [
        "#Example 2-5-1\n",
        "\n",
        "def factorial1(n):\n",
        "    'หา factorial number'\n",
        "    n = n+1\n",
        "    ans=1\n",
        "    for i in range(1,n):\n",
        "        ans=ans*i\n",
        "    return ans\n",
        "\n",
        "if __name__ == \"__main__\":\n",
        "    print (\"3! =\",factorial1(3))\n",
        "    print (\"5! =\",factorial1(5))\n",
        "    print (\"1! =\",factorial1(1))\n",
        "    print (\"0! =\",factorial1(0))"
      ],
      "execution_count": 17,
      "outputs": [
        {
          "output_type": "stream",
          "text": [
            "3! = 6\n",
            "5! = 120\n",
            "1! = 1\n",
            "0! = 1\n"
          ],
          "name": "stdout"
        }
      ]
    },
    {
      "cell_type": "code",
      "metadata": {
        "id": "ela-T0EliA9P",
        "colab_type": "code",
        "colab": {
          "base_uri": "https://localhost:8080/",
          "height": 90
        },
        "outputId": "a4a0d266-93e8-4013-f344-1fc607947460"
      },
      "source": [
        "#Example 2-5-2\n",
        "\n",
        "def factorial2(n):\n",
        "    'หา factorial number ด้วย recursion'\n",
        "    if n==1 or n==0:\n",
        "        return 1\n",
        "    else:\n",
        "        return n*factorial2(n-1)\n",
        "\n",
        "if __name__ == \"__main__\":\n",
        "    print (\"3! =\",factorial2(3))\n",
        "    print (\"5! =\",factorial2(5))\n",
        "    print (\"1! =\",factorial2(1))\n",
        "    print (\"0! =\",factorial2(0))"
      ],
      "execution_count": 18,
      "outputs": [
        {
          "output_type": "stream",
          "text": [
            "3! = 6\n",
            "5! = 120\n",
            "1! = 1\n",
            "0! = 1\n"
          ],
          "name": "stdout"
        }
      ]
    },
    {
      "cell_type": "code",
      "metadata": {
        "id": "N1Jy5HtoiE1J",
        "colab_type": "code",
        "colab": {
          "base_uri": "https://localhost:8080/",
          "height": 90
        },
        "outputId": "766887e7-407d-414a-b859-68cc9073e837"
      },
      "source": [
        "#Example 2-5-3\n",
        "\n",
        "def factorial3(n):\n",
        "    'หา factorial number โดยนับถอยหลัง'\n",
        "    ans=1\n",
        "    while n!=0:\n",
        "        ans*=n\n",
        "        n-=1\n",
        "    return ans\n",
        "\n",
        "if __name__ == \"__main__\":\n",
        "    print (\"3! =\",factorial3(3))\n",
        "    print (\"5! =\",factorial3(5))\n",
        "    print (\"1! =\",factorial3(1))\n",
        "    print (\"0! =\",factorial3(0))"
      ],
      "execution_count": 19,
      "outputs": [
        {
          "output_type": "stream",
          "text": [
            "3! = 6\n",
            "5! = 120\n",
            "1! = 1\n",
            "0! = 1\n"
          ],
          "name": "stdout"
        }
      ]
    },
    {
      "cell_type": "code",
      "metadata": {
        "id": "EU2JSmwiiKVE",
        "colab_type": "code",
        "colab": {
          "base_uri": "https://localhost:8080/",
          "height": 90
        },
        "outputId": "c26883ea-7677-4edb-e4b3-c0ad9c7ea74b"
      },
      "source": [
        "#Example 2-5-4\n",
        "'หา factorial number ด้วย lambda function'\n",
        "\n",
        "if __name__ == \"__main__\":\n",
        "    factorial4 = lambda n: 1 if n==0 else n*factorial4(n-1)\n",
        "\n",
        "    print (\"3! =\",factorial4(3))\n",
        "    print (\"5! =\",factorial4(5))\n",
        "    print (\"1! =\",factorial4(1))\n",
        "    print (\"0! =\",factorial4(0))"
      ],
      "execution_count": 20,
      "outputs": [
        {
          "output_type": "stream",
          "text": [
            "3! = 6\n",
            "5! = 120\n",
            "1! = 1\n",
            "0! = 1\n"
          ],
          "name": "stdout"
        }
      ]
    },
    {
      "cell_type": "code",
      "metadata": {
        "id": "6L-kyG7fiPfN",
        "colab_type": "code",
        "colab": {
          "base_uri": "https://localhost:8080/",
          "height": 90
        },
        "outputId": "2c550ebd-6504-4b15-f96e-7c8f403e7838"
      },
      "source": [
        "#Example 2-5-5\n",
        "import math as m\n",
        "'หา factorial number ด้วย math module'\n",
        "\n",
        "if __name__ == \"__main__\":\n",
        "    print (\"3! =\",m.factorial(3))\n",
        "    print (\"5! =\",m.factorial(5))\n",
        "    print (\"1! =\",m.factorial(1))\n",
        "    print (\"0! =\",m.factorial(0))"
      ],
      "execution_count": 21,
      "outputs": [
        {
          "output_type": "stream",
          "text": [
            "3! = 6\n",
            "5! = 120\n",
            "1! = 1\n",
            "0! = 1\n"
          ],
          "name": "stdout"
        }
      ]
    },
    {
      "cell_type": "code",
      "metadata": {
        "id": "1wNXOyIJiUS1",
        "colab_type": "code",
        "colab": {
          "base_uri": "https://localhost:8080/",
          "height": 145
        },
        "outputId": "1b17da2e-8fca-4f8a-c726-1bad814a5441"
      },
      "source": [
        "#Example 2-6-1\n",
        "\n",
        "def fibo1(n=2):\n",
        "    'Fibonacci number'\n",
        "\n",
        "    aList = [0,1]\n",
        "    n0 = 0\n",
        "    n1 = 1\n",
        "    if n<3: return aList\n",
        "        \n",
        "    for i in range(2,n):\n",
        "        n0,n1 = n1,n0+n1\n",
        "        aList.append(n1)\n",
        "    return aList\n",
        "\n",
        "if __name__ == \"__main__\":\n",
        "    print (fibo1())\n",
        "    print (fibo1(0))\n",
        "    print (fibo1(1))\n",
        "    print (fibo1(2))\n",
        "    print (fibo1(3))\n",
        "    print (fibo1(10))\n",
        "    print (fibo1(13))"
      ],
      "execution_count": 22,
      "outputs": [
        {
          "output_type": "stream",
          "text": [
            "[0, 1]\n",
            "[0, 1]\n",
            "[0, 1]\n",
            "[0, 1]\n",
            "[0, 1, 1]\n",
            "[0, 1, 1, 2, 3, 5, 8, 13, 21, 34]\n",
            "[0, 1, 1, 2, 3, 5, 8, 13, 21, 34, 55, 89, 144]\n"
          ],
          "name": "stdout"
        }
      ]
    },
    {
      "cell_type": "code",
      "metadata": {
        "id": "aDF65CRZiZeu",
        "colab_type": "code",
        "colab": {
          "base_uri": "https://localhost:8080/",
          "height": 126
        },
        "outputId": "2ef6b61a-858b-4e57-f0c4-0b3609a16b04"
      },
      "source": [
        "#Example 2-6-2\n",
        "'Fibonacci number in recursion'\n",
        "\n",
        "def fibo2(n):\n",
        "    if n<=1:\n",
        "        return n\n",
        "    else:\n",
        "        return(fibo2(n-1)+fibo2(n-2))\n",
        "\n",
        "def fibo_list(n=2):\n",
        "    aList=[]\n",
        "    for i in range(n):\n",
        "        aList.append(fibo2(i))\n",
        "    return aList\n",
        "\n",
        "if __name__ == \"__main__\": \n",
        "    print(fibo_list(0))\n",
        "    print(fibo_list(1))\n",
        "    print(fibo_list(2))\n",
        "    print(fibo_list(3))\n",
        "    print(fibo_list(10))\n",
        "    print(fibo_list(13))"
      ],
      "execution_count": 23,
      "outputs": [
        {
          "output_type": "stream",
          "text": [
            "[]\n",
            "[0]\n",
            "[0, 1]\n",
            "[0, 1, 1]\n",
            "[0, 1, 1, 2, 3, 5, 8, 13, 21, 34]\n",
            "[0, 1, 1, 2, 3, 5, 8, 13, 21, 34, 55, 89, 144]\n"
          ],
          "name": "stdout"
        }
      ]
    },
    {
      "cell_type": "code",
      "metadata": {
        "id": "kR6-s2d4id4v",
        "colab_type": "code",
        "colab": {
          "base_uri": "https://localhost:8080/",
          "height": 163
        },
        "outputId": "a7959d42-d5b0-4a89-909f-3ebbcbccb250"
      },
      "source": [
        "#Example 2-6-3\n",
        "\n",
        "def fibo3(n=0,aList=[],n0=0,n1=1):\n",
        "    'Modified Fibonacci number in recursion'\n",
        "\n",
        "    if len(aList)<n:\n",
        "        aList.append(n0)\n",
        "        n0,n1=n1,n0+n1\n",
        "    else:\n",
        "        return aList\n",
        "    return fibo3(n,aList,n0,n1)\n",
        "\n",
        "if __name__ == \"__main__\":    \n",
        "    print (fibo3())\n",
        "    print (fibo3(0,aList=[]))\n",
        "    print (fibo3(1,aList=[]))\n",
        "    print (fibo3(2,aList=[]))\n",
        "    print (fibo3(3,aList=[]))\n",
        "    print (fibo3(10,aList=[]))\n",
        "    print (fibo3(13,aList=[]))\n",
        "    print (fibo3(15,aList=[]))"
      ],
      "execution_count": 24,
      "outputs": [
        {
          "output_type": "stream",
          "text": [
            "[]\n",
            "[]\n",
            "[0]\n",
            "[0, 1]\n",
            "[0, 1, 1]\n",
            "[0, 1, 1, 2, 3, 5, 8, 13, 21, 34]\n",
            "[0, 1, 1, 2, 3, 5, 8, 13, 21, 34, 55, 89, 144]\n",
            "[0, 1, 1, 2, 3, 5, 8, 13, 21, 34, 55, 89, 144, 233, 377]\n"
          ],
          "name": "stdout"
        }
      ]
    },
    {
      "cell_type": "code",
      "metadata": {
        "id": "DJ93DIJOihc5",
        "colab_type": "code",
        "colab": {
          "base_uri": "https://localhost:8080/",
          "height": 145
        },
        "outputId": "8a5bd457-ba98-4423-9ded-7ecc6d995d9e"
      },
      "source": [
        "#Example 2-6-4\n",
        "'Modified Fibonacci number in lambda function'\n",
        "\n",
        "if __name__ == \"__main__\":\n",
        "    \n",
        "    fibo4 = lambda n=0, o=[]: [o.append(i) or \\\n",
        "    i if i<=1 else o.append(o[-1]+o[-2]) or \\\n",
        "    o[-1] for i in range(n)]\n",
        "\n",
        "    print (fibo4())\n",
        "    print (fibo4(0))\n",
        "    print (fibo4(1))\n",
        "    print (fibo4(2))\n",
        "    print (fibo4(3))\n",
        "    print (fibo4(10))\n",
        "    print (fibo4(13))"
      ],
      "execution_count": 25,
      "outputs": [
        {
          "output_type": "stream",
          "text": [
            "[]\n",
            "[]\n",
            "[0]\n",
            "[0, 1]\n",
            "[0, 1, 1]\n",
            "[0, 1, 1, 2, 3, 5, 8, 13, 21, 34]\n",
            "[0, 1, 1, 2, 3, 5, 8, 13, 21, 34, 55, 89, 144]\n"
          ],
          "name": "stdout"
        }
      ]
    },
    {
      "cell_type": "code",
      "metadata": {
        "id": "F3wYmbitiltl",
        "colab_type": "code",
        "colab": {
          "base_uri": "https://localhost:8080/",
          "height": 108
        },
        "outputId": "afdcd175-4166-4237-e348-3b2f32f7d4e6"
      },
      "source": [
        "#Example 2-7-1\n",
        "\n",
        "'MORSE Code encoder/decoder'\n",
        "morse_dict= {\n",
        "    'a':'.-', 'b':'-...', 'c':'-.-.', 'd':'-..', 'e':'.', \n",
        "    'f':'..-.', 'g':'--.', 'h':'....', 'i':'..', 'j':'.---', \n",
        "    'k':'-.-', 'l':'.-..', 'm':'--', 'n':'-.', 'o':'---', \n",
        "    'p':'.--.', 'q':'--.-', 'r':'.-.', 's':'...', 't':'-', \n",
        "    'u':'..-', 'v':'...-', 'w':'.--', 'x':'-..-', 'y':'-.--', \n",
        "    'z':'--..', \n",
        "    '1':'.----', '2':'..---', '3':'...--', '4':'....-', '5':'.....',\n",
        "    '6':'-....', '7':'--...', '8':'---..', '9':'----.', '0':'-----',\n",
        "    '.':'.-.-.-', ',':'--..--', ':':'---...', '?':'..--..', '\\'':'.----.', \n",
        "    '-':'-....-', '/':'-..-.', '(':'-.--.', ')':'-.--.-', '\"':'.-..-.', \n",
        "    '=':'-...-', '+':'.-.-.', '*':'-..-', '@':'.--.-.', \n",
        "    }\n",
        "\n",
        "def text_morse(txt):\n",
        "    m_code = []\n",
        "    for letter in txt.lower():\n",
        "        if letter in morse_dict:\n",
        "            m_code.append(morse_dict[letter])\n",
        "        else:\n",
        "            m_code.append('')\n",
        "    return m_code\n",
        "\n",
        "def morse_text(txt):\n",
        "    t_code = ''\n",
        "    \n",
        "    for letter in txt:\n",
        "        try:\n",
        "            t_code+=list(morse_dict.keys()) \\\n",
        "            [list(morse_dict.values()).index(letter)]\n",
        "        except:\n",
        "            t_code+=' '\n",
        "    return t_code\n",
        "\n",
        "if __name__ == \"__main__\":\n",
        "    print (\"hello,world! \",*text_morse(\"hello,world!\"))\n",
        "    print (\"sos SOS!! \",text_morse(\"sos SOS!!\"))\n",
        "    print (\"'S' \",*text_morse(\"'S'\"))\n",
        "    print (\"\\\"O\\\"\",*text_morse('\\\"O\\\"'))\n",
        "    print(morse_text(['...','---','abcd','...',]))"
      ],
      "execution_count": 26,
      "outputs": [
        {
          "output_type": "stream",
          "text": [
            "hello,world!  .... . .-.. .-.. --- --..-- .-- --- .-. .-.. -.. \n",
            "sos SOS!!  ['...', '---', '...', '', '...', '---', '...', '', '']\n",
            "'S'  .----. ... .----.\n",
            "\"O\" .-..-. --- .-..-.\n",
            "so s\n"
          ],
          "name": "stdout"
        }
      ]
    },
    {
      "cell_type": "code",
      "metadata": {
        "id": "4T0b_gTQisyG",
        "colab_type": "code",
        "colab": {
          "base_uri": "https://localhost:8080/",
          "height": 72
        },
        "outputId": "5383f113-6634-4c82-ca19-79cbe29347b4"
      },
      "source": [
        "#Example 2-8-1\n",
        "\n",
        "def square_root(n):\n",
        "    'หาค่ารากที่สองของ n'\n",
        "    n0 = 1\n",
        "    n1 = n\n",
        "    for i in range(100):\n",
        "        n_mid = (n0+n1)/2\n",
        "        n2 = n_mid*n_mid\n",
        "        if n2 == n:\n",
        "            return n_mid\n",
        "        elif n2 < n:\n",
        "            n0 = n_mid\n",
        "        elif n2 > n:\n",
        "            n1 = n_mid\n",
        "    return n_mid\n",
        "\n",
        "if __name__ == \"__main__\":\n",
        "    print (\"Square Root 2 =\",square_root(2))\n",
        "    print (\"Square Root 4 =\",square_root(4))\n",
        "    print (\"Square Root 5 =\",square_root(5))\n",
        "    "
      ],
      "execution_count": 27,
      "outputs": [
        {
          "output_type": "stream",
          "text": [
            "Square Root 2 = 1.414213562373095\n",
            "Square Root 4 = 2.0\n",
            "Square Root 5 = 2.23606797749979\n"
          ],
          "name": "stdout"
        }
      ]
    },
    {
      "cell_type": "code",
      "metadata": {
        "id": "ULwf2SGmixDf",
        "colab_type": "code",
        "colab": {
          "base_uri": "https://localhost:8080/",
          "height": 163
        },
        "outputId": "55e0449b-0add-4c55-a333-4e3ae9d24d88"
      },
      "source": [
        "#Example 2-8-2\n",
        "\n",
        "def root(n,order=2):\n",
        "    'หาค่ารากลำดับใดๆ ของ n'\n",
        "    if n==0: \n",
        "        return 0\n",
        "    elif n<0:\n",
        "        return \"Cannot Calculate\"\n",
        "\n",
        "    n0,n1,n2 = 1,n,0\n",
        "    while abs(n2-n)>0.0001:\n",
        "        n_mid = (n0+n1)/2\n",
        "        n2 = n_mid**order\n",
        "        if n2 < n:\n",
        "            n0 = n_mid\n",
        "        elif n2 > n:\n",
        "            n1 = n_mid\n",
        "        elif n2 ==n:\n",
        "            return round(n_mid,3)\n",
        "    return round(n_mid,3)\n",
        "\n",
        "if __name__ == \"__main__\":\n",
        "    print (\"Root 2 of -2 =\",root(-2)) \n",
        "    print (\"Root 2 of 0 =\",root(0))\n",
        "    print (\"Root 2 of 2 =\",root(2))\n",
        "    print (\"Root 2 of 3 =\",root(3))\n",
        "    print (\"Root 2 of 4 =\",root(4))\n",
        "    print (\"Root 3 of 8 =\",root(8,3))\n",
        "    print (\"Root 4 of 81 =\",root(81,4))\n",
        "    print (\"Root 2.5 of 3 =\",root(3,2.5))"
      ],
      "execution_count": 28,
      "outputs": [
        {
          "output_type": "stream",
          "text": [
            "Root 2 of -2 = Cannot Calculate\n",
            "Root 2 of 0 = 0\n",
            "Root 2 of 2 = 1.414\n",
            "Root 2 of 3 = 1.732\n",
            "Root 2 of 4 = 2.0\n",
            "Root 3 of 8 = 2.0\n",
            "Root 4 of 81 = 3.0\n",
            "Root 2.5 of 3 = 1.552\n"
          ],
          "name": "stdout"
        }
      ]
    },
    {
      "cell_type": "code",
      "metadata": {
        "id": "_k2_KAfEi1Uh",
        "colab_type": "code",
        "colab": {
          "base_uri": "https://localhost:8080/",
          "height": 163
        },
        "outputId": "244a5688-3d8a-4c91-fa0c-59181be864d7"
      },
      "source": [
        "#Example 2-8-3\n",
        "'หา root ด้วยสูตร root n of x = x**(1/n)'\n",
        "\n",
        "if __name__ == \"__main__\":\n",
        "    print (\"Root 2 of -2 =\",(-2)**(1/2)) #Wrong Answer\n",
        "    print (\"Root 2 of 0 =\",0**(1/2))\n",
        "    print (\"Root 2 of 2 =\",2**(1/2))\n",
        "    print (\"Root 2 of 3 =\",3**(1/2))\n",
        "    print (\"Root 2 of 4 =\",4**(1/2))\n",
        "    print (\"Root 3 of 8 =\",8**(1/3))\n",
        "    print (\"Root 4 of 81 =\",81**(1/4))\n",
        "    print (\"Root 2.5 of 3 =\",3**(1/2.5))"
      ],
      "execution_count": 29,
      "outputs": [
        {
          "output_type": "stream",
          "text": [
            "Root 2 of -2 = (8.659560562354934e-17+1.4142135623730951j)\n",
            "Root 2 of 0 = 0.0\n",
            "Root 2 of 2 = 1.4142135623730951\n",
            "Root 2 of 3 = 1.7320508075688772\n",
            "Root 2 of 4 = 2.0\n",
            "Root 3 of 8 = 2.0\n",
            "Root 4 of 81 = 3.0\n",
            "Root 2.5 of 3 = 1.5518455739153598\n"
          ],
          "name": "stdout"
        }
      ]
    },
    {
      "cell_type": "code",
      "metadata": {
        "id": "m0ERw6xyi3xx",
        "colab_type": "code",
        "colab": {
          "base_uri": "https://localhost:8080/",
          "height": 90
        },
        "outputId": "8e80ad4f-55b2-40ff-d694-4128d9e520a8"
      },
      "source": [
        "#Example 2-8-4\n",
        "import math\n",
        "\n",
        "'หา root ด้วย math module'\n",
        "\n",
        "if __name__ == \"__main__\":\n",
        "    print (\"Root 2 of 0 =\",math.sqrt(0))\n",
        "    print (\"Root 2 of 2 =\",math.sqrt(2))\n",
        "    print (\"Root 2 of 3 =\",math.sqrt(3))\n",
        "    print (\"Root 2 of 4 =\",math.sqrt(4))"
      ],
      "execution_count": 30,
      "outputs": [
        {
          "output_type": "stream",
          "text": [
            "Root 2 of 0 = 0.0\n",
            "Root 2 of 2 = 1.4142135623730951\n",
            "Root 2 of 3 = 1.7320508075688772\n",
            "Root 2 of 4 = 2.0\n"
          ],
          "name": "stdout"
        }
      ]
    },
    {
      "cell_type": "code",
      "metadata": {
        "id": "8moSp8utjAkL",
        "colab_type": "code",
        "colab": {
          "base_uri": "https://localhost:8080/",
          "height": 110
        },
        "outputId": "3771bd8b-c728-44fa-b0cd-1b7c3e01f29a"
      },
      "source": [
        "#Example 2-9-1\n",
        "\n",
        "def prime(n):\n",
        "    'หาจำนวนเฉพาะตั้งแต่ 2 ถึง n'\n",
        "    \n",
        "    aList=[2]\n",
        "    for num in range(n):\n",
        "        if num>1:\n",
        "            for i in range(2,num):\n",
        "                if num%i ==0:\n",
        "                    break\n",
        "                elif i==num-1:\n",
        "                    aList.append(num) \n",
        "    return aList\n",
        "\n",
        "if __name__ == \"__main__\":\n",
        "    print (\"จำนวนเฉพาะที่น้อยกว่า 97\",prime(97))\n",
        "    print (\"\\n\")\n",
        "    print (\"จำนวนเฉพาะที่น้อยกว่า 200 คือ\",prime(200))"
      ],
      "execution_count": 31,
      "outputs": [
        {
          "output_type": "stream",
          "text": [
            "จำนวนเฉพาะที่น้อยกว่า 97 [2, 3, 5, 7, 11, 13, 17, 19, 23, 29, 31, 37, 41, 43, 47, 53, 59, 61, 67, 71, 73, 79, 83, 89]\n",
            "\n",
            "\n",
            "จำนวนเฉพาะที่น้อยกว่า 200 คือ [2, 3, 5, 7, 11, 13, 17, 19, 23, 29, 31, 37, 41, 43, 47, 53, 59, 61, 67, 71, 73, 79, 83, 89, 97, 101, 103, 107, 109, 113, 127, 131, 137, 139, 149, 151, 157, 163, 167, 173, 179, 181, 191, 193, 197, 199]\n"
          ],
          "name": "stdout"
        }
      ]
    },
    {
      "cell_type": "code",
      "metadata": {
        "id": "pAQYxJDIjHdA",
        "colab_type": "code",
        "colab": {
          "base_uri": "https://localhost:8080/",
          "height": 181
        },
        "outputId": "d53bf73d-c87a-4820-da9b-e1f37b8596f6"
      },
      "source": [
        "#Example 2-9-2\n",
        "\n",
        "def factorize(num):\n",
        "    'แยกตัวประกอบ'\n",
        "\n",
        "    aList = []\n",
        "    i=2\n",
        "    while i<=num:\n",
        "        if num%i==0:\n",
        "            num=num/i\n",
        "            aList.append(i)\n",
        "            i=2\n",
        "        else:\n",
        "            i+=1\n",
        "    return aList\n",
        "\n",
        "if __name__ == \"__main__\":\n",
        "    print (factorize(0))\n",
        "    print (factorize(10))\n",
        "    print (factorize(8))\n",
        "    print (*factorize(16))\n",
        "    print (*factorize(30))\n",
        "    print (\"factor of\", str(2*3*7*2*5*11*11), \\\n",
        "    \"is\",*set(factorize(2*3*7*2*5*11*11)))\n",
        "    print (' * '.join(map(str,factorize(99020))),\" = 99020\")\n",
        "    print (' * '.join(map(str,factorize(990200))), \" = 990200\")\n",
        "    print (\"factor of 990200 is\",set(factorize(990200)))\n",
        "    \n",
        "    "
      ],
      "execution_count": 32,
      "outputs": [
        {
          "output_type": "stream",
          "text": [
            "[]\n",
            "[2, 5]\n",
            "[2, 2, 2]\n",
            "2 2 2 2\n",
            "2 3 5\n",
            "factor of 50820 is 2 3 5 7 11\n",
            "2 * 2 * 5 * 4951  = 99020\n",
            "2 * 2 * 2 * 5 * 5 * 4951  = 990200\n",
            "factor of 990200 is {2, 5, 4951}\n"
          ],
          "name": "stdout"
        }
      ]
    },
    {
      "cell_type": "code",
      "metadata": {
        "id": "u3le-G7xjMMw",
        "colab_type": "code",
        "colab": {
          "base_uri": "https://localhost:8080/",
          "height": 126
        },
        "outputId": "a45e459a-02cf-4707-829a-e9e731aa7708"
      },
      "source": [
        "#Example 2-10-1\n",
        "\n",
        "def gcd(n1,n2):\n",
        "    'หารร่วมมาก(หรม.) greatest common diversor(gcd) สองจำนวน'\n",
        "    \n",
        "    while n2!=0:\n",
        "        #print (n1,n2)\n",
        "        n1,n2 = n2, n1%n2\n",
        "    return n1\n",
        "\n",
        "if __name__ == \"__main__\":\n",
        "    print (gcd(5,3))\n",
        "    print (gcd(2,8))\n",
        "    print (gcd(6,8))\n",
        "    print (gcd(35,77))\n",
        "    print (gcd(625,50))\n",
        "    print (gcd(72,21))\n"
      ],
      "execution_count": 33,
      "outputs": [
        {
          "output_type": "stream",
          "text": [
            "1\n",
            "2\n",
            "2\n",
            "7\n",
            "25\n",
            "3\n"
          ],
          "name": "stdout"
        }
      ]
    },
    {
      "cell_type": "code",
      "metadata": {
        "id": "JHM2vx01jRCe",
        "colab_type": "code",
        "colab": {
          "base_uri": "https://localhost:8080/",
          "height": 90
        },
        "outputId": "e491d7de-0e38-4c3d-a6c7-2773852c77ee"
      },
      "source": [
        "#Example 2-10-2\n",
        "\n",
        "def gcd(aList):\n",
        "    'หารร่วมมาก(หรม.) greatest common diversor (gcd) หลายจำนวน'\n",
        "    while len(aList)>1:        \n",
        "        n1 = aList[0]\n",
        "        n2 = aList[1]\n",
        "        while n2!=0:\n",
        "            n1,n2 = n2,n1%n2\n",
        "        aList[1] = n1\n",
        "        del aList[0]\n",
        "    return n1\n",
        "\n",
        "if __name__ == \"__main__\":\n",
        "\n",
        "    print (gcd([10,15,20,30]))\n",
        "    print (gcd([45,30,60,120]))\n",
        "    print (gcd([49,35,77,70]))\n",
        "    print (gcd([26,39]))\n",
        "    "
      ],
      "execution_count": 34,
      "outputs": [
        {
          "output_type": "stream",
          "text": [
            "5\n",
            "15\n",
            "7\n",
            "13\n"
          ],
          "name": "stdout"
        }
      ]
    },
    {
      "cell_type": "code",
      "metadata": {
        "id": "BZqIfm2MjWJd",
        "colab_type": "code",
        "colab": {
          "base_uri": "https://localhost:8080/",
          "height": 90
        },
        "outputId": "b2c1d72e-f132-487b-a71c-18371ef7ee80"
      },
      "source": [
        "#Example 2-10-3\n",
        "\n",
        "def gcd(aList):\n",
        "    'หาค่าหารร่วมมาก(หรม.) greatest common diversor (gcd) หลายจำนวน'\n",
        "    \n",
        "    while len(aList)>1:\n",
        "        while aList[1]!=0:\n",
        "            aList[0],aList[1] = aList[1],aList[0]%aList[1]\n",
        "        del aList[1]\n",
        "    return aList[0]\n",
        "\n",
        "if __name__ == \"__main__\":\n",
        "    print (gcd([10,15,20,30]))\n",
        "    print (gcd([45,30,120,60]))\n",
        "    print (gcd([49,35,77,70]))\n",
        "    print (gcd([26,39]))\n",
        "    "
      ],
      "execution_count": 35,
      "outputs": [
        {
          "output_type": "stream",
          "text": [
            "5\n",
            "15\n",
            "7\n",
            "13\n"
          ],
          "name": "stdout"
        }
      ]
    },
    {
      "cell_type": "code",
      "metadata": {
        "id": "Q_mSfhOWjZ_q",
        "colab_type": "code",
        "colab": {
          "base_uri": "https://localhost:8080/",
          "height": 126
        },
        "outputId": "44edbc1a-9cc7-4faa-ebe4-bce2acc1a504"
      },
      "source": [
        "#Example 2-10-4\n",
        "\n",
        "'หาค่าหารร่วมมาก(หรม.) greatest common diversor (gcd) ด้วย math library'\n",
        "import math\n",
        "\n",
        "if __name__ == \"__main__\":\n",
        "    print (math.gcd(5,3))\n",
        "    print (math.gcd(2,8))\n",
        "    print (math.gcd(6,8))\n",
        "    print (math.gcd(35,77))\n",
        "    print (math. gcd(625,50))\n",
        "    print (math.gcd(math.gcd(math.gcd(49,35),77),70))\n",
        "        \n"
      ],
      "execution_count": 36,
      "outputs": [
        {
          "output_type": "stream",
          "text": [
            "1\n",
            "2\n",
            "2\n",
            "7\n",
            "25\n",
            "7\n"
          ],
          "name": "stdout"
        }
      ]
    },
    {
      "cell_type": "code",
      "metadata": {
        "id": "0TPLemfkje5S",
        "colab_type": "code",
        "colab": {
          "base_uri": "https://localhost:8080/",
          "height": 72
        },
        "outputId": "f17650f8-a232-4d8a-8d15-e17b5cf5956e"
      },
      "source": [
        "#Example 2-10-1\n",
        "\n",
        "def gcd(n1,n2):\n",
        "    'หารร่วมมาก(หรม.) สองจำนวน'\n",
        "    while n2!=0:\n",
        "        n1,n2 = n2, n1%n2\n",
        "    return n1\n",
        "\n",
        "def lcm(n1,n2):\n",
        "    'คูณร่วมน้อย(ครม.) least common multiple (lcm) สองจำนวน'\n",
        "    return int(n1*n2/gcd(n1,n2))\n",
        "\n",
        "if __name__ == \"__main__\":\n",
        "    print (lcm(20,30))\n",
        "    print (lcm(3,7))\n",
        "    print(lcm(15,30))\n"
      ],
      "execution_count": 37,
      "outputs": [
        {
          "output_type": "stream",
          "text": [
            "60\n",
            "21\n",
            "30\n"
          ],
          "name": "stdout"
        }
      ]
    },
    {
      "cell_type": "code",
      "metadata": {
        "id": "7zzOlBUjjjG2",
        "colab_type": "code",
        "colab": {
          "base_uri": "https://localhost:8080/",
          "height": 108
        },
        "outputId": "bba7236b-8317-4837-86b6-7e87eadc435f"
      },
      "source": [
        "#Example 2-10-6\n",
        "\n",
        "def gcd(n1,n2):\n",
        "    'หารร่วมมาก(หรม.) สองจำนวน'\n",
        "    while n2!=0:\n",
        "        n1,n2 = n2, n1%n2\n",
        "    return n1\n",
        "\n",
        "def lcm(aList):\n",
        "    'คูณร่วมน้อย(ครน.) หลายจำนวน'\n",
        "    ans = aList[0]\n",
        "    for i in aList[1:]:\n",
        "        ans = int(ans*i/gcd(ans,i))\n",
        "    return ans\n",
        "\n",
        "if __name__ == \"__main__\":\n",
        "    print (lcm([20,30,40,5]))\n",
        "    print (lcm([3,7,2]))\n",
        "    print(lcm([15,30,45,60]))\n",
        "    print(lcm([2,5,10,12]))  \n",
        "    print (gcd(2,5))"
      ],
      "execution_count": 38,
      "outputs": [
        {
          "output_type": "stream",
          "text": [
            "120\n",
            "42\n",
            "180\n",
            "60\n",
            "1\n"
          ],
          "name": "stdout"
        }
      ]
    },
    {
      "cell_type": "code",
      "metadata": {
        "id": "UdT-L5Y0joFk",
        "colab_type": "code",
        "colab": {
          "base_uri": "https://localhost:8080/",
          "height": 54
        },
        "outputId": "6990bc0c-9181-48f8-a920-1de2e4b8b9d3"
      },
      "source": [
        "#Example 2-11-1\n",
        "\n",
        "def SelectionSort(aList):\n",
        "    'Selection Sort'\n",
        "    \n",
        "    for i in range(len(aList)):\n",
        "        min = i\n",
        "        for j in range(i+1,len(aList)):\n",
        "            if aList[min]>aList[j]:\n",
        "                min =j\n",
        "        aList[i],aList[min]= aList[min],aList[i]\n",
        "    return aList\n",
        "\n",
        "if __name__ == \"__main__\":\n",
        "    aList=[20,12,3,18,7,8,25,14]\n",
        "    print (\"Unsorted List = \",aList)\n",
        "    print (\"Sorted List = \",SelectionSort(aList))"
      ],
      "execution_count": 39,
      "outputs": [
        {
          "output_type": "stream",
          "text": [
            "Unsorted List =  [20, 12, 3, 18, 7, 8, 25, 14]\n",
            "Sorted List =  [3, 7, 8, 12, 14, 18, 20, 25]\n"
          ],
          "name": "stdout"
        }
      ]
    },
    {
      "cell_type": "code",
      "metadata": {
        "id": "dJijGMeQjsnu",
        "colab_type": "code",
        "colab": {
          "base_uri": "https://localhost:8080/",
          "height": 54
        },
        "outputId": "1b6b0258-6414-4c9e-d43d-fc5bd8b48991"
      },
      "source": [
        "#Example 2-11-2\n",
        "\n",
        "def BubbleSort(aList):\n",
        "    'Bubble Sort'\n",
        "    n= len(aList)\n",
        "    for i in range(len(aList)):\n",
        "        for j in range(0,n-i-1):\n",
        "            if aList[j]>aList[j+1]:\n",
        "                aList[j],aList[j+1]=aList[j+1],aList[j]          \n",
        "    return aList\n",
        "\n",
        "if __name__ == \"__main__\":\n",
        "    aList=[20,12,3,18,7,8,25,14]\n",
        "    print (\"Unsorted List = \",aList)\n",
        "    print (\"Sorted List = \",BubbleSort(aList))"
      ],
      "execution_count": 40,
      "outputs": [
        {
          "output_type": "stream",
          "text": [
            "Unsorted List =  [20, 12, 3, 18, 7, 8, 25, 14]\n",
            "Sorted List =  [3, 7, 8, 12, 14, 18, 20, 25]\n"
          ],
          "name": "stdout"
        }
      ]
    },
    {
      "cell_type": "code",
      "metadata": {
        "id": "1NJVV9sAkLfy",
        "colab_type": "code",
        "colab": {
          "base_uri": "https://localhost:8080/",
          "height": 108
        },
        "outputId": "de8feb58-5793-4513-e96a-f1f23419c6dd"
      },
      "source": [
        "#Example 2-11-3\n",
        " \n",
        "if __name__ == \"__main__\":\n",
        "    aList=[20,12,3,18,7,8,25,14]\n",
        "    print (\"Unsorted List = \",aList)\n",
        "    print (\"Sorted List 1 = \",sorted(aList))\n",
        "    print ()\n",
        "    aList=[20,12,3,18,7,8,25,14]\n",
        "    print (\"Unsorted List = \",aList)\n",
        "    aList.sort()\n",
        "    print (\"Sorted List 2 = \",aList)"
      ],
      "execution_count": 41,
      "outputs": [
        {
          "output_type": "stream",
          "text": [
            "Unsorted List =  [20, 12, 3, 18, 7, 8, 25, 14]\n",
            "Sorted List 1 =  [3, 7, 8, 12, 14, 18, 20, 25]\n",
            "\n",
            "Unsorted List =  [20, 12, 3, 18, 7, 8, 25, 14]\n",
            "Sorted List 2 =  [3, 7, 8, 12, 14, 18, 20, 25]\n"
          ],
          "name": "stdout"
        }
      ]
    },
    {
      "cell_type": "code",
      "metadata": {
        "id": "L3uLCpHmjwxq",
        "colab_type": "code",
        "colab": {
          "base_uri": "https://localhost:8080/",
          "height": 90
        },
        "outputId": "85c94269-4ae5-451a-b21a-7c2565f63388"
      },
      "source": [
        "#Example 2-12-1\n",
        "\n",
        "def LinearSearch(aList,key):\n",
        "    'LinearSearch return index'\n",
        "\n",
        "    for i in range(len(aList)):\n",
        "        if aList[i]==key:\n",
        "            return i\n",
        "    return \"Not Found!!!\"\n",
        "\n",
        "if __name__ == \"__main__\":\n",
        "    aList=[20,12,3,18,7,8,25,14]\n",
        "    print (\"Search 20 = \",LinearSearch(aList,20))\n",
        "    print (\"Search 18 = \",LinearSearch(aList,18))\n",
        "    print (\"Search 14 = \",LinearSearch(aList,14))\n",
        "    print (\"Search 30 = \",LinearSearch(aList,30))  "
      ],
      "execution_count": 42,
      "outputs": [
        {
          "output_type": "stream",
          "text": [
            "Search 20 =  0\n",
            "Search 18 =  3\n",
            "Search 14 =  7\n",
            "Search 30 =  Not Found!!!\n"
          ],
          "name": "stdout"
        }
      ]
    },
    {
      "cell_type": "code",
      "metadata": {
        "id": "6KN05mm0kcpl",
        "colab_type": "code",
        "colab": {
          "base_uri": "https://localhost:8080/",
          "height": 126
        },
        "outputId": "203fcc6e-d9d6-4b2b-8588-ccff79859df1"
      },
      "source": [
        "#Example 2-12-2\n",
        "\n",
        "def BinarySearch(aList,key):\n",
        "    'Binary Search return location of key in list'\n",
        "\n",
        "    first = 0\n",
        "    last = len(aList)-1\n",
        "    i = 0\n",
        "    found = False\n",
        "\n",
        "    while (first<=last) and found==False:\n",
        "        mid = (first+last)//2\n",
        "        if aList[mid] == key:\n",
        "            i=mid\n",
        "            found = True\n",
        "        else:\n",
        "            if key<aList[mid]:\n",
        "                last = mid-1\n",
        "            else:\n",
        "                first = mid+1\n",
        "\n",
        "    if found == False:\n",
        "        return \"Not Found!!!\"\n",
        "    else:\n",
        "        return i\n",
        "\n",
        "if __name__ == \"__main__\":\n",
        "    aList=[20,12,3,18,7,8,25,14]\n",
        "    print (\"Unsorted List = \", aList)\n",
        "    aList.sort()\n",
        "    print (\"Sorted List = \",aList)\n",
        "    print (\"Search 3 = \",BinarySearch(aList,3))\n",
        "    print (\"Search 18 = \",BinarySearch(aList,18))\n",
        "    print (\"Search 25 = \",BinarySearch(aList,25))\n",
        "    print (\"Search 30 = \",BinarySearch(aList,30))\n",
        "\n"
      ],
      "execution_count": 43,
      "outputs": [
        {
          "output_type": "stream",
          "text": [
            "Unsorted List =  [20, 12, 3, 18, 7, 8, 25, 14]\n",
            "Sorted List =  [3, 7, 8, 12, 14, 18, 20, 25]\n",
            "Search 3 =  0\n",
            "Search 18 =  5\n",
            "Search 25 =  7\n",
            "Search 30 =  Not Found!!!\n"
          ],
          "name": "stdout"
        }
      ]
    },
    {
      "cell_type": "code",
      "metadata": {
        "id": "iJF8ZyfJkotO",
        "colab_type": "code",
        "colab": {
          "base_uri": "https://localhost:8080/",
          "height": 72
        },
        "outputId": "b2ca335f-a705-4830-a531-8bf6429e9968"
      },
      "source": [
        "#Example 3-1-1\n",
        "\n",
        "def vowels(word):\n",
        "    vowels_list = [x for x in word if x.casefold() in \"aeiou\"]\n",
        "    return word, vowels_list, len(vowels_list)\n",
        "\n",
        "if __name__ == \"__main__\":\n",
        "    print (vowels(\"Thailand\"))\n",
        "    print (vowels(\"Malaysia\"))\n",
        "    print (vowels(\"Singapore\"))"
      ],
      "execution_count": 44,
      "outputs": [
        {
          "output_type": "stream",
          "text": [
            "('Thailand', ['a', 'i', 'a'], 3)\n",
            "('Malaysia', ['a', 'a', 'i', 'a'], 4)\n",
            "('Singapore', ['i', 'a', 'o', 'e'], 4)\n"
          ],
          "name": "stdout"
        }
      ]
    },
    {
      "cell_type": "code",
      "metadata": {
        "id": "vzGMtkaRk3zV",
        "colab_type": "code",
        "colab": {
          "base_uri": "https://localhost:8080/",
          "height": 108
        },
        "outputId": "19aa2f86-0dab-4b94-a037-aeab20c30164"
      },
      "source": [
        "#Example 3-1-2\n",
        "\n",
        "def x3(num):\n",
        "    return num*3\n",
        "\n",
        "if __name__ == \"__main__\":\n",
        "    aList = [1,2,3,5,8,11]\n",
        "    print (*list(map(x3,aList)))\n",
        "    print (*list(map(x3,[2,4,6,8])),sep=\"\\n\")"
      ],
      "execution_count": 45,
      "outputs": [
        {
          "output_type": "stream",
          "text": [
            "3 6 9 15 24 33\n",
            "6\n",
            "12\n",
            "18\n",
            "24\n"
          ],
          "name": "stdout"
        }
      ]
    },
    {
      "cell_type": "code",
      "metadata": {
        "id": "UmfjmK-DlAxr",
        "colab_type": "code",
        "colab": {
          "base_uri": "https://localhost:8080/",
          "height": 126
        },
        "outputId": "152970d4-efb9-4d7d-8645-1c226a3bcced"
      },
      "source": [
        "#Example 3-1-3\n",
        "\n",
        "if __name__ == \"__main__\":\n",
        "    word = \"AeIoU\"\n",
        "    print (word.upper())\n",
        "    print (word.lower())\n",
        "    print (word.swapcase())\n",
        "    print (word.isupper())\n",
        "    print (word.islower())\n",
        "    print (\"AEIOU\".isupper())"
      ],
      "execution_count": 46,
      "outputs": [
        {
          "output_type": "stream",
          "text": [
            "AEIOU\n",
            "aeiou\n",
            "aEiOu\n",
            "False\n",
            "False\n",
            "True\n"
          ],
          "name": "stdout"
        }
      ]
    },
    {
      "cell_type": "code",
      "metadata": {
        "id": "ni6uCAR1lToY",
        "colab_type": "code",
        "colab": {
          "base_uri": "https://localhost:8080/",
          "height": 90
        },
        "outputId": "6776f104-21f7-4644-dc01-7706b7dc1cba"
      },
      "source": [
        "#Example 3-1-4\n",
        "\n",
        "from calendar import isleap\n",
        "\n",
        "if __name__ == \"__main__\":\n",
        "    x = 99\n",
        "    while x != 0:\n",
        "        x = int(input(\"Enter Year: (0 to exit) \"))\n",
        "        if isleap(x):\n",
        "            print (f\"{x} is leap year.\")\n",
        "        else:\n",
        "            print (f\"{x} is not leap year.\")\n"
      ],
      "execution_count": 47,
      "outputs": [
        {
          "output_type": "stream",
          "text": [
            "Enter Year: (0 to exit) 2020\n",
            "2020 is leap year.\n",
            "Enter Year: (0 to exit) 0\n",
            "0 is leap year.\n"
          ],
          "name": "stdout"
        }
      ]
    },
    {
      "cell_type": "code",
      "metadata": {
        "id": "dyTO7eERlgW9",
        "colab_type": "code",
        "colab": {
          "base_uri": "https://localhost:8080/",
          "height": 72
        },
        "outputId": "91f1eb5f-72d0-4474-9b07-3088268ac1db"
      },
      "source": [
        "#Example 3-1-5\n",
        "\n",
        "if __name__ == \"__main__\":\n",
        "    x = \"abcdefgh\"[2:]\n",
        "    y = x[2:]\n",
        "    z = x[2:5]\n",
        "    print (x)\n",
        "    print (y)\n",
        "    print (z)"
      ],
      "execution_count": 48,
      "outputs": [
        {
          "output_type": "stream",
          "text": [
            "cdefgh\n",
            "efgh\n",
            "efg\n"
          ],
          "name": "stdout"
        }
      ]
    }
  ]
}